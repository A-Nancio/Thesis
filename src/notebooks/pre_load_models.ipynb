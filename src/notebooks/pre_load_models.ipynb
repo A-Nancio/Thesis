{
 "cells": [
  {
   "cell_type": "markdown",
   "metadata": {},
   "source": [
    "# Pre Load Models"
   ]
  },
  {
   "cell_type": "code",
   "execution_count": 2,
   "metadata": {},
   "outputs": [],
   "source": [
    "import sys\n",
    "sys.path.append('../')\n",
    "import os\n",
    "os.environ['TF_CPP_MIN_LOG_LEVEL'] = '3' \n",
    "\n",
    "from keras.layers import Dense, Dropout\n",
    "\n",
    "import tensorflow as tf\n",
    "import numpy as np\n",
    "from tqdm import tqdm\n",
    "from keras.layers import Dense, Dropout, GRU\n",
    "\n",
    "import pandas as pd\n",
    "import tensorflow as tf\n",
    "import numpy as np\n",
    "\n",
    "from machine_learning.models import DoubleProduction, DoubleConcatProduction, DoubleExtraProduction, DoubleExtraConcatProduction\n",
    "from data_processing.batch_generator import load_test_set\n",
    "tf.random.set_seed(42)"
   ]
  },
  {
   "cell_type": "markdown",
   "metadata": {},
   "source": [
    "### Dataset"
   ]
  },
  {
   "cell_type": "code",
   "execution_count": 3,
   "metadata": {},
   "outputs": [],
   "source": [
    "path = 'data'\n",
    "BATCH_SIZE = 1024\n",
    "SEQUENCE_LENGTH = 100"
   ]
  },
  {
   "cell_type": "code",
   "execution_count": 4,
   "metadata": {},
   "outputs": [],
   "source": [
    "sample_transaction = np.load(f'data/test/transactions.npy')[0]\n",
    "\n",
    "# TRAIN\n",
    "train_labels = np.load(f'{path}/train/all_transaction_labels.npy').astype(float)\n",
    "train_set = tf.data.Dataset.from_tensor_slices(\n",
    "    (np.load(f'{path}/train/transactions.npy'), \n",
    "     train_labels)\n",
    ").batch(1)\n",
    "\n",
    "# TEST\n",
    "test_labels = np.load(f'{path}/test/all_transaction_labels.npy').astype(float)\n",
    "test_set = tf.data.Dataset.from_tensor_slices(\n",
    "    (np.load(f'{path}/test/transactions.npy'), \n",
    "     test_labels)\n",
    ").batch(1)"
   ]
  },
  {
   "cell_type": "markdown",
   "metadata": {},
   "source": [
    "# Double"
   ]
  },
  {
   "cell_type": "code",
   "execution_count": 5,
   "metadata": {},
   "outputs": [],
   "source": [
    "model = DoubleProduction()"
   ]
  },
  {
   "cell_type": "code",
   "execution_count": 6,
   "metadata": {},
   "outputs": [],
   "source": [
    "model.compile(loss=tf.keras.losses.BinaryCrossentropy(),\n",
    "        optimizer=tf.keras.optimizers.Adam(),\n",
    "        metrics=[\n",
    "            tf.keras.metrics.BinaryAccuracy(),\n",
    "            tf.keras.metrics.TruePositives(), \n",
    "            tf.keras.metrics.TrueNegatives(),\n",
    "            tf.keras.metrics.FalsePositives(), \n",
    "            tf.keras.metrics.FalseNegatives(),\n",
    "            tf.keras.metrics.Precision(),\n",
    "            tf.keras.metrics.Recall()])\n",
    "\n",
    "# initialize weights\n",
    "model(np.expand_dims(sample_transaction, axis=0))\n",
    "model.load_weights(f'machine_learning/saved_models/{model.name}_{14}.keras')\n"
   ]
  },
  {
   "cell_type": "code",
   "execution_count": 7,
   "metadata": {},
   "outputs": [],
   "source": [
    "model.reset_gru()"
   ]
  },
  {
   "cell_type": "code",
   "execution_count": 8,
   "metadata": {},
   "outputs": [
    {
     "name": "stdout",
     "output_type": "stream",
     "text": [
      "1296675/1296675 [==============================] - 683s 526us/step - loss: 0.0205 - binary_accuracy: 0.9953 - true_positives: 2555.0000 - true_negatives: 1288073.0000 - false_positives: 1096.0000 - false_negatives: 4951.0000 - precision: 0.6998 - recall: 0.3404\n"
     ]
    },
    {
     "data": {
      "text/plain": [
       "[0.020471647381782532,\n",
       " 0.9953365325927734,\n",
       " 2555.0,\n",
       " 1288073.0,\n",
       " 1096.0,\n",
       " 4951.0,\n",
       " 0.6998082995414734,\n",
       " 0.34039434790611267]"
      ]
     },
     "execution_count": 8,
     "metadata": {},
     "output_type": "execute_result"
    }
   ],
   "source": [
    "model.evaluate(train_set)"
   ]
  },
  {
   "cell_type": "code",
   "execution_count": 9,
   "metadata": {},
   "outputs": [
    {
     "name": "stdout",
     "output_type": "stream",
     "text": [
      "[[0 0 0 0 0 0 0 0 0 0 0 0 0 0 0 0 0 0 0 0 0 0 0 0 0 0 0 0 0 0 0 0 0 0 0 0 0 0 0 0 0 0 0 0 0 0 0 0]\n",
      " [1 0.968557715 1 -0.907712281 0.478679448 -1 -0.165565312 -1 1 1 1 -0.996242702 1 0.987215698 1 -1 1 1 1 1 -0.999427736 0.192443788 1 1 -1 0.999997258 -1 1 1 -1 -1 1 -0.152285174 -0.00525893318 -0.999997556 1 0.999902964 0.841560781 0.999983668 -0.0848994255 1 -1 -0.945939481 0.986543536 1 0.999999702 0.999998391 -1]\n",
      " [1 0.873869777 1 -0.477733314 1 -1 -0.0410506 -1 1 1 1 -0.438200533 1 0.999999464 1 -0.999148369 1 1 1 1 -1 0.00992718432 1 1 -1 0.999704182 -1 1 -0.999998927 -1 -1 0.999986112 -0.823151171 -0.00138527446 -0.999352694 1 0.999740958 0.999505222 0.999999702 0.999996424 1 -1 0.999998629 -0.962480903 1 0.999914527 1 -1]\n",
      " [1 0.94645226 1 -0.602550626 0.999980867 -1 -5.48361186e-06 -1 1 1 1 0.307358086 1 0.997247279 1 0.981125 1 1 1 1 0.344316274 6.78879223e-05 1 -0.991442442 -1 0.493140906 -1 1 1 -1 -1 0.993941367 0 -0.00144753081 -0.149378449 1 0.993480623 0.928517044 1 -0.999998629 1 -1 0.999986231 0.954168558 1 0.997717738 0.999999344 -1]\n",
      " [1 0.99898231 1 -0.38797304 1 -1 -0.0449662507 -0.744407177 1 0.999981403 -1 -0.434669971 1 0.99999994 1 1 1 1 1 1 -1 0.0618784726 1 0.999979 -1 0.964598596 -1 1 -1 -1 -1 -0.946972966 -0.841479361 -0.000618821185 -0.97812587 1 0.999945 0.99069643 0.999999583 -1 0.997861266 -1 1 0.343858689 1 0.999746084 0.926868856 -1]\n",
      " [1 0.999998331 1 -0.182586923 1 -1 0 -0.983349741 1 0.999999821 -1 0.96241647 1 0.999999344 1 1 1 1 1 1 -1 0 1 1 -1 0.994077086 -1 1 -1 -1 -1 -0.136727616 0 -0.000167774109 0 1 5.36067034e-07 7.15255624e-07 0.00378615665 -1 -0.954480886 -1 1 0.955753744 1 0.997512937 0.999967813 -1]\n",
      " [1 0.997683406 1 -0.2774463 1 -1 -0.0805195495 -1 1 1 1 -0.997116923 1 1 1 0.847174466 1 1 1 1 -1 0.119465545 1 1 -1 0.999974072 -1 1 -1 -1 -1 -0.938706756 -0.401272148 -0.000906077039 -0.99646759 1 0.999996662 0.435696959 0.998415709 0.999918461 0.999937534 -1 0.999999106 -0.999805 1 0.999997556 0.989443183 -1]\n",
      " [1 0.999999821 1 -0.0564771183 1 -1 0 -1 1 0.999999225 1 0.0326729044 1 1 1 1 1 1 1 1 -1 0 1 1 -1 0.999994516 -1 1 -1 -1 -1 0.460303098 0 -9.29828639e-06 0 1 0 0 2.98023195e-07 1 -0.99709028 -1 1 -0.996547937 1 0.999997139 0.43448019 -1]\n",
      " [1 0.9233917 1 -0.0861039311 1 -1 -0.00670062844 -1 1 1 1 -0.995527625 1 1 1 1 1 1 1 1 -1 0.0462663583 1 1 -1 1 -1 1 -1 -1 -1 0.992470145 -0.137287527 -1.59739411e-05 -0.999999881 1 0.999995589 0.999976814 0.999815464 1 -1 -1 1 -0.882460058 1 1 -0.72241962 -1]\n",
      " [1 0.989040613 1 -0.0584217981 1 -1 -0.00643363269 -1 1 1 -0.999993742 -0.999598265 1 1 1 1 1 1 0.998075664 1 -1 0.00843656808 1 1 -1 0.999999523 -1 1 -1 -1 -1 -0.961078167 -0.00566864572 -3.08152448e-05 -0.992951751 1 0.999994159 0.996844828 0.999982834 0.999895096 -1 -1 1 -0.99118042 1 0.999817312 0.598033905 -1]\n",
      " [1 0.423667073 1 -0.139690161 1 -1 -0.0608687252 -1 1 0.999998331 -0.999998808 -0.999833941 1 1 1 0.999985158 1 1 1 1 -1 0.147867262 1 1 -1 1 -1 1 -1 -1 -1 0.45456171 -0.075513117 -0.000564527174 -0.999811947 1 0.999999642 0.999384105 0.999650955 -0.443027347 -1 -1 1 -0.999360681 1 0.999999 -0.30321306 -1]\n",
      " [1 0.751946449 1 -0.134854883 1 -1 -0.0229224861 -1 1 0.999996126 -1 -0.596744657 1 1 1 0.999393284 1 1 1 1 -1 0.0420147218 1 1 -1 1 -1 1 -1 -1 -1 -0.694429815 -0.0107854363 -0.000469591963 -0.999949396 1 0.999953568 0.999991715 0.999999881 1 -1 -1 1 -0.850405872 1 0.999999046 0.99424547 -1]\n",
      " [1 0.801849127 1 -0.0693324432 1 -1 -0.00592922606 -1 1 1 -0.999788105 -0.999944806 1 1 1 0.302961469 1 1 1 1 -1 0.00493079051 1 1 -1 0.999998629 -1 1 -1 -1 -1 0.892915905 -0.00367427804 -5.39411812e-05 -0.999462843 1 0.999504268 0.995858848 1 0.477689862 -1 -1 1 -0.361462891 1 0.998764 0.997602642 -1]\n",
      " [1 0.4200899 1 -0.000981982914 1 -1 0 -1 1 1 0.678080261 0 1 1 1 1 1 1 7.77818568e-05 0.000238415378 -1 0 1 1 -1 1 -1 1 -1 -1 -0.0731637403 0.99999547 0 0 0 1 0 0 0 1 -1 -1 1 -0.999878585 1 1 -0.997838318 -1]\n",
      " [1 0.538922 1 -0.0150902038 1 -1 0 -1 1 1 1 -0.570033133 1 1 1 0.997268796 1 1 1 1 -1 0 1 1 -1 1 -1 1 -1 -1 -1 1 0 -1.1920929e-07 -2.76553783e-05 1 0.000233900137 0.00919074 0.12974301 1 -1 -1 1 -0.499465317 1 1 0.99912 -1]]\n"
     ]
    }
   ],
   "source": [
    "tf.print(model.category_gru.shared_states, summarize=-1)"
   ]
  },
  {
   "cell_type": "code",
   "execution_count": 13,
   "metadata": {},
   "outputs": [],
   "source": [
    "weight_path = f'machine_learning/pre_loaded_models/{model.name}.keras'\n",
    "model.save_weights(\n",
    "    filepath=weight_path,\n",
    "    save_format='h5'\n",
    ")"
   ]
  },
  {
   "cell_type": "code",
   "execution_count": 14,
   "metadata": {},
   "outputs": [
    {
     "name": "stdout",
     "output_type": "stream",
     "text": [
      "555719/555719 [==============================] - 299s 538us/step - loss: 0.0164 - binary_accuracy: 0.9965 - true_positives: 670.0000 - true_negatives: 553095.0000 - false_positives: 479.0000 - false_negatives: 1475.0000 - precision: 0.5831 - recall: 0.3124\n"
     ]
    },
    {
     "data": {
      "text/plain": [
       "[0.01641053520143032,\n",
       " 0.9964838624000549,\n",
       " 670.0,\n",
       " 553095.0,\n",
       " 479.0,\n",
       " 1475.0,\n",
       " 0.5831157565116882,\n",
       " 0.31235432624816895]"
      ]
     },
     "execution_count": 14,
     "metadata": {},
     "output_type": "execute_result"
    }
   ],
   "source": [
    "model.evaluate(test_set)"
   ]
  },
  {
   "cell_type": "markdown",
   "metadata": {},
   "source": [
    "# Remaining Models"
   ]
  },
  {
   "cell_type": "code",
   "execution_count": 5,
   "metadata": {},
   "outputs": [
    {
     "name": "stdout",
     "output_type": "stream",
     "text": [
      "1296675/1296675 [==============================] - 752s 579us/step - loss: 0.0198 - binary_accuracy: 0.9954 - true_positives: 3190.0000 - true_negatives: 1287585.0000 - false_positives: 1584.0000 - false_negatives: 4316.0000 - precision: 0.6682 - recall: 0.4250\n",
      "1296675/1296675 [==============================] - 880s 679us/step - loss: 0.0249 - binary_accuracy: 0.9919 - true_positives_1: 4156.0000 - true_negatives_1: 1282058.0000 - false_positives_1: 7111.0000 - false_negatives_1: 3350.0000 - precision_1: 0.3689 - recall_1: 0.5537\n",
      "1296675/1296675 [==============================] - 712s 549us/step - loss: 0.0220 - binary_accuracy: 0.9942 - true_positives_2: 2504.0000 - true_negatives_2: 1286704.0000 - false_positives_2: 2465.0000 - false_negatives_2: 5002.0000 - precision_2: 0.5039 - recall_2: 0.3336\n"
     ]
    }
   ],
   "source": [
    "model_list = [(DoubleConcatProduction, 19), (DoubleExtraProduction, 19), (DoubleExtraConcatProduction, 12)]\n",
    "for model_class, epoch in model_list:\n",
    "    model = model_class()\n",
    "\n",
    "    model.compile(loss=tf.keras.losses.BinaryCrossentropy(),\n",
    "        optimizer=tf.keras.optimizers.Adam(),\n",
    "        metrics=[\n",
    "            tf.keras.metrics.BinaryAccuracy(),\n",
    "            tf.keras.metrics.TruePositives(), \n",
    "            tf.keras.metrics.TrueNegatives(),\n",
    "            tf.keras.metrics.FalsePositives(), \n",
    "            tf.keras.metrics.FalseNegatives(),\n",
    "            tf.keras.metrics.Precision(),\n",
    "            tf.keras.metrics.Recall()])\n",
    "\n",
    "    # initialize weights\n",
    "    model(np.expand_dims(sample_transaction, axis=0))\n",
    "    model.load_weights(f'machine_learning/saved_models/{model.name}_{epoch}.keras')\n",
    "\n",
    "    model.reset_gru()\n",
    "    model.evaluate(train_set)\n",
    "\n",
    "    weight_path = f'machine_learning/pre_loaded_models/{model.name}.keras'\n",
    "    model.save_weights(\n",
    "        filepath=weight_path,\n",
    "        save_format='h5'\n",
    "    )"
   ]
  }
 ],
 "metadata": {
  "kernelspec": {
   "display_name": "thesis",
   "language": "python",
   "name": "python3"
  },
  "language_info": {
   "codemirror_mode": {
    "name": "ipython",
    "version": 3
   },
   "file_extension": ".py",
   "mimetype": "text/x-python",
   "name": "python",
   "nbconvert_exporter": "python",
   "pygments_lexer": "ipython3",
   "version": "3.11.2"
  },
  "orig_nbformat": 4
 },
 "nbformat": 4,
 "nbformat_minor": 2
}
