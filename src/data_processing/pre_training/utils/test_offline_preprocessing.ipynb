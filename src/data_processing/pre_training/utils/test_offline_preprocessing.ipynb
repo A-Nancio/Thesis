{
 "cells": [
  {
   "attachments": {},
   "cell_type": "markdown",
   "metadata": {},
   "source": [
    "# Testing for preprocesing functions"
   ]
  },
  {
   "attachments": {},
   "cell_type": "markdown",
   "metadata": {},
   "source": [
    "Import statements:"
   ]
  },
  {
   "cell_type": "code",
   "execution_count": 3,
   "metadata": {},
   "outputs": [],
   "source": [
    "import sys\n",
    "sys.path.append('../')\n",
    "\n",
    "import pandas as pd\n",
    "import numpy as np\n",
    "from data_processing.offline_preprocessing import convert_bucket_feat, convert_categorical_feat, convert_time"
   ]
  },
  {
   "attachments": {},
   "cell_type": "markdown",
   "metadata": {},
   "source": [
    "Load Series:"
   ]
  },
  {
   "cell_type": "code",
   "execution_count": 9,
   "metadata": {},
   "outputs": [],
   "source": [
    "numerical_feat = pd.Series([1,2,3,3,3,3,2,4,4,2,5])"
   ]
  },
  {
   "attachments": {},
   "cell_type": "markdown",
   "metadata": {},
   "source": [
    "## Convert to buckets:"
   ]
  },
  {
   "attachments": {},
   "cell_type": "markdown",
   "metadata": {},
   "source": [
    "Percentile bucketing for features with multimodal distributions, or with which we do not expect the fraud risk to vary\n",
    "smoothly, such as latitude or longitude. Percentile bucketing\n",
    "amounts to creating bins between every pair of consecutive\n",
    "percentiles computed from the training set, and transforming\n",
    "feature values to the index of the bin in which they land"
   ]
  },
  {
   "cell_type": "code",
   "execution_count": 10,
   "metadata": {},
   "outputs": [
    {
     "data": {
      "text/plain": [
       "0      0\n",
       "1      9\n",
       "2     39\n",
       "3     39\n",
       "4     39\n",
       "5     39\n",
       "6      9\n",
       "7     79\n",
       "8     79\n",
       "9      9\n",
       "10    99\n",
       "dtype: int64"
      ]
     },
     "execution_count": 10,
     "metadata": {},
     "output_type": "execute_result"
    }
   ],
   "source": [
    "convert_bucket_feat(numerical_feat)"
   ]
  },
  {
   "attachments": {},
   "cell_type": "markdown",
   "metadata": {},
   "source": [
    "## Convert categorical features:"
   ]
  },
  {
   "attachments": {},
   "cell_type": "markdown",
   "metadata": {},
   "source": [
    "We index each categorical feature by\n",
    "mapping each possible value into an integer based on the number\n",
    "of occurrences in the training set. For a given categorical feature,\n",
    "x_cj, the lth most frequent value is mapped to the integer x′_cj = l−1.\n",
    "\n",
    "All values below a certain number of occurrences map to the same\n",
    "integer lmax . Missing values are considered a possible value"
   ]
  },
  {
   "cell_type": "code",
   "execution_count": 11,
   "metadata": {},
   "outputs": [
    {
     "data": {
      "text/plain": [
       "0     3\n",
       "1     2\n",
       "2     1\n",
       "3     1\n",
       "4     1\n",
       "5     1\n",
       "6     2\n",
       "7     3\n",
       "8     3\n",
       "9     2\n",
       "10    3\n",
       "dtype: int64"
      ]
     },
     "execution_count": 11,
     "metadata": {},
     "output_type": "execute_result"
    }
   ],
   "source": [
    "convert_categorical_feat(numerical_feat, 3)"
   ]
  },
  {
   "attachments": {},
   "cell_type": "markdown",
   "metadata": {},
   "source": [
    "## Convert timestamps:"
   ]
  },
  {
   "attachments": {},
   "cell_type": "markdown",
   "metadata": {},
   "source": [
    "The event timestamp feature is transformed into the sine and cosine of its projection into daily, weekly, and monthly seasonality circles, i.e., a timestamp x_tk generates:\n",
    "- hour-of-day features sin(hk) and cos(hk)\n",
    "- day-of-week features sin(dwk) and cos(dwk)\n",
    "- day-of-month features sin(dmk) and cos(dmk)"
   ]
  },
  {
   "cell_type": "code",
   "execution_count": 12,
   "metadata": {},
   "outputs": [
    {
     "data": {
      "text/plain": [
       "(0     0.000000\n",
       " 1     0.974928\n",
       " 2    -0.433884\n",
       " 3    -0.433884\n",
       " 4    -0.433884\n",
       " 5    -0.433884\n",
       " 6     0.974928\n",
       " 7     0.974928\n",
       " 8     0.974928\n",
       " 9     0.974928\n",
       " 10    0.781831\n",
       " dtype: float64,\n",
       " 0     1.000000\n",
       " 1    -0.222521\n",
       " 2    -0.900969\n",
       " 3    -0.900969\n",
       " 4    -0.900969\n",
       " 5    -0.900969\n",
       " 6    -0.222521\n",
       " 7    -0.222521\n",
       " 8    -0.222521\n",
       " 9    -0.222521\n",
       " 10    0.623490\n",
       " dtype: float64)"
      ]
     },
     "execution_count": 12,
     "metadata": {},
     "output_type": "execute_result"
    }
   ],
   "source": [
    "convert_time(numerical_feat, 7)"
   ]
  }
 ],
 "metadata": {
  "kernelspec": {
   "display_name": "thesis",
   "language": "python",
   "name": "python3"
  },
  "language_info": {
   "codemirror_mode": {
    "name": "ipython",
    "version": 3
   },
   "file_extension": ".py",
   "mimetype": "text/x-python",
   "name": "python",
   "nbconvert_exporter": "python",
   "pygments_lexer": "ipython3",
   "version": "3.9.16"
  },
  "orig_nbformat": 4,
  "vscode": {
   "interpreter": {
    "hash": "e1c8d70582e99c6d94fd9ce1c8520e52ffd743356a35b6af43fc12b76ecf0483"
   }
  }
 },
 "nbformat": 4,
 "nbformat_minor": 2
}
