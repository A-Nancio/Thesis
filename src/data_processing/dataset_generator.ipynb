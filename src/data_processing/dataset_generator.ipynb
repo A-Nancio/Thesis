{
 "cells": [
  {
   "attachments": {},
   "cell_type": "markdown",
   "metadata": {},
   "source": [
    "# Dataset Generation"
   ]
  },
  {
   "attachments": {},
   "cell_type": "markdown",
   "metadata": {},
   "source": [
    "### Import statements and data loading"
   ]
  },
  {
   "cell_type": "code",
   "execution_count": 1,
   "metadata": {
    "ExecuteTime": {
     "start_time": "2023-04-15T12:34:31.826737Z",
     "end_time": "2023-04-15T12:34:35.609892Z"
    }
   },
   "outputs": [
    {
     "data": {
      "text/plain": "  trans_date_trans_time  cc_num  merchant  category       amt  gender   lat   \n0   2019-01-01 00:00:18     146       585        12 -0.408741       1  29.0  \\\n1   2019-01-01 00:00:44      51       105         2  0.233378       1  62.0   \n2   2019-01-01 00:00:51     860       366         7  0.942184      -1  69.0   \n3   2019-01-01 00:01:16     696        39         1 -0.157381      -1  37.0   \n4   2019-01-01 00:03:06     195       521        11 -0.176470      -1  62.0   \n\n   long  city_pop   unix_time  ...  merch_long  is_fraud  age   \n0  93.0 -0.282429  1325376018  ...        25.0         0   30  \\\n1  50.0 -0.293527  1325376044  ...        79.0         0   40   \n2  95.0 -0.280243  1325376051  ...        73.0         0   56   \n3  66.0 -0.287590  1325376076  ...        72.0         0   52   \n4  79.0 -0.293693  1325376186  ...        93.0         0   32   \n\n   trans_timedelta  trans_month_sin  trans_month_cos  trans_week_sin   \n0        -0.634966        -2.500818         1.529069        1.250178  \\\n1        -0.634966        -2.500818         1.529069        1.250178   \n2        -0.634966        -2.500818         1.529069        1.250178   \n3        -0.634966        -2.500818         1.529069        1.250178   \n4        -0.634966        -2.500818         1.529069        1.250178   \n\n   trans_week_cos  trans_hour_sin  trans_hour_cos  \n0        0.671264        0.197699        1.433818  \n1        0.671264        0.197699        1.433818  \n2        0.671264        0.197699        1.433818  \n3        0.671264        0.197699        1.433818  \n4        0.671264        0.197699        1.433818  \n\n[5 rows x 21 columns]",
      "text/html": "<div>\n<style scoped>\n    .dataframe tbody tr th:only-of-type {\n        vertical-align: middle;\n    }\n\n    .dataframe tbody tr th {\n        vertical-align: top;\n    }\n\n    .dataframe thead th {\n        text-align: right;\n    }\n</style>\n<table border=\"1\" class=\"dataframe\">\n  <thead>\n    <tr style=\"text-align: right;\">\n      <th></th>\n      <th>trans_date_trans_time</th>\n      <th>cc_num</th>\n      <th>merchant</th>\n      <th>category</th>\n      <th>amt</th>\n      <th>gender</th>\n      <th>lat</th>\n      <th>long</th>\n      <th>city_pop</th>\n      <th>unix_time</th>\n      <th>...</th>\n      <th>merch_long</th>\n      <th>is_fraud</th>\n      <th>age</th>\n      <th>trans_timedelta</th>\n      <th>trans_month_sin</th>\n      <th>trans_month_cos</th>\n      <th>trans_week_sin</th>\n      <th>trans_week_cos</th>\n      <th>trans_hour_sin</th>\n      <th>trans_hour_cos</th>\n    </tr>\n  </thead>\n  <tbody>\n    <tr>\n      <th>0</th>\n      <td>2019-01-01 00:00:18</td>\n      <td>146</td>\n      <td>585</td>\n      <td>12</td>\n      <td>-0.408741</td>\n      <td>1</td>\n      <td>29.0</td>\n      <td>93.0</td>\n      <td>-0.282429</td>\n      <td>1325376018</td>\n      <td>...</td>\n      <td>25.0</td>\n      <td>0</td>\n      <td>30</td>\n      <td>-0.634966</td>\n      <td>-2.500818</td>\n      <td>1.529069</td>\n      <td>1.250178</td>\n      <td>0.671264</td>\n      <td>0.197699</td>\n      <td>1.433818</td>\n    </tr>\n    <tr>\n      <th>1</th>\n      <td>2019-01-01 00:00:44</td>\n      <td>51</td>\n      <td>105</td>\n      <td>2</td>\n      <td>0.233378</td>\n      <td>1</td>\n      <td>62.0</td>\n      <td>50.0</td>\n      <td>-0.293527</td>\n      <td>1325376044</td>\n      <td>...</td>\n      <td>79.0</td>\n      <td>0</td>\n      <td>40</td>\n      <td>-0.634966</td>\n      <td>-2.500818</td>\n      <td>1.529069</td>\n      <td>1.250178</td>\n      <td>0.671264</td>\n      <td>0.197699</td>\n      <td>1.433818</td>\n    </tr>\n    <tr>\n      <th>2</th>\n      <td>2019-01-01 00:00:51</td>\n      <td>860</td>\n      <td>366</td>\n      <td>7</td>\n      <td>0.942184</td>\n      <td>-1</td>\n      <td>69.0</td>\n      <td>95.0</td>\n      <td>-0.280243</td>\n      <td>1325376051</td>\n      <td>...</td>\n      <td>73.0</td>\n      <td>0</td>\n      <td>56</td>\n      <td>-0.634966</td>\n      <td>-2.500818</td>\n      <td>1.529069</td>\n      <td>1.250178</td>\n      <td>0.671264</td>\n      <td>0.197699</td>\n      <td>1.433818</td>\n    </tr>\n    <tr>\n      <th>3</th>\n      <td>2019-01-01 00:01:16</td>\n      <td>696</td>\n      <td>39</td>\n      <td>1</td>\n      <td>-0.157381</td>\n      <td>-1</td>\n      <td>37.0</td>\n      <td>66.0</td>\n      <td>-0.287590</td>\n      <td>1325376076</td>\n      <td>...</td>\n      <td>72.0</td>\n      <td>0</td>\n      <td>52</td>\n      <td>-0.634966</td>\n      <td>-2.500818</td>\n      <td>1.529069</td>\n      <td>1.250178</td>\n      <td>0.671264</td>\n      <td>0.197699</td>\n      <td>1.433818</td>\n    </tr>\n    <tr>\n      <th>4</th>\n      <td>2019-01-01 00:03:06</td>\n      <td>195</td>\n      <td>521</td>\n      <td>11</td>\n      <td>-0.176470</td>\n      <td>-1</td>\n      <td>62.0</td>\n      <td>79.0</td>\n      <td>-0.293693</td>\n      <td>1325376186</td>\n      <td>...</td>\n      <td>93.0</td>\n      <td>0</td>\n      <td>32</td>\n      <td>-0.634966</td>\n      <td>-2.500818</td>\n      <td>1.529069</td>\n      <td>1.250178</td>\n      <td>0.671264</td>\n      <td>0.197699</td>\n      <td>1.433818</td>\n    </tr>\n  </tbody>\n</table>\n<p>5 rows × 21 columns</p>\n</div>"
     },
     "execution_count": 1,
     "metadata": {},
     "output_type": "execute_result"
    }
   ],
   "source": [
    "import sys\n",
    "sys.path.append('../')\n",
    "\n",
    "import pandas as pd\n",
    "import numpy as np\n",
    "\n",
    "raw = pd.read_csv('../../data/modified/modified_sparkov_dataframe.csv', index_col='Unnamed: 0')\n",
    "df = raw.copy(deep=True)\n",
    "df.head()"
   ]
  },
  {
   "attachments": {},
   "cell_type": "markdown",
   "metadata": {},
   "source": [
    "It is important things to note that the dataset is **by card and chronological order**\n",
    "\n",
    "---"
   ]
  },
  {
   "attachments": {},
   "cell_type": "markdown",
   "metadata": {},
   "source": [
    "### Creating sequences\n",
    "\n",
    "A sequence consists of ALL transactions belonging to a single entity, or credit card. \n",
    "\n",
    "To create sequences, it can be done by simply executing ```pandas.groupby()``` to group transactions by card, which in each group, it is sorted chronologically"
   ]
  },
  {
   "cell_type": "markdown",
   "source": [
    "#### Fraudlent sequences"
   ],
   "metadata": {
    "collapsed": false
   }
  },
  {
   "cell_type": "code",
   "execution_count": 2,
   "metadata": {
    "ExecuteTime": {
     "start_time": "2023-04-15T12:34:41.255975Z",
     "end_time": "2023-04-15T12:35:07.187006Z"
    }
   },
   "outputs": [],
   "source": [
    "CUTOFF_LENGTH = 100\n",
    "labels = df['is_fraud'].to_numpy()\n",
    "\n",
    "def create_fraud_sequences(group: pd.DataFrame):\n",
    "    group_ids = group.index.values.tolist()\n",
    "\n",
    "    # Generate sequences using a sliding window\n",
    "    sequences = []\n",
    "    for i in range(len(group_ids)-CUTOFF_LENGTH-1):\n",
    "        sequence = [group_ids[j] for j in range(i, i+CUTOFF_LENGTH)]\n",
    "\n",
    "        if labels[sequence[-1]] == 1:\n",
    "            sequences.append(sequence)\n",
    "    return sequences\n",
    "def create_non_fraud_sequences(group: pd.DataFrame):\n",
    "    group_ids = group.index.values.tolist()\n",
    "\n",
    "    # Generate sequences using a sliding window\n",
    "    sequences = []\n",
    "    for i in range(len(group_ids)-CUTOFF_LENGTH-1):\n",
    "        sequence = [group_ids[j] for j in range(i, i+CUTOFF_LENGTH)]\n",
    "        if labels[sequence[-1]] == 0:\n",
    "            sequences.append(sequence)\n",
    "\n",
    "    return sequences\n",
    "def create_all_sequences(group: pd.DataFrame):\n",
    "    # Order the transactions by 'unix_time'\n",
    "    group_ids = group.index.values.tolist()\n",
    "\n",
    "    # Generate sequences using a sliding window\n",
    "    sequences = []\n",
    "    for i in range(len(group_ids)-CUTOFF_LENGTH-1):\n",
    "        sequence = [group_ids[j] for j in range(i, i+CUTOFF_LENGTH)]\n",
    "        sequences.append(sequence)\n",
    "    return sequences\n",
    "\n",
    "groups = df.groupby('cc_num')\n",
    "\n",
    "\n",
    "fraud_sequences = groups.apply(create_fraud_sequences)\n",
    "non_fraud_sequences = groups.apply(create_non_fraud_sequences)\n",
    "all_sequences = groups.apply(create_non_fraud_sequences)\n",
    "\n",
    "sequences = [seq for subseqs in all_sequences for seq in subseqs]\n",
    "fraud = [seq for subseqs in fraud_sequences for seq in subseqs]\n",
    "non_fraud = [seq for subseqs in non_fraud_sequences for seq in subseqs]\n",
    "\n"
   ]
  },
  {
   "attachments": {},
   "cell_type": "markdown",
   "metadata": {},
   "source": [
    "---\n",
    "\n",
    "#### Matching sequences with labels"
   ]
  },
  {
   "cell_type": "code",
   "execution_count": 3,
   "metadata": {
    "ExecuteTime": {
     "start_time": "2023-04-15T12:35:36.582615Z",
     "end_time": "2023-04-15T12:35:38.386529Z"
    }
   },
   "outputs": [
    {
     "data": {
      "text/plain": "array([0, 0, 0, ..., 0, 0, 0])"
     },
     "execution_count": 3,
     "metadata": {},
     "output_type": "execute_result"
    }
   ],
   "source": [
    "\n",
    "\n",
    "def match_label(sequence):\n",
    "    return labels[sequence[-1]]\n",
    "\n",
    "sequence_labels = np.apply_along_axis(match_label, 1, sequences)\n",
    "labels"
   ]
  },
  {
   "cell_type": "code",
   "execution_count": 4,
   "metadata": {
    "ExecuteTime": {
     "start_time": "2023-04-15T12:36:29.068502Z",
     "end_time": "2023-04-15T12:36:29.079648Z"
    }
   },
   "outputs": [
    {
     "data": {
      "text/plain": "is_fraud\n0    1842743\n1       9651\nName: count, dtype: int64"
     },
     "execution_count": 4,
     "metadata": {},
     "output_type": "execute_result"
    }
   ],
   "source": [
    "df['is_fraud'].value_counts()"
   ]
  },
  {
   "attachments": {},
   "cell_type": "markdown",
   "metadata": {},
   "source": [
    "#### Convert dataset and sequence list to numpy arrays"
   ]
  },
  {
   "cell_type": "code",
   "execution_count": 5,
   "metadata": {
    "ExecuteTime": {
     "start_time": "2023-04-15T12:36:36.961174Z",
     "end_time": "2023-04-15T12:36:37.030953Z"
    }
   },
   "outputs": [
    {
     "data": {
      "text/plain": "         cc_num  merchant  category       amt  gender   lat  long  city_pop   \n0           146       585        12 -0.408741       1  29.0  93.0 -0.282429  \\\n1            51       105         2  0.233378       1  62.0  50.0 -0.293527   \n2           860       366         7  0.942184      -1  69.0  95.0 -0.280243   \n3           696        39         1 -0.157381      -1  37.0  66.0 -0.287590   \n4           195       521        11 -0.176470      -1  62.0  79.0 -0.293693   \n...         ...       ...       ...       ...     ...   ...   ...       ...   \n1852389     371       476        10 -0.165105      -1  62.0  22.0 -0.292300   \n1852390      55       207         5  0.262326      -1  37.0  51.0 -0.198697   \n1852391      87       205         5  0.105595       1  37.0  46.0 -0.281802   \n1852392     210       677        14 -0.389777      -1  42.0  80.0 -0.293593   \n1852393      86       367         7 -0.200520      -1  67.0   7.0  0.090741   \n\n         merch_lat  merch_long  age  trans_timedelta  trans_month_sin   \n0             49.0        25.0   30        -0.634966        -2.500818  \\\n1             57.0        79.0   40        -0.634966        -2.500818   \n2             63.0        73.0   56        -0.634966        -2.500818   \n3              7.0        72.0   52        -0.634966        -2.500818   \n4             58.0        93.0   32        -0.634966        -2.500818   \n...            ...         ...  ...              ...              ...   \n1852389       57.0        35.0   54        -0.259567        -0.783235   \n1852390       53.0        66.0   21        -0.415022        -0.783235   \n1852391        7.0        82.0   39        -0.618601        -0.783235   \n1852392       51.0        83.0   55        -0.363512        -0.783235   \n1852393       52.0        31.0   27        -0.473868        -0.783235   \n\n         trans_month_cos  trans_week_sin  trans_week_cos  trans_hour_sin   \n0               1.529069        1.250178        0.671264        0.197699  \\\n1               1.529069        1.250178        0.671264        0.197699   \n2               1.529069        1.250178        0.671264        0.197699   \n3               1.529069        1.250178        0.671264        0.197699   \n4               1.529069        1.250178        0.671264        0.197699   \n...                  ...             ...             ...             ...   \n1852389        -1.410651        0.742289       -1.477333       -0.175760   \n1852390        -1.410651        0.742289       -1.477333       -0.175760   \n1852391        -1.410651        0.742289       -1.477333       -0.175760   \n1852392        -1.410651        0.742289       -1.477333       -0.175760   \n1852393        -1.410651        0.742289       -1.477333       -0.175760   \n\n         trans_hour_cos  \n0              1.433818  \n1              1.433818  \n2              1.433818  \n3              1.433818  \n4              1.433818  \n...                 ...  \n1852389        1.385664  \n1852390        1.385664  \n1852391        1.385664  \n1852392        1.385664  \n1852393        1.385664  \n\n[1852394 rows x 18 columns]",
      "text/html": "<div>\n<style scoped>\n    .dataframe tbody tr th:only-of-type {\n        vertical-align: middle;\n    }\n\n    .dataframe tbody tr th {\n        vertical-align: top;\n    }\n\n    .dataframe thead th {\n        text-align: right;\n    }\n</style>\n<table border=\"1\" class=\"dataframe\">\n  <thead>\n    <tr style=\"text-align: right;\">\n      <th></th>\n      <th>cc_num</th>\n      <th>merchant</th>\n      <th>category</th>\n      <th>amt</th>\n      <th>gender</th>\n      <th>lat</th>\n      <th>long</th>\n      <th>city_pop</th>\n      <th>merch_lat</th>\n      <th>merch_long</th>\n      <th>age</th>\n      <th>trans_timedelta</th>\n      <th>trans_month_sin</th>\n      <th>trans_month_cos</th>\n      <th>trans_week_sin</th>\n      <th>trans_week_cos</th>\n      <th>trans_hour_sin</th>\n      <th>trans_hour_cos</th>\n    </tr>\n  </thead>\n  <tbody>\n    <tr>\n      <th>0</th>\n      <td>146</td>\n      <td>585</td>\n      <td>12</td>\n      <td>-0.408741</td>\n      <td>1</td>\n      <td>29.0</td>\n      <td>93.0</td>\n      <td>-0.282429</td>\n      <td>49.0</td>\n      <td>25.0</td>\n      <td>30</td>\n      <td>-0.634966</td>\n      <td>-2.500818</td>\n      <td>1.529069</td>\n      <td>1.250178</td>\n      <td>0.671264</td>\n      <td>0.197699</td>\n      <td>1.433818</td>\n    </tr>\n    <tr>\n      <th>1</th>\n      <td>51</td>\n      <td>105</td>\n      <td>2</td>\n      <td>0.233378</td>\n      <td>1</td>\n      <td>62.0</td>\n      <td>50.0</td>\n      <td>-0.293527</td>\n      <td>57.0</td>\n      <td>79.0</td>\n      <td>40</td>\n      <td>-0.634966</td>\n      <td>-2.500818</td>\n      <td>1.529069</td>\n      <td>1.250178</td>\n      <td>0.671264</td>\n      <td>0.197699</td>\n      <td>1.433818</td>\n    </tr>\n    <tr>\n      <th>2</th>\n      <td>860</td>\n      <td>366</td>\n      <td>7</td>\n      <td>0.942184</td>\n      <td>-1</td>\n      <td>69.0</td>\n      <td>95.0</td>\n      <td>-0.280243</td>\n      <td>63.0</td>\n      <td>73.0</td>\n      <td>56</td>\n      <td>-0.634966</td>\n      <td>-2.500818</td>\n      <td>1.529069</td>\n      <td>1.250178</td>\n      <td>0.671264</td>\n      <td>0.197699</td>\n      <td>1.433818</td>\n    </tr>\n    <tr>\n      <th>3</th>\n      <td>696</td>\n      <td>39</td>\n      <td>1</td>\n      <td>-0.157381</td>\n      <td>-1</td>\n      <td>37.0</td>\n      <td>66.0</td>\n      <td>-0.287590</td>\n      <td>7.0</td>\n      <td>72.0</td>\n      <td>52</td>\n      <td>-0.634966</td>\n      <td>-2.500818</td>\n      <td>1.529069</td>\n      <td>1.250178</td>\n      <td>0.671264</td>\n      <td>0.197699</td>\n      <td>1.433818</td>\n    </tr>\n    <tr>\n      <th>4</th>\n      <td>195</td>\n      <td>521</td>\n      <td>11</td>\n      <td>-0.176470</td>\n      <td>-1</td>\n      <td>62.0</td>\n      <td>79.0</td>\n      <td>-0.293693</td>\n      <td>58.0</td>\n      <td>93.0</td>\n      <td>32</td>\n      <td>-0.634966</td>\n      <td>-2.500818</td>\n      <td>1.529069</td>\n      <td>1.250178</td>\n      <td>0.671264</td>\n      <td>0.197699</td>\n      <td>1.433818</td>\n    </tr>\n    <tr>\n      <th>...</th>\n      <td>...</td>\n      <td>...</td>\n      <td>...</td>\n      <td>...</td>\n      <td>...</td>\n      <td>...</td>\n      <td>...</td>\n      <td>...</td>\n      <td>...</td>\n      <td>...</td>\n      <td>...</td>\n      <td>...</td>\n      <td>...</td>\n      <td>...</td>\n      <td>...</td>\n      <td>...</td>\n      <td>...</td>\n      <td>...</td>\n    </tr>\n    <tr>\n      <th>1852389</th>\n      <td>371</td>\n      <td>476</td>\n      <td>10</td>\n      <td>-0.165105</td>\n      <td>-1</td>\n      <td>62.0</td>\n      <td>22.0</td>\n      <td>-0.292300</td>\n      <td>57.0</td>\n      <td>35.0</td>\n      <td>54</td>\n      <td>-0.259567</td>\n      <td>-0.783235</td>\n      <td>-1.410651</td>\n      <td>0.742289</td>\n      <td>-1.477333</td>\n      <td>-0.175760</td>\n      <td>1.385664</td>\n    </tr>\n    <tr>\n      <th>1852390</th>\n      <td>55</td>\n      <td>207</td>\n      <td>5</td>\n      <td>0.262326</td>\n      <td>-1</td>\n      <td>37.0</td>\n      <td>51.0</td>\n      <td>-0.198697</td>\n      <td>53.0</td>\n      <td>66.0</td>\n      <td>21</td>\n      <td>-0.415022</td>\n      <td>-0.783235</td>\n      <td>-1.410651</td>\n      <td>0.742289</td>\n      <td>-1.477333</td>\n      <td>-0.175760</td>\n      <td>1.385664</td>\n    </tr>\n    <tr>\n      <th>1852391</th>\n      <td>87</td>\n      <td>205</td>\n      <td>5</td>\n      <td>0.105595</td>\n      <td>1</td>\n      <td>37.0</td>\n      <td>46.0</td>\n      <td>-0.281802</td>\n      <td>7.0</td>\n      <td>82.0</td>\n      <td>39</td>\n      <td>-0.618601</td>\n      <td>-0.783235</td>\n      <td>-1.410651</td>\n      <td>0.742289</td>\n      <td>-1.477333</td>\n      <td>-0.175760</td>\n      <td>1.385664</td>\n    </tr>\n    <tr>\n      <th>1852392</th>\n      <td>210</td>\n      <td>677</td>\n      <td>14</td>\n      <td>-0.389777</td>\n      <td>-1</td>\n      <td>42.0</td>\n      <td>80.0</td>\n      <td>-0.293593</td>\n      <td>51.0</td>\n      <td>83.0</td>\n      <td>55</td>\n      <td>-0.363512</td>\n      <td>-0.783235</td>\n      <td>-1.410651</td>\n      <td>0.742289</td>\n      <td>-1.477333</td>\n      <td>-0.175760</td>\n      <td>1.385664</td>\n    </tr>\n    <tr>\n      <th>1852393</th>\n      <td>86</td>\n      <td>367</td>\n      <td>7</td>\n      <td>-0.200520</td>\n      <td>-1</td>\n      <td>67.0</td>\n      <td>7.0</td>\n      <td>0.090741</td>\n      <td>52.0</td>\n      <td>31.0</td>\n      <td>27</td>\n      <td>-0.473868</td>\n      <td>-0.783235</td>\n      <td>-1.410651</td>\n      <td>0.742289</td>\n      <td>-1.477333</td>\n      <td>-0.175760</td>\n      <td>1.385664</td>\n    </tr>\n  </tbody>\n</table>\n<p>1852394 rows × 18 columns</p>\n</div>"
     },
     "execution_count": 5,
     "metadata": {},
     "output_type": "execute_result"
    }
   ],
   "source": [
    "df.drop(['trans_date_trans_time', 'unix_time', 'is_fraud'],axis=1,inplace=True)\n",
    "df"
   ]
  },
  {
   "cell_type": "code",
   "execution_count": null,
   "metadata": {
    "ExecuteTime": {
     "start_time": "2023-04-15T12:30:01.418466Z",
     "end_time": "2023-04-15T12:30:01.421272Z"
    }
   },
   "outputs": [],
   "source": [
    "df.dtypes"
   ]
  },
  {
   "cell_type": "code",
   "execution_count": 6,
   "metadata": {
    "ExecuteTime": {
     "start_time": "2023-04-15T12:36:46.919639Z",
     "end_time": "2023-04-15T12:37:01.715047Z"
    }
   },
   "outputs": [],
   "source": [
    "transaction_numpy = df.to_numpy()\n",
    "\n",
    "np.save('../../data/modified/modified_sparkov', transaction_numpy)\n",
    "np.save('../../data/modified/sparkov_labels', sequence_labels)\n",
    "np.save('../../data/modified/sparkov_all_sequences', sequences)\n",
    "np.save('../../data/modified/sparkov_fraud_sequences', fraud)\n",
    "np.save('../../data/modified/sparkov_non_fraud_sequences', non_fraud)"
   ]
  },
  {
   "cell_type": "code",
   "execution_count": null,
   "outputs": [],
   "source": [],
   "metadata": {
    "collapsed": false
   }
  }
 ],
 "metadata": {
  "kernelspec": {
   "display_name": "thesis",
   "language": "python",
   "name": "python3"
  },
  "language_info": {
   "codemirror_mode": {
    "name": "ipython",
    "version": 3
   },
   "file_extension": ".py",
   "mimetype": "text/x-python",
   "name": "python",
   "nbconvert_exporter": "python",
   "pygments_lexer": "ipython3",
   "version": "3.9.16"
  },
  "orig_nbformat": 4,
  "vscode": {
   "interpreter": {
    "hash": "e1c8d70582e99c6d94fd9ce1c8520e52ffd743356a35b6af43fc12b76ecf0483"
   }
  }
 },
 "nbformat": 4,
 "nbformat_minor": 2
}
