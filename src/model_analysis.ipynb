{
 "cells": [
  {
   "attachments": {},
   "cell_type": "markdown",
   "metadata": {},
   "source": [
    "# Model Analysis"
   ]
  },
  {
   "attachments": {},
   "cell_type": "markdown",
   "metadata": {},
   "source": [
    "Import statements:"
   ]
  },
  {
   "cell_type": "code",
   "execution_count": 1,
   "metadata": {},
   "outputs": [
    {
     "name": "stdout",
     "output_type": "stream",
     "text": [
      "/home/nancio/Documents/repos/Thesis/src\n"
     ]
    }
   ],
   "source": [
    "import sys\n",
    "sys.path.append('/')\n",
    "\n",
    "import os\n",
    "os.environ['TF_CPP_MIN_LOG_LEVEL'] = '3' \n",
    "from data_processing.batch_generator import load_train_set, load_test_set, load_pre_data, \\\n",
    "                                            load_train_sample, get_class_weights\n",
    "from machine_learning.models import DoubleStateTrainAsync, DoubleStateTrainSync, DoubleStateProduction, FeedzaiTrainAsync, FeedzaiTrainSync, FeedzaiProduction, BATCH_SIZE\n",
    "from machine_learning.pipeline import fit_cycle, compile_model\n",
    "from pandas import DataFrame\n",
    "import tensorflow as tf\n",
    "\n",
    "print(os.getcwd())"
   ]
  },
  {
   "attachments": {},
   "cell_type": "markdown",
   "metadata": {},
   "source": [
    "Set random seed:"
   ]
  },
  {
   "cell_type": "code",
   "execution_count": 2,
   "metadata": {},
   "outputs": [],
   "source": [
    "tf.random.set_seed(42)  # 42 is a random number for the seed generation"
   ]
  },
  {
   "attachments": {},
   "cell_type": "markdown",
   "metadata": {},
   "source": [
    "Define models:"
   ]
  },
  {
   "cell_type": "code",
   "execution_count": 3,
   "metadata": {},
   "outputs": [],
   "source": [
    "train_model = FeedzaiTrainAsync(name=\"Feedzai_train_async\")\n",
    "production_model = FeedzaiProduction(name=\"Feedzai_production_async\")"
   ]
  },
  {
   "attachments": {},
   "cell_type": "markdown",
   "metadata": {},
   "source": [
    "Load data:"
   ]
  },
  {
   "cell_type": "code",
   "execution_count": 4,
   "metadata": {},
   "outputs": [],
   "source": [
    "# For training loop\n",
    "train_set = load_train_set(batch_size=BATCH_SIZE)\n",
    "pre_test_data = load_pre_data()\n",
    "test_set = load_test_set()\n",
    "\n",
    "# Samples for analysis\n",
    "train_sample = load_train_sample(300)"
   ]
  },
  {
   "attachments": {},
   "cell_type": "markdown",
   "metadata": {},
   "source": [
    "Compile model & initialize weights:"
   ]
  },
  {
   "cell_type": "code",
   "execution_count": 5,
   "metadata": {},
   "outputs": [],
   "source": [
    "compile_model(train_model, train_set)\n",
    "compile_model(production_model, test_set)"
   ]
  },
  {
   "attachments": {},
   "cell_type": "markdown",
   "metadata": {},
   "source": [
    "Train model for a few epochs without validating"
   ]
  },
  {
   "cell_type": "code",
   "execution_count": 6,
   "metadata": {},
   "outputs": [
    {
     "name": "stdout",
     "output_type": "stream",
     "text": [
      "[EPOCH 0]\n",
      "1267/1267 [==============================] - 939s 739ms/step - loss: 0.1193 - binary_accuracy: 0.9919 - true_positives: 8.0000 - true_negatives: 1285999.0000 - false_positives: 3007.0000 - false_negatives: 7498.0000\n",
      "200/200 [==============================] - 0s 612us/step - loss: 0.3094 - binary_accuracy: 0.9850 - true_positives_1: 0.0000e+00 - true_negatives_1: 197.0000 - false_positives_1: 3.0000 - false_negatives_1: 0.0000e+00\n",
      "555719/555719 [==============================] - 327s 588us/step - loss: 0.2214 - binary_accuracy: 0.9917 - true_positives_1: 5.0000 - true_negatives_1: 551122.0000 - false_positives_1: 2452.0000 - false_negatives_1: 2140.0000\n",
      "[EPOCH 1]\n",
      "1267/1267 [==============================] - 936s 739ms/step - loss: 0.1156 - binary_accuracy: 0.9942 - true_positives: 0.0000e+00 - true_negatives: 1289006.0000 - false_positives: 0.0000e+00 - false_negatives: 7506.0000\n",
      "200/200 [==============================] - 0s 543us/step - loss: 0.3094 - binary_accuracy: 0.9850 - true_positives_1: 0.0000e+00 - true_negatives_1: 197.0000 - false_positives_1: 3.0000 - false_negatives_1: 0.0000e+00\n",
      "555719/555719 [==============================] - 331s 596us/step - loss: 0.2214 - binary_accuracy: 0.9917 - true_positives_1: 5.0000 - true_negatives_1: 551122.0000 - false_positives_1: 2452.0000 - false_negatives_1: 2140.0000\n",
      "[EPOCH 2]\n",
      "1267/1267 [==============================] - 965s 761ms/step - loss: 0.1149 - binary_accuracy: 0.9942 - true_positives: 0.0000e+00 - true_negatives: 1289006.0000 - false_positives: 0.0000e+00 - false_negatives: 7506.0000\n",
      "200/200 [==============================] - 0s 580us/step - loss: 0.3094 - binary_accuracy: 0.9850 - true_positives_1: 0.0000e+00 - true_negatives_1: 197.0000 - false_positives_1: 3.0000 - false_negatives_1: 0.0000e+00\n",
      "555719/555719 [==============================] - 332s 598us/step - loss: 0.2214 - binary_accuracy: 0.9917 - true_positives_1: 5.0000 - true_negatives_1: 551122.0000 - false_positives_1: 2452.0000 - false_negatives_1: 2140.0000\n",
      "[EPOCH 3]\n",
      " 219/1267 [====>.........................] - ETA: 13:06 - loss: 0.1431 - binary_accuracy: 0.9921 - true_positives: 0.0000e+00 - true_negatives: 222495.0000 - false_positives: 0.0000e+00 - false_negatives: 1761.0000"
     ]
    },
    {
     "ename": "KeyboardInterrupt",
     "evalue": "",
     "output_type": "error",
     "traceback": [
      "\u001b[0;31m---------------------------------------------------------------------------\u001b[0m",
      "\u001b[0;31mKeyboardInterrupt\u001b[0m                         Traceback (most recent call last)",
      "Cell \u001b[0;32mIn[6], line 4\u001b[0m\n\u001b[1;32m      1\u001b[0m \u001b[39mfor\u001b[39;00m epoch \u001b[39min\u001b[39;00m \u001b[39mrange\u001b[39m(\u001b[39m5\u001b[39m):\n\u001b[1;32m      2\u001b[0m         \u001b[39mprint\u001b[39m(\u001b[39mf\u001b[39m\u001b[39m\"\u001b[39m\u001b[39m[EPOCH \u001b[39m\u001b[39m{\u001b[39;00mepoch\u001b[39m}\u001b[39;00m\u001b[39m]\u001b[39m\u001b[39m\"\u001b[39m)\n\u001b[0;32m----> 4\u001b[0m         train_results, val_results \u001b[39m=\u001b[39m fit_cycle(training_model\u001b[39m=\u001b[39mtrain_model, \n\u001b[1;32m      5\u001b[0m                 production_model\u001b[39m=\u001b[39mproduction_model,\n\u001b[1;32m      6\u001b[0m                 train_dataset\u001b[39m=\u001b[39mtrain_set,\n\u001b[1;32m      7\u001b[0m                 pre_test_dataset\u001b[39m=\u001b[39mpre_test_data,\n\u001b[1;32m      8\u001b[0m                 test_dataset\u001b[39m=\u001b[39mtest_set,\n\u001b[1;32m      9\u001b[0m                 class_weights\u001b[39m=\u001b[39mget_class_weights()\n\u001b[1;32m     10\u001b[0m                 )\n",
      "File \u001b[0;32m~/Documents/repos/Thesis/src/machine_learning/pipeline.py:43\u001b[0m, in \u001b[0;36mfit_cycle\u001b[0;34m(training_model, production_model, train_dataset, pre_test_dataset, test_dataset, class_weights)\u001b[0m\n\u001b[1;32m     41\u001b[0m training_model\u001b[39m.\u001b[39mreset_gru()\n\u001b[1;32m     42\u001b[0m sys\u001b[39m.\u001b[39mstdout\u001b[39m.\u001b[39mwrite(\u001b[39m\"\u001b[39m\u001b[39m\\t\u001b[39;00m\u001b[39mTrain: \u001b[39m\u001b[39m\"\u001b[39m)\n\u001b[0;32m---> 43\u001b[0m train_results \u001b[39m=\u001b[39m \u001b[39mlist\u001b[39m(training_model\u001b[39m.\u001b[39mfit(train_dataset, \n\u001b[1;32m     44\u001b[0m                     epochs\u001b[39m=\u001b[39m\u001b[39m1\u001b[39m, \n\u001b[1;32m     45\u001b[0m                     class_weight\u001b[39m=\u001b[39mclass_weights, \n\u001b[1;32m     46\u001b[0m                     verbose\u001b[39m=\u001b[39m\u001b[39m'\u001b[39m\u001b[39mauto\u001b[39m\u001b[39m'\u001b[39m, \n\u001b[1;32m     47\u001b[0m                     shuffle\u001b[39m=\u001b[39m\u001b[39mTrue\u001b[39;00m)\u001b[39m.\u001b[39mhistory\u001b[39m.\u001b[39mvalues())\n\u001b[1;32m     50\u001b[0m training_model\u001b[39m.\u001b[39msave_weights(\n\u001b[1;32m     51\u001b[0m    filepath\u001b[39m=\u001b[39mtrain_weight_path,\n\u001b[1;32m     52\u001b[0m    save_format\u001b[39m=\u001b[39m\u001b[39m'\u001b[39m\u001b[39mh5\u001b[39m\u001b[39m'\u001b[39m\n\u001b[1;32m     53\u001b[0m )\n\u001b[1;32m     54\u001b[0m \u001b[39m#production_model.set_weights(training_model.get_weights())\u001b[39;00m\n",
      "File \u001b[0;32m~/miniconda3/envs/thesis/lib/python3.11/site-packages/keras/utils/traceback_utils.py:65\u001b[0m, in \u001b[0;36mfilter_traceback.<locals>.error_handler\u001b[0;34m(*args, **kwargs)\u001b[0m\n\u001b[1;32m     63\u001b[0m filtered_tb \u001b[39m=\u001b[39m \u001b[39mNone\u001b[39;00m\n\u001b[1;32m     64\u001b[0m \u001b[39mtry\u001b[39;00m:\n\u001b[0;32m---> 65\u001b[0m     \u001b[39mreturn\u001b[39;00m fn(\u001b[39m*\u001b[39margs, \u001b[39m*\u001b[39m\u001b[39m*\u001b[39mkwargs)\n\u001b[1;32m     66\u001b[0m \u001b[39mexcept\u001b[39;00m \u001b[39mException\u001b[39;00m \u001b[39mas\u001b[39;00m e:\n\u001b[1;32m     67\u001b[0m     filtered_tb \u001b[39m=\u001b[39m _process_traceback_frames(e\u001b[39m.\u001b[39m__traceback__)\n",
      "File \u001b[0;32m~/miniconda3/envs/thesis/lib/python3.11/site-packages/keras/engine/training.py:1685\u001b[0m, in \u001b[0;36mModel.fit\u001b[0;34m(self, x, y, batch_size, epochs, verbose, callbacks, validation_split, validation_data, shuffle, class_weight, sample_weight, initial_epoch, steps_per_epoch, validation_steps, validation_batch_size, validation_freq, max_queue_size, workers, use_multiprocessing)\u001b[0m\n\u001b[1;32m   1677\u001b[0m \u001b[39mwith\u001b[39;00m tf\u001b[39m.\u001b[39mprofiler\u001b[39m.\u001b[39mexperimental\u001b[39m.\u001b[39mTrace(\n\u001b[1;32m   1678\u001b[0m     \u001b[39m\"\u001b[39m\u001b[39mtrain\u001b[39m\u001b[39m\"\u001b[39m,\n\u001b[1;32m   1679\u001b[0m     epoch_num\u001b[39m=\u001b[39mepoch,\n\u001b[0;32m   (...)\u001b[0m\n\u001b[1;32m   1682\u001b[0m     _r\u001b[39m=\u001b[39m\u001b[39m1\u001b[39m,\n\u001b[1;32m   1683\u001b[0m ):\n\u001b[1;32m   1684\u001b[0m     callbacks\u001b[39m.\u001b[39mon_train_batch_begin(step)\n\u001b[0;32m-> 1685\u001b[0m     tmp_logs \u001b[39m=\u001b[39m \u001b[39mself\u001b[39m\u001b[39m.\u001b[39mtrain_function(iterator)\n\u001b[1;32m   1686\u001b[0m     \u001b[39mif\u001b[39;00m data_handler\u001b[39m.\u001b[39mshould_sync:\n\u001b[1;32m   1687\u001b[0m         context\u001b[39m.\u001b[39masync_wait()\n",
      "File \u001b[0;32m~/miniconda3/envs/thesis/lib/python3.11/site-packages/tensorflow/python/util/traceback_utils.py:150\u001b[0m, in \u001b[0;36mfilter_traceback.<locals>.error_handler\u001b[0;34m(*args, **kwargs)\u001b[0m\n\u001b[1;32m    148\u001b[0m filtered_tb \u001b[39m=\u001b[39m \u001b[39mNone\u001b[39;00m\n\u001b[1;32m    149\u001b[0m \u001b[39mtry\u001b[39;00m:\n\u001b[0;32m--> 150\u001b[0m   \u001b[39mreturn\u001b[39;00m fn(\u001b[39m*\u001b[39margs, \u001b[39m*\u001b[39m\u001b[39m*\u001b[39mkwargs)\n\u001b[1;32m    151\u001b[0m \u001b[39mexcept\u001b[39;00m \u001b[39mException\u001b[39;00m \u001b[39mas\u001b[39;00m e:\n\u001b[1;32m    152\u001b[0m   filtered_tb \u001b[39m=\u001b[39m _process_traceback_frames(e\u001b[39m.\u001b[39m__traceback__)\n",
      "File \u001b[0;32m~/miniconda3/envs/thesis/lib/python3.11/site-packages/tensorflow/python/eager/polymorphic_function/polymorphic_function.py:894\u001b[0m, in \u001b[0;36mFunction.__call__\u001b[0;34m(self, *args, **kwds)\u001b[0m\n\u001b[1;32m    891\u001b[0m compiler \u001b[39m=\u001b[39m \u001b[39m\"\u001b[39m\u001b[39mxla\u001b[39m\u001b[39m\"\u001b[39m \u001b[39mif\u001b[39;00m \u001b[39mself\u001b[39m\u001b[39m.\u001b[39m_jit_compile \u001b[39melse\u001b[39;00m \u001b[39m\"\u001b[39m\u001b[39mnonXla\u001b[39m\u001b[39m\"\u001b[39m\n\u001b[1;32m    893\u001b[0m \u001b[39mwith\u001b[39;00m OptionalXlaContext(\u001b[39mself\u001b[39m\u001b[39m.\u001b[39m_jit_compile):\n\u001b[0;32m--> 894\u001b[0m   result \u001b[39m=\u001b[39m \u001b[39mself\u001b[39m\u001b[39m.\u001b[39m_call(\u001b[39m*\u001b[39margs, \u001b[39m*\u001b[39m\u001b[39m*\u001b[39mkwds)\n\u001b[1;32m    896\u001b[0m new_tracing_count \u001b[39m=\u001b[39m \u001b[39mself\u001b[39m\u001b[39m.\u001b[39mexperimental_get_tracing_count()\n\u001b[1;32m    897\u001b[0m without_tracing \u001b[39m=\u001b[39m (tracing_count \u001b[39m==\u001b[39m new_tracing_count)\n",
      "File \u001b[0;32m~/miniconda3/envs/thesis/lib/python3.11/site-packages/tensorflow/python/eager/polymorphic_function/polymorphic_function.py:926\u001b[0m, in \u001b[0;36mFunction._call\u001b[0;34m(self, *args, **kwds)\u001b[0m\n\u001b[1;32m    923\u001b[0m   \u001b[39mself\u001b[39m\u001b[39m.\u001b[39m_lock\u001b[39m.\u001b[39mrelease()\n\u001b[1;32m    924\u001b[0m   \u001b[39m# In this case we have created variables on the first call, so we run the\u001b[39;00m\n\u001b[1;32m    925\u001b[0m   \u001b[39m# defunned version which is guaranteed to never create variables.\u001b[39;00m\n\u001b[0;32m--> 926\u001b[0m   \u001b[39mreturn\u001b[39;00m \u001b[39mself\u001b[39m\u001b[39m.\u001b[39m_no_variable_creation_fn(\u001b[39m*\u001b[39margs, \u001b[39m*\u001b[39m\u001b[39m*\u001b[39mkwds)  \u001b[39m# pylint: disable=not-callable\u001b[39;00m\n\u001b[1;32m    927\u001b[0m \u001b[39melif\u001b[39;00m \u001b[39mself\u001b[39m\u001b[39m.\u001b[39m_variable_creation_fn \u001b[39mis\u001b[39;00m \u001b[39mnot\u001b[39;00m \u001b[39mNone\u001b[39;00m:\n\u001b[1;32m    928\u001b[0m   \u001b[39m# Release the lock early so that multiple threads can perform the call\u001b[39;00m\n\u001b[1;32m    929\u001b[0m   \u001b[39m# in parallel.\u001b[39;00m\n\u001b[1;32m    930\u001b[0m   \u001b[39mself\u001b[39m\u001b[39m.\u001b[39m_lock\u001b[39m.\u001b[39mrelease()\n",
      "File \u001b[0;32m~/miniconda3/envs/thesis/lib/python3.11/site-packages/tensorflow/python/eager/polymorphic_function/tracing_compiler.py:143\u001b[0m, in \u001b[0;36mTracingCompiler.__call__\u001b[0;34m(self, *args, **kwargs)\u001b[0m\n\u001b[1;32m    140\u001b[0m \u001b[39mwith\u001b[39;00m \u001b[39mself\u001b[39m\u001b[39m.\u001b[39m_lock:\n\u001b[1;32m    141\u001b[0m   (concrete_function,\n\u001b[1;32m    142\u001b[0m    filtered_flat_args) \u001b[39m=\u001b[39m \u001b[39mself\u001b[39m\u001b[39m.\u001b[39m_maybe_define_function(args, kwargs)\n\u001b[0;32m--> 143\u001b[0m \u001b[39mreturn\u001b[39;00m concrete_function\u001b[39m.\u001b[39m_call_flat(\n\u001b[1;32m    144\u001b[0m     filtered_flat_args, captured_inputs\u001b[39m=\u001b[39mconcrete_function\u001b[39m.\u001b[39mcaptured_inputs)\n",
      "File \u001b[0;32m~/miniconda3/envs/thesis/lib/python3.11/site-packages/tensorflow/python/eager/polymorphic_function/monomorphic_function.py:1757\u001b[0m, in \u001b[0;36mConcreteFunction._call_flat\u001b[0;34m(self, args, captured_inputs, cancellation_manager)\u001b[0m\n\u001b[1;32m   1753\u001b[0m possible_gradient_type \u001b[39m=\u001b[39m gradients_util\u001b[39m.\u001b[39mPossibleTapeGradientTypes(args)\n\u001b[1;32m   1754\u001b[0m \u001b[39mif\u001b[39;00m (possible_gradient_type \u001b[39m==\u001b[39m gradients_util\u001b[39m.\u001b[39mPOSSIBLE_GRADIENT_TYPES_NONE\n\u001b[1;32m   1755\u001b[0m     \u001b[39mand\u001b[39;00m executing_eagerly):\n\u001b[1;32m   1756\u001b[0m   \u001b[39m# No tape is watching; skip to running the function.\u001b[39;00m\n\u001b[0;32m-> 1757\u001b[0m   \u001b[39mreturn\u001b[39;00m \u001b[39mself\u001b[39m\u001b[39m.\u001b[39m_build_call_outputs(\u001b[39mself\u001b[39m\u001b[39m.\u001b[39m_inference_function\u001b[39m.\u001b[39mcall(\n\u001b[1;32m   1758\u001b[0m       ctx, args, cancellation_manager\u001b[39m=\u001b[39mcancellation_manager))\n\u001b[1;32m   1759\u001b[0m forward_backward \u001b[39m=\u001b[39m \u001b[39mself\u001b[39m\u001b[39m.\u001b[39m_select_forward_and_backward_functions(\n\u001b[1;32m   1760\u001b[0m     args,\n\u001b[1;32m   1761\u001b[0m     possible_gradient_type,\n\u001b[1;32m   1762\u001b[0m     executing_eagerly)\n\u001b[1;32m   1763\u001b[0m forward_function, args_with_tangents \u001b[39m=\u001b[39m forward_backward\u001b[39m.\u001b[39mforward()\n",
      "File \u001b[0;32m~/miniconda3/envs/thesis/lib/python3.11/site-packages/tensorflow/python/eager/polymorphic_function/monomorphic_function.py:381\u001b[0m, in \u001b[0;36m_EagerDefinedFunction.call\u001b[0;34m(self, ctx, args, cancellation_manager)\u001b[0m\n\u001b[1;32m    379\u001b[0m \u001b[39mwith\u001b[39;00m _InterpolateFunctionError(\u001b[39mself\u001b[39m):\n\u001b[1;32m    380\u001b[0m   \u001b[39mif\u001b[39;00m cancellation_manager \u001b[39mis\u001b[39;00m \u001b[39mNone\u001b[39;00m:\n\u001b[0;32m--> 381\u001b[0m     outputs \u001b[39m=\u001b[39m execute\u001b[39m.\u001b[39mexecute(\n\u001b[1;32m    382\u001b[0m         \u001b[39mstr\u001b[39m(\u001b[39mself\u001b[39m\u001b[39m.\u001b[39msignature\u001b[39m.\u001b[39mname),\n\u001b[1;32m    383\u001b[0m         num_outputs\u001b[39m=\u001b[39m\u001b[39mself\u001b[39m\u001b[39m.\u001b[39m_num_outputs,\n\u001b[1;32m    384\u001b[0m         inputs\u001b[39m=\u001b[39margs,\n\u001b[1;32m    385\u001b[0m         attrs\u001b[39m=\u001b[39mattrs,\n\u001b[1;32m    386\u001b[0m         ctx\u001b[39m=\u001b[39mctx)\n\u001b[1;32m    387\u001b[0m   \u001b[39melse\u001b[39;00m:\n\u001b[1;32m    388\u001b[0m     outputs \u001b[39m=\u001b[39m execute\u001b[39m.\u001b[39mexecute_with_cancellation(\n\u001b[1;32m    389\u001b[0m         \u001b[39mstr\u001b[39m(\u001b[39mself\u001b[39m\u001b[39m.\u001b[39msignature\u001b[39m.\u001b[39mname),\n\u001b[1;32m    390\u001b[0m         num_outputs\u001b[39m=\u001b[39m\u001b[39mself\u001b[39m\u001b[39m.\u001b[39m_num_outputs,\n\u001b[0;32m   (...)\u001b[0m\n\u001b[1;32m    393\u001b[0m         ctx\u001b[39m=\u001b[39mctx,\n\u001b[1;32m    394\u001b[0m         cancellation_manager\u001b[39m=\u001b[39mcancellation_manager)\n",
      "File \u001b[0;32m~/miniconda3/envs/thesis/lib/python3.11/site-packages/tensorflow/python/eager/execute.py:52\u001b[0m, in \u001b[0;36mquick_execute\u001b[0;34m(op_name, num_outputs, inputs, attrs, ctx, name)\u001b[0m\n\u001b[1;32m     50\u001b[0m \u001b[39mtry\u001b[39;00m:\n\u001b[1;32m     51\u001b[0m   ctx\u001b[39m.\u001b[39mensure_initialized()\n\u001b[0;32m---> 52\u001b[0m   tensors \u001b[39m=\u001b[39m pywrap_tfe\u001b[39m.\u001b[39mTFE_Py_Execute(ctx\u001b[39m.\u001b[39m_handle, device_name, op_name,\n\u001b[1;32m     53\u001b[0m                                       inputs, attrs, num_outputs)\n\u001b[1;32m     54\u001b[0m \u001b[39mexcept\u001b[39;00m core\u001b[39m.\u001b[39m_NotOkStatusException \u001b[39mas\u001b[39;00m e:\n\u001b[1;32m     55\u001b[0m   \u001b[39mif\u001b[39;00m name \u001b[39mis\u001b[39;00m \u001b[39mnot\u001b[39;00m \u001b[39mNone\u001b[39;00m:\n",
      "\u001b[0;31mKeyboardInterrupt\u001b[0m: "
     ]
    }
   ],
   "source": [
    "for epoch in range(5):\n",
    "        print(f\"[EPOCH {epoch}]\")\n",
    "\n",
    "        train_results, val_results = fit_cycle(training_model=train_model, \n",
    "                production_model=production_model,\n",
    "                train_dataset=train_set,\n",
    "                pre_test_dataset=pre_test_data,\n",
    "                test_dataset=test_set,\n",
    "                class_weights=get_class_weights()\n",
    "                )"
   ]
  },
  {
   "cell_type": "code",
   "execution_count": null,
   "metadata": {},
   "outputs": [
    {
     "name": "stdout",
     "output_type": "stream",
     "text": [
      "Epoch 1/5\n",
      "1267/1267 [==============================] - 854s 673ms/step - loss: 0.0529 - binary_accuracy: 0.9941 - true_positives: 0.0000e+00 - true_negatives: 1288863.0000 - false_positives: 143.0000 - false_negatives: 7506.0000\n",
      "Epoch 2/5\n",
      "1267/1267 [==============================] - 746s 589ms/step - loss: 0.0515 - binary_accuracy: 0.9942 - true_positives: 0.0000e+00 - true_negatives: 1289006.0000 - false_positives: 0.0000e+00 - false_negatives: 7506.0000\n",
      "Epoch 3/5\n",
      "1267/1267 [==============================] - 849s 670ms/step - loss: 0.0511 - binary_accuracy: 0.9942 - true_positives: 0.0000e+00 - true_negatives: 1289006.0000 - false_positives: 0.0000e+00 - false_negatives: 7506.0000\n",
      "Epoch 4/5\n",
      "1267/1267 [==============================] - 869s 686ms/step - loss: 0.0508 - binary_accuracy: 0.9942 - true_positives: 0.0000e+00 - true_negatives: 1289006.0000 - false_positives: 0.0000e+00 - false_negatives: 7506.0000\n",
      "Epoch 5/5\n",
      "1267/1267 [==============================] - 857s 677ms/step - loss: 0.0499 - binary_accuracy: 0.9942 - true_positives: 0.0000e+00 - true_negatives: 1289006.0000 - false_positives: 0.0000e+00 - false_negatives: 7506.0000\n"
     ]
    },
    {
     "data": {
      "text/plain": [
       "<keras.callbacks.History at 0x7fcad0233850>"
      ]
     },
     "execution_count": 6,
     "metadata": {},
     "output_type": "execute_result"
    }
   ],
   "source": [
    "train_model.fit(train_set, \n",
    "                epochs=5, \n",
    "                class_weight=get_class_weights(), \n",
    "                verbose='auto', \n",
    "                shuffle=True)"
   ]
  },
  {
   "cell_type": "code",
   "execution_count": 8,
   "metadata": {},
   "outputs": [
    {
     "name": "stdout",
     "output_type": "stream",
     "text": [
      "200/200 [==============================] - 0s 543us/step - loss: 1.1737 - binary_accuracy: 0.0850 - true_positives_1: 0.0000e+00 - true_negatives_1: 17.0000 - false_positives_1: 183.0000 - false_negatives_1: 0.0000e+00\n"
     ]
    },
    {
     "data": {
      "text/plain": [
       "[1.1736805438995361, 0.08500000089406967, 0.0, 17.0, 183.0, 0.0]"
      ]
     },
     "execution_count": 8,
     "metadata": {},
     "output_type": "execute_result"
    }
   ],
   "source": [
    "train_weight_path = f'machine_learning/saved_models/{train_model.name}'\n",
    "train_model.save_weights(\n",
    "       filepath=train_weight_path,\n",
    "       save_format='h5'\n",
    ")\n",
    "#production_model.set_weights(training_model.get_weights())\n",
    "production_model.load_weights(train_weight_path, by_name=True)\n",
    "production_model.reset_gru()\n",
    "sys.stdout.write(\"\\tLoad state: \")\n",
    "production_model.evaluate(pre_test_data, batch_size=1)"
   ]
  },
  {
   "cell_type": "code",
   "execution_count": 9,
   "metadata": {},
   "outputs": [
    {
     "name": "stdout",
     "output_type": "stream",
     "text": [
      "555719/555719 [==============================] - 329s 592us/step - loss: 1.2122 - binary_accuracy: 0.0494 - true_positives_1: 2058.0000 - true_negatives_1: 25411.0000 - false_positives_1: 528163.0000 - false_negatives_1: 87.0000\n"
     ]
    }
   ],
   "source": [
    "evaluation_results = production_model.evaluate(test_set, batch_size=1)"
   ]
  }
 ],
 "metadata": {
  "kernelspec": {
   "display_name": "thesis",
   "language": "python",
   "name": "python3"
  },
  "language_info": {
   "codemirror_mode": {
    "name": "ipython",
    "version": 3
   },
   "file_extension": ".py",
   "mimetype": "text/x-python",
   "name": "python",
   "nbconvert_exporter": "python",
   "pygments_lexer": "ipython3",
   "version": "3.11.2"
  },
  "orig_nbformat": 4
 },
 "nbformat": 4,
 "nbformat_minor": 2
}
