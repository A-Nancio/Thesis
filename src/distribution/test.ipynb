{
 "cells": [
  {
   "cell_type": "code",
   "execution_count": 1,
   "metadata": {},
   "outputs": [],
   "source": [
    "import sys\n",
    "import struct\n",
    "import redis\n",
    "import numpy as np\n",
    "\n",
    "sys.path.append('../')"
   ]
  },
  {
   "cell_type": "code",
   "execution_count": 2,
   "metadata": {},
   "outputs": [],
   "source": [
    "r = redis.Redis(host='localhost', port=6379, db=0)"
   ]
  },
  {
   "cell_type": "code",
   "execution_count": 3,
   "metadata": {},
   "outputs": [
    {
     "data": {
      "text/plain": [
       "array([[1., 1., 1.],\n",
       "       [1., 1., 1.]])"
      ]
     },
     "execution_count": 3,
     "metadata": {},
     "output_type": "execute_result"
    }
   ],
   "source": [
    "array = np.ones((2, 3))\n",
    "array"
   ]
  },
  {
   "cell_type": "code",
   "execution_count": 4,
   "metadata": {},
   "outputs": [],
   "source": [
    "def toRedis(r,a,n):\n",
    "   \"\"\"Store given Numpy array 'a' in Redis under key 'n'\"\"\"\n",
    "   h, w = a.shape\n",
    "   shape = struct.pack('>II',h,w)\n",
    "   encoded = shape + a.tobytes()\n",
    "   \n",
    "   # Store encoded data in Redis\n",
    "   r.set(n,encoded)\n",
    "   return\n",
    "\n",
    "def fromRedis(r,n):\n",
    "   \"\"\"Retrieve Numpy array from Redis key 'n'\"\"\"\n",
    "   encoded = r.get(n)\n",
    "   h, w = struct.unpack('>II',encoded[:8])\n",
    "   # Add slicing here, or else the array would differ from the original\n",
    "   a = np.frombuffer(encoded[8:]).reshape(h,w)\n",
    "   return a"
   ]
  },
  {
   "cell_type": "code",
   "execution_count": 10,
   "metadata": {},
   "outputs": [
    {
     "data": {
      "text/plain": [
       "array([[0.000e+00, 1.000e+00, 2.000e+00, ..., 7.700e+01, 7.800e+01,\n",
       "        7.900e+01],\n",
       "       [8.000e+01, 8.100e+01, 8.200e+01, ..., 1.570e+02, 1.580e+02,\n",
       "        1.590e+02],\n",
       "       [1.600e+02, 1.610e+02, 1.620e+02, ..., 2.370e+02, 2.380e+02,\n",
       "        2.390e+02],\n",
       "       ...,\n",
       "       [6.160e+03, 6.161e+03, 6.162e+03, ..., 6.237e+03, 6.238e+03,\n",
       "        6.239e+03],\n",
       "       [6.240e+03, 6.241e+03, 6.242e+03, ..., 6.317e+03, 6.318e+03,\n",
       "        6.319e+03],\n",
       "       [6.320e+03, 6.321e+03, 6.322e+03, ..., 6.397e+03, 6.398e+03,\n",
       "        6.399e+03]])"
      ]
     },
     "execution_count": 10,
     "metadata": {},
     "output_type": "execute_result"
    }
   ],
   "source": [
    "# Create 80x80 numpy array to store\n",
    "a0 = np.arange(6400,dtype=np.float64).reshape(80,80) \n",
    "a0"
   ]
  },
  {
   "cell_type": "code",
   "execution_count": 11,
   "metadata": {},
   "outputs": [],
   "source": [
    "# Store array a0 in Redis under name 'a0array'\n",
    "toRedis(r,a0,'a0array')"
   ]
  },
  {
   "cell_type": "code",
   "execution_count": 12,
   "metadata": {},
   "outputs": [
    {
     "data": {
      "text/plain": [
       "bytes"
      ]
     },
     "execution_count": 12,
     "metadata": {},
     "output_type": "execute_result"
    }
   ],
   "source": [
    "aux = r.get('a0array')\n",
    "type(aux)"
   ]
  },
  {
   "cell_type": "code",
   "execution_count": 14,
   "metadata": {},
   "outputs": [],
   "source": [
    "# Retrieve from Redis\n",
    "a1 = fromRedis(r,'a0array')\n"
   ]
  },
  {
   "cell_type": "code",
   "execution_count": 15,
   "metadata": {},
   "outputs": [],
   "source": [
    "np.testing.assert_array_equal(a0,a1)"
   ]
  }
 ],
 "metadata": {
  "kernelspec": {
   "display_name": "thesis",
   "language": "python",
   "name": "python3"
  },
  "language_info": {
   "codemirror_mode": {
    "name": "ipython",
    "version": 3
   },
   "file_extension": ".py",
   "mimetype": "text/x-python",
   "name": "python",
   "nbconvert_exporter": "python",
   "pygments_lexer": "ipython3",
   "version": "3.11.2"
  },
  "orig_nbformat": 4
 },
 "nbformat": 4,
 "nbformat_minor": 2
}
