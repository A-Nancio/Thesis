{
 "cells": [
  {
   "cell_type": "markdown",
   "metadata": {},
   "source": [
    "# Evaluation Double Shared State Model"
   ]
  },
  {
   "cell_type": "markdown",
   "metadata": {},
   "source": [
    "import statements:"
   ]
  },
  {
   "cell_type": "code",
   "execution_count": 2,
   "metadata": {},
   "outputs": [],
   "source": [
    "import sys\n",
    "sys.path.append('../')"
   ]
  },
  {
   "cell_type": "code",
   "execution_count": 3,
   "metadata": {},
   "outputs": [],
   "source": [
    "import os\n",
    "os.environ['TF_CPP_MIN_LOG_LEVEL'] = '3' \n",
    "\n",
    "from keras.layers import Dense, Dropout\n",
    "\n",
    "import tensorflow as tf\n",
    "import numpy as np\n",
    "from tqdm import tqdm\n",
    "from keras.layers import Dense, Dropout, GRU\n",
    "\n",
    "\n",
    "import numpy as np\n",
    "\n",
    "from machine_learning.models import DoubleStateProduction\n",
    "from data_processing.batch_generator import load_test_set\n",
    "tf.random.set_seed(42)"
   ]
  },
  {
   "cell_type": "markdown",
   "metadata": {},
   "source": [
    "define model:"
   ]
  },
  {
   "cell_type": "code",
   "execution_count": 4,
   "metadata": {},
   "outputs": [],
   "source": [
    "model = DoubleStateProduction()\n"
   ]
  },
  {
   "cell_type": "code",
   "execution_count": 5,
   "metadata": {},
   "outputs": [],
   "source": [
    "model.compile(loss=tf.keras.losses.BinaryCrossentropy(),\n",
    "        optimizer=tf.keras.optimizers.Adam(),\n",
    "        metrics=[\n",
    "            tf.keras.metrics.BinaryAccuracy(),\n",
    "            tf.keras.metrics.TruePositives(), \n",
    "            tf.keras.metrics.TrueNegatives(),\n",
    "            tf.keras.metrics.FalsePositives(), \n",
    "            tf.keras.metrics.FalseNegatives(),\n",
    "            tf.keras.metrics.Precision(),\n",
    "            tf.keras.metrics.Recall()])\n"
   ]
  },
  {
   "cell_type": "markdown",
   "metadata": {},
   "source": [
    "### Dataset"
   ]
  },
  {
   "cell_type": "code",
   "execution_count": 6,
   "metadata": {},
   "outputs": [],
   "source": [
    "path = '../data'\n",
    "BATCH_SIZE = 1024\n",
    "SEQUENCE_LENGTH = 100"
   ]
  },
  {
   "cell_type": "code",
   "execution_count": 7,
   "metadata": {},
   "outputs": [
    {
     "data": {
      "text/plain": [
       "<tf.Tensor: shape=(1, 1), dtype=float32, numpy=array([[0.59034586]], dtype=float32)>"
      ]
     },
     "execution_count": 7,
     "metadata": {},
     "output_type": "execute_result"
    }
   ],
   "source": [
    "test_transactions = np.load(f'{path}/test/transactions.npy')\n",
    "test_labels = np.load(f'{path}/test/all_transaction_labels.npy').astype(float)\n",
    "test_set = tf.data.Dataset.from_tensor_slices((test_transactions, test_labels)).batch(1)\n",
    "# initialize weights\n",
    "model(np.expand_dims(test_transactions[0], axis=0))"
   ]
  },
  {
   "cell_type": "markdown",
   "metadata": {},
   "source": [
    "### Evaluate Model"
   ]
  },
  {
   "cell_type": "code",
   "execution_count": 8,
   "metadata": {},
   "outputs": [],
   "source": [
    "num_epochs = 20"
   ]
  },
  {
   "cell_type": "code",
   "execution_count": 9,
   "metadata": {},
   "outputs": [
    {
     "name": "stdout",
     "output_type": "stream",
     "text": [
      "[EPOCH 0]\n",
      "555719/555719 [==============================] - 308s 553us/step - loss: 0.0392 - binary_accuracy: 0.9961 - true_positives: 0.0000e+00 - true_negatives: 553574.0000 - false_positives: 0.0000e+00 - false_negatives: 2145.0000 - precision: 0.0000e+00 - recall: 0.0000e+00\n",
      "[EPOCH 1]\n",
      "555719/555719 [==============================] - 308s 553us/step - loss: 0.0356 - binary_accuracy: 0.9961 - true_positives: 0.0000e+00 - true_negatives: 553574.0000 - false_positives: 0.0000e+00 - false_negatives: 2145.0000 - precision: 0.0000e+00 - recall: 0.0000e+00\n",
      "[EPOCH 2]\n",
      "555719/555719 [==============================] - 316s 569us/step - loss: 0.0301 - binary_accuracy: 0.9961 - true_positives: 82.0000 - true_negatives: 553450.0000 - false_positives: 124.0000 - false_negatives: 2063.0000 - precision: 0.3981 - recall: 0.0382\n",
      "[EPOCH 3]\n",
      "555719/555719 [==============================] - 330s 594us/step - loss: 0.0128 - binary_accuracy: 0.9978 - true_positives: 1144.0000 - true_negatives: 553351.0000 - false_positives: 223.0000 - false_negatives: 1001.0000 - precision: 0.8369 - recall: 0.5333\n",
      "[EPOCH 4]\n",
      "555719/555719 [==============================] - 328s 589us/step - loss: 0.0163 - binary_accuracy: 0.9963 - true_positives: 1496.0000 - true_negatives: 552183.0000 - false_positives: 1391.0000 - false_negatives: 649.0000 - precision: 0.5182 - recall: 0.6974\n",
      "[EPOCH 5]\n",
      "555719/555719 [==============================] - 338s 608us/step - loss: 0.0136 - binary_accuracy: 0.9973 - true_positives: 957.0000 - true_negatives: 553277.0000 - false_positives: 297.0000 - false_negatives: 1188.0000 - precision: 0.7632 - recall: 0.4462\n",
      "[EPOCH 6]\n",
      "555719/555719 [==============================] - 331s 596us/step - loss: 0.0113 - binary_accuracy: 0.9976 - true_positives: 1000.0000 - true_negatives: 553369.0000 - false_positives: 205.0000 - false_negatives: 1145.0000 - precision: 0.8299 - recall: 0.4662\n",
      "[EPOCH 7]\n",
      "555719/555719 [==============================] - 321s 577us/step - loss: 0.0170 - binary_accuracy: 0.9968 - true_positives: 1483.0000 - true_negatives: 552478.0000 - false_positives: 1096.0000 - false_negatives: 662.0000 - precision: 0.5750 - recall: 0.6914\n",
      "[EPOCH 8]\n",
      "555719/555719 [==============================] - 313s 564us/step - loss: 0.0192 - binary_accuracy: 0.9949 - true_positives: 1570.0000 - true_negatives: 551315.0000 - false_positives: 2259.0000 - false_negatives: 575.0000 - precision: 0.4100 - recall: 0.7319\n",
      "[EPOCH 9]\n",
      "555719/555719 [==============================] - 315s 567us/step - loss: 0.0145 - binary_accuracy: 0.9978 - true_positives: 1476.0000 - true_negatives: 553019.0000 - false_positives: 555.0000 - false_negatives: 669.0000 - precision: 0.7267 - recall: 0.6881\n",
      "[EPOCH 10]\n",
      "555719/555719 [==============================] - 312s 562us/step - loss: 0.0110 - binary_accuracy: 0.9980 - true_positives: 1339.0000 - true_negatives: 553250.0000 - false_positives: 324.0000 - false_negatives: 806.0000 - precision: 0.8052 - recall: 0.6242\n",
      "[EPOCH 11]\n",
      "555719/555719 [==============================] - 312s 561us/step - loss: 0.0147 - binary_accuracy: 0.9954 - true_positives: 1444.0000 - true_negatives: 551745.0000 - false_positives: 1829.0000 - false_negatives: 701.0000 - precision: 0.4412 - recall: 0.6732\n",
      "[EPOCH 12]\n",
      "555719/555719 [==============================] - 313s 564us/step - loss: 0.0117 - binary_accuracy: 0.9976 - true_positives: 1435.0000 - true_negatives: 552975.0000 - false_positives: 599.0000 - false_negatives: 710.0000 - precision: 0.7055 - recall: 0.6690\n",
      "[EPOCH 13]\n",
      "555719/555719 [==============================] - 318s 571us/step - loss: 0.0137 - binary_accuracy: 0.9968 - true_positives: 1383.0000 - true_negatives: 552560.0000 - false_positives: 1014.0000 - false_negatives: 762.0000 - precision: 0.5770 - recall: 0.6448\n",
      "[EPOCH 14]\n",
      "555719/555719 [==============================] - 310s 558us/step - loss: 0.0162 - binary_accuracy: 0.9957 - true_positives: 1471.0000 - true_negatives: 551875.0000 - false_positives: 1699.0000 - false_negatives: 674.0000 - precision: 0.4640 - recall: 0.6858\n",
      "[EPOCH 15]\n",
      "555719/555719 [==============================] - 311s 560us/step - loss: 0.0134 - binary_accuracy: 0.9973 - true_positives: 731.0000 - true_negatives: 553494.0000 - false_positives: 80.0000 - false_negatives: 1414.0000 - precision: 0.9014 - recall: 0.3408\n",
      "[EPOCH 16]\n",
      "555719/555719 [==============================] - 311s 559us/step - loss: 0.0153 - binary_accuracy: 0.9958 - true_positives: 1258.0000 - true_negatives: 552143.0000 - false_positives: 1431.0000 - false_negatives: 887.0000 - precision: 0.4678 - recall: 0.5865\n",
      "[EPOCH 17]\n",
      "555719/555719 [==============================] - 318s 573us/step - loss: 0.0140 - binary_accuracy: 0.9959 - true_positives: 1635.0000 - true_negatives: 551787.0000 - false_positives: 1787.0000 - false_negatives: 510.0000 - precision: 0.4778 - recall: 0.7622\n",
      "[EPOCH 18]\n",
      "555719/555719 [==============================] - 323s 581us/step - loss: 0.0204 - binary_accuracy: 0.9947 - true_positives: 1481.0000 - true_negatives: 551276.0000 - false_positives: 2298.0000 - false_negatives: 664.0000 - precision: 0.3919 - recall: 0.6904\n",
      "[EPOCH 19]\n",
      "555719/555719 [==============================] - 327s 589us/step - loss: 0.0121 - binary_accuracy: 0.9979 - true_positives: 1309.0000 - true_negatives: 553225.0000 - false_positives: 349.0000 - false_negatives: 836.0000 - precision: 0.7895 - recall: 0.6103\n"
     ]
    }
   ],
   "source": [
    "results = []\n",
    "for epoch in range(num_epochs):\n",
    "    print(f\"[EPOCH {epoch}]\")\n",
    "    model_path = f'../machine_learning/saved_models/simpler_double/Double_{epoch}.keras'\n",
    "    model.load_weights(model_path)\n",
    "    model.card_gru.reset_states()\n",
    "    model.category_gru.reset_states()\n",
    "\n",
    "    results.append(model.evaluate(test_set, return_dict=True))"
   ]
  },
  {
   "cell_type": "code",
   "execution_count": 11,
   "metadata": {},
   "outputs": [
    {
     "data": {
      "text/html": [
       "<div>\n",
       "<style scoped>\n",
       "    .dataframe tbody tr th:only-of-type {\n",
       "        vertical-align: middle;\n",
       "    }\n",
       "\n",
       "    .dataframe tbody tr th {\n",
       "        vertical-align: top;\n",
       "    }\n",
       "\n",
       "    .dataframe thead th {\n",
       "        text-align: right;\n",
       "    }\n",
       "</style>\n",
       "<table border=\"1\" class=\"dataframe\">\n",
       "  <thead>\n",
       "    <tr style=\"text-align: right;\">\n",
       "      <th></th>\n",
       "      <th>loss</th>\n",
       "      <th>binary_accuracy</th>\n",
       "      <th>true_positives</th>\n",
       "      <th>true_negatives</th>\n",
       "      <th>false_positives</th>\n",
       "      <th>false_negatives</th>\n",
       "      <th>precision</th>\n",
       "      <th>recall</th>\n",
       "    </tr>\n",
       "  </thead>\n",
       "  <tbody>\n",
       "    <tr>\n",
       "      <th>0</th>\n",
       "      <td>0.039178</td>\n",
       "      <td>0.996140</td>\n",
       "      <td>0.0</td>\n",
       "      <td>553574.0</td>\n",
       "      <td>0.0</td>\n",
       "      <td>2145.0</td>\n",
       "      <td>0.000000</td>\n",
       "      <td>0.000000</td>\n",
       "    </tr>\n",
       "    <tr>\n",
       "      <th>1</th>\n",
       "      <td>0.035582</td>\n",
       "      <td>0.996140</td>\n",
       "      <td>0.0</td>\n",
       "      <td>553574.0</td>\n",
       "      <td>0.0</td>\n",
       "      <td>2145.0</td>\n",
       "      <td>0.000000</td>\n",
       "      <td>0.000000</td>\n",
       "    </tr>\n",
       "    <tr>\n",
       "      <th>2</th>\n",
       "      <td>0.030068</td>\n",
       "      <td>0.996065</td>\n",
       "      <td>82.0</td>\n",
       "      <td>553450.0</td>\n",
       "      <td>124.0</td>\n",
       "      <td>2063.0</td>\n",
       "      <td>0.398058</td>\n",
       "      <td>0.038228</td>\n",
       "    </tr>\n",
       "    <tr>\n",
       "      <th>3</th>\n",
       "      <td>0.012835</td>\n",
       "      <td>0.997797</td>\n",
       "      <td>1144.0</td>\n",
       "      <td>553351.0</td>\n",
       "      <td>223.0</td>\n",
       "      <td>1001.0</td>\n",
       "      <td>0.836869</td>\n",
       "      <td>0.533333</td>\n",
       "    </tr>\n",
       "    <tr>\n",
       "      <th>4</th>\n",
       "      <td>0.016327</td>\n",
       "      <td>0.996329</td>\n",
       "      <td>1496.0</td>\n",
       "      <td>552183.0</td>\n",
       "      <td>1391.0</td>\n",
       "      <td>649.0</td>\n",
       "      <td>0.518185</td>\n",
       "      <td>0.697436</td>\n",
       "    </tr>\n",
       "    <tr>\n",
       "      <th>5</th>\n",
       "      <td>0.013602</td>\n",
       "      <td>0.997328</td>\n",
       "      <td>957.0</td>\n",
       "      <td>553277.0</td>\n",
       "      <td>297.0</td>\n",
       "      <td>1188.0</td>\n",
       "      <td>0.763158</td>\n",
       "      <td>0.446154</td>\n",
       "    </tr>\n",
       "    <tr>\n",
       "      <th>6</th>\n",
       "      <td>0.011263</td>\n",
       "      <td>0.997571</td>\n",
       "      <td>1000.0</td>\n",
       "      <td>553369.0</td>\n",
       "      <td>205.0</td>\n",
       "      <td>1145.0</td>\n",
       "      <td>0.829876</td>\n",
       "      <td>0.466200</td>\n",
       "    </tr>\n",
       "    <tr>\n",
       "      <th>7</th>\n",
       "      <td>0.017043</td>\n",
       "      <td>0.996837</td>\n",
       "      <td>1483.0</td>\n",
       "      <td>552478.0</td>\n",
       "      <td>1096.0</td>\n",
       "      <td>662.0</td>\n",
       "      <td>0.575029</td>\n",
       "      <td>0.691375</td>\n",
       "    </tr>\n",
       "    <tr>\n",
       "      <th>8</th>\n",
       "      <td>0.019176</td>\n",
       "      <td>0.994900</td>\n",
       "      <td>1570.0</td>\n",
       "      <td>551315.0</td>\n",
       "      <td>2259.0</td>\n",
       "      <td>575.0</td>\n",
       "      <td>0.410029</td>\n",
       "      <td>0.731935</td>\n",
       "    </tr>\n",
       "    <tr>\n",
       "      <th>9</th>\n",
       "      <td>0.014456</td>\n",
       "      <td>0.997797</td>\n",
       "      <td>1476.0</td>\n",
       "      <td>553019.0</td>\n",
       "      <td>555.0</td>\n",
       "      <td>669.0</td>\n",
       "      <td>0.726736</td>\n",
       "      <td>0.688112</td>\n",
       "    </tr>\n",
       "    <tr>\n",
       "      <th>10</th>\n",
       "      <td>0.011047</td>\n",
       "      <td>0.997967</td>\n",
       "      <td>1339.0</td>\n",
       "      <td>553250.0</td>\n",
       "      <td>324.0</td>\n",
       "      <td>806.0</td>\n",
       "      <td>0.805171</td>\n",
       "      <td>0.624242</td>\n",
       "    </tr>\n",
       "    <tr>\n",
       "      <th>11</th>\n",
       "      <td>0.014701</td>\n",
       "      <td>0.995447</td>\n",
       "      <td>1444.0</td>\n",
       "      <td>551745.0</td>\n",
       "      <td>1829.0</td>\n",
       "      <td>701.0</td>\n",
       "      <td>0.441185</td>\n",
       "      <td>0.673193</td>\n",
       "    </tr>\n",
       "    <tr>\n",
       "      <th>12</th>\n",
       "      <td>0.011689</td>\n",
       "      <td>0.997644</td>\n",
       "      <td>1435.0</td>\n",
       "      <td>552975.0</td>\n",
       "      <td>599.0</td>\n",
       "      <td>710.0</td>\n",
       "      <td>0.705506</td>\n",
       "      <td>0.668998</td>\n",
       "    </tr>\n",
       "    <tr>\n",
       "      <th>13</th>\n",
       "      <td>0.013739</td>\n",
       "      <td>0.996804</td>\n",
       "      <td>1383.0</td>\n",
       "      <td>552560.0</td>\n",
       "      <td>1014.0</td>\n",
       "      <td>762.0</td>\n",
       "      <td>0.576971</td>\n",
       "      <td>0.644755</td>\n",
       "    </tr>\n",
       "    <tr>\n",
       "      <th>14</th>\n",
       "      <td>0.016162</td>\n",
       "      <td>0.995730</td>\n",
       "      <td>1471.0</td>\n",
       "      <td>551875.0</td>\n",
       "      <td>1699.0</td>\n",
       "      <td>674.0</td>\n",
       "      <td>0.464038</td>\n",
       "      <td>0.685781</td>\n",
       "    </tr>\n",
       "    <tr>\n",
       "      <th>15</th>\n",
       "      <td>0.013384</td>\n",
       "      <td>0.997312</td>\n",
       "      <td>731.0</td>\n",
       "      <td>553494.0</td>\n",
       "      <td>80.0</td>\n",
       "      <td>1414.0</td>\n",
       "      <td>0.901356</td>\n",
       "      <td>0.340793</td>\n",
       "    </tr>\n",
       "    <tr>\n",
       "      <th>16</th>\n",
       "      <td>0.015266</td>\n",
       "      <td>0.995829</td>\n",
       "      <td>1258.0</td>\n",
       "      <td>552143.0</td>\n",
       "      <td>1431.0</td>\n",
       "      <td>887.0</td>\n",
       "      <td>0.467832</td>\n",
       "      <td>0.586480</td>\n",
       "    </tr>\n",
       "    <tr>\n",
       "      <th>17</th>\n",
       "      <td>0.014012</td>\n",
       "      <td>0.995867</td>\n",
       "      <td>1635.0</td>\n",
       "      <td>551787.0</td>\n",
       "      <td>1787.0</td>\n",
       "      <td>510.0</td>\n",
       "      <td>0.477791</td>\n",
       "      <td>0.762238</td>\n",
       "    </tr>\n",
       "    <tr>\n",
       "      <th>18</th>\n",
       "      <td>0.020388</td>\n",
       "      <td>0.994670</td>\n",
       "      <td>1481.0</td>\n",
       "      <td>551276.0</td>\n",
       "      <td>2298.0</td>\n",
       "      <td>664.0</td>\n",
       "      <td>0.391903</td>\n",
       "      <td>0.690443</td>\n",
       "    </tr>\n",
       "    <tr>\n",
       "      <th>19</th>\n",
       "      <td>0.012056</td>\n",
       "      <td>0.997868</td>\n",
       "      <td>1309.0</td>\n",
       "      <td>553225.0</td>\n",
       "      <td>349.0</td>\n",
       "      <td>836.0</td>\n",
       "      <td>0.789505</td>\n",
       "      <td>0.610256</td>\n",
       "    </tr>\n",
       "  </tbody>\n",
       "</table>\n",
       "</div>"
      ],
      "text/plain": [
       "        loss  binary_accuracy  true_positives  true_negatives   \n",
       "0   0.039178         0.996140             0.0        553574.0  \\\n",
       "1   0.035582         0.996140             0.0        553574.0   \n",
       "2   0.030068         0.996065            82.0        553450.0   \n",
       "3   0.012835         0.997797          1144.0        553351.0   \n",
       "4   0.016327         0.996329          1496.0        552183.0   \n",
       "5   0.013602         0.997328           957.0        553277.0   \n",
       "6   0.011263         0.997571          1000.0        553369.0   \n",
       "7   0.017043         0.996837          1483.0        552478.0   \n",
       "8   0.019176         0.994900          1570.0        551315.0   \n",
       "9   0.014456         0.997797          1476.0        553019.0   \n",
       "10  0.011047         0.997967          1339.0        553250.0   \n",
       "11  0.014701         0.995447          1444.0        551745.0   \n",
       "12  0.011689         0.997644          1435.0        552975.0   \n",
       "13  0.013739         0.996804          1383.0        552560.0   \n",
       "14  0.016162         0.995730          1471.0        551875.0   \n",
       "15  0.013384         0.997312           731.0        553494.0   \n",
       "16  0.015266         0.995829          1258.0        552143.0   \n",
       "17  0.014012         0.995867          1635.0        551787.0   \n",
       "18  0.020388         0.994670          1481.0        551276.0   \n",
       "19  0.012056         0.997868          1309.0        553225.0   \n",
       "\n",
       "    false_positives  false_negatives  precision    recall  \n",
       "0               0.0           2145.0   0.000000  0.000000  \n",
       "1               0.0           2145.0   0.000000  0.000000  \n",
       "2             124.0           2063.0   0.398058  0.038228  \n",
       "3             223.0           1001.0   0.836869  0.533333  \n",
       "4            1391.0            649.0   0.518185  0.697436  \n",
       "5             297.0           1188.0   0.763158  0.446154  \n",
       "6             205.0           1145.0   0.829876  0.466200  \n",
       "7            1096.0            662.0   0.575029  0.691375  \n",
       "8            2259.0            575.0   0.410029  0.731935  \n",
       "9             555.0            669.0   0.726736  0.688112  \n",
       "10            324.0            806.0   0.805171  0.624242  \n",
       "11           1829.0            701.0   0.441185  0.673193  \n",
       "12            599.0            710.0   0.705506  0.668998  \n",
       "13           1014.0            762.0   0.576971  0.644755  \n",
       "14           1699.0            674.0   0.464038  0.685781  \n",
       "15             80.0           1414.0   0.901356  0.340793  \n",
       "16           1431.0            887.0   0.467832  0.586480  \n",
       "17           1787.0            510.0   0.477791  0.762238  \n",
       "18           2298.0            664.0   0.391903  0.690443  \n",
       "19            349.0            836.0   0.789505  0.610256  "
      ]
     },
     "execution_count": 11,
     "metadata": {},
     "output_type": "execute_result"
    }
   ],
   "source": [
    "import pandas as pd\n",
    "\n",
    "pd.DataFrame(results)"
   ]
  },
  {
   "cell_type": "markdown",
   "metadata": {},
   "source": [
    "Looking at the metrics, the one which yielded the best results was at **epoch 3** with the best balance between precision and recall:"
   ]
  },
  {
   "cell_type": "markdown",
   "metadata": {},
   "source": [
    "### Confusion Matrix"
   ]
  },
  {
   "cell_type": "code",
   "execution_count": 12,
   "metadata": {},
   "outputs": [],
   "source": [
    "model.load_weights(f'../machine_learning/saved_models/simpler_double/Double_{3}.keras')\n",
    "inputs = [[553351/(553351+223), 223/(553351+223)], [1001/(1144+1001), 1144/(1144+1001)]]"
   ]
  },
  {
   "cell_type": "code",
   "execution_count": 13,
   "metadata": {},
   "outputs": [
    {
     "data": {
      "image/png": "[encoded data removed]",
      "text/plain": [
       "<Figure size 640x480 with 2 Axes>"
      ]
     },
     "metadata": {},
     "output_type": "display_data"
    }
   ],
   "source": [
    "import seaborn as sns\n",
    "import matplotlib.pyplot as plt\n",
    "\n",
    "# Plot the confusion matrix using a heatmap\n",
    "sns.heatmap(inputs, annot=True, cmap='Blues')\n",
    "plt.xlabel('Predicted Labels')\n",
    "plt.ylabel('True Labels')\n",
    "plt.show()\n"
   ]
  },
  {
   "cell_type": "code",
   "execution_count": 14,
   "metadata": {},
   "outputs": [
    {
     "name": "stdout",
     "output_type": "stream",
     "text": [
      "555719/555719 [==============================] - 241s 434us/step\n"
     ]
    }
   ],
   "source": [
    "y_pred_proba = model.predict(test_set)"
   ]
  },
  {
   "cell_type": "code",
   "execution_count": 15,
   "metadata": {},
   "outputs": [
    {
     "data": {
      "image/png": "[encoded data removed]",
      "text/plain": [
       "<Figure size 640x480 with 1 Axes>"
      ]
     },
     "metadata": {},
     "output_type": "display_data"
    }
   ],
   "source": [
    "from sklearn.metrics import roc_curve, auc\n",
    "\n",
    "# Calculate FPR, TPR, and thresholds using NumPy\n",
    "fpr, tpr, thresholds = roc_curve(test_labels, y_pred_proba)\n",
    "\n",
    "# Calculate AUC using scikit-learn\n",
    "auc_score = auc(fpr, tpr)\n",
    "\n",
    "# Plot ROC curve using Matplotlib\n",
    "plt.plot(fpr, tpr, label='ROC curve (area = %0.2f)' % auc_score)\n",
    "plt.plot([0, 1], [0, 1], 'k--')\n",
    "plt.xlim([0.0, 1.0])\n",
    "plt.ylim([0.0, 1.05])\n",
    "plt.xlabel('False Positive Rate')\n",
    "plt.ylabel('True Positive Rate')\n",
    "plt.title('Receiver Operating Characteristic')\n",
    "plt.legend(loc=\"lower right\")\n",
    "plt.show()\n"
   ]
  }
 ],
 "metadata": {
  "kernelspec": {
   "display_name": "thesis",
   "language": "python",
   "name": "python3"
  },
  "language_info": {
   "codemirror_mode": {
    "name": "ipython",
    "version": 3
   },
   "file_extension": ".py",
   "mimetype": "text/x-python",
   "name": "python",
   "nbconvert_exporter": "python",
   "pygments_lexer": "ipython3",
   "version": "3.11.2"
  },
  "orig_nbformat": 4
 },
 "nbformat": 4,
 "nbformat_minor": 2
}
