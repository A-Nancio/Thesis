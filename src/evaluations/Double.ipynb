{
 "cells": [
  {
   "cell_type": "markdown",
   "metadata": {},
   "source": [
    "# Evaluation Double Shared State Model"
   ]
  },
  {
   "cell_type": "markdown",
   "metadata": {},
   "source": [
    "import statements:"
   ]
  },
  {
   "cell_type": "code",
   "execution_count": 1,
   "metadata": {},
   "outputs": [],
   "source": [
    "import sys\n",
    "sys.path.append('../')"
   ]
  },
  {
   "cell_type": "code",
   "execution_count": 2,
   "metadata": {},
   "outputs": [],
   "source": [
    "import os\n",
    "os.environ['TF_CPP_MIN_LOG_LEVEL'] = '3' \n",
    "\n",
    "from keras.layers import Dense, Dropout\n",
    "\n",
    "import tensorflow as tf\n",
    "import numpy as np\n",
    "from tqdm import tqdm\n",
    "from keras.layers import Dense, Dropout, GRU\n",
    "\n",
    "\n",
    "import tensorflow as tf\n",
    "import numpy as np\n",
    "\n",
    "from machine_learning.models import DoubleStateProduction\n",
    "from data_processing.batch_generator import load_test_set\n",
    "tf.random.set_seed(42)"
   ]
  },
  {
   "cell_type": "markdown",
   "metadata": {},
   "source": [
    "define model:"
   ]
  },
  {
   "cell_type": "code",
   "execution_count": 3,
   "metadata": {},
   "outputs": [],
   "source": [
    "model = DoubleStateProduction()\n"
   ]
  },
  {
   "cell_type": "code",
   "execution_count": 4,
   "metadata": {},
   "outputs": [],
   "source": [
    "model.compile(loss=tf.keras.losses.BinaryCrossentropy(),\n",
    "        optimizer=tf.keras.optimizers.Adam(),\n",
    "        metrics=[\n",
    "            tf.keras.metrics.BinaryAccuracy(),\n",
    "            tf.keras.metrics.TruePositives(), \n",
    "            tf.keras.metrics.TrueNegatives(),\n",
    "            tf.keras.metrics.FalsePositives(), \n",
    "            tf.keras.metrics.FalseNegatives(),\n",
    "            tf.keras.metrics.Precision(),\n",
    "            tf.keras.metrics.Recall()])\n"
   ]
  },
  {
   "cell_type": "markdown",
   "metadata": {},
   "source": [
    "### Dataset"
   ]
  },
  {
   "cell_type": "code",
   "execution_count": 5,
   "metadata": {},
   "outputs": [],
   "source": [
    "path = '../data'\n",
    "BATCH_SIZE = 1024\n",
    "SEQUENCE_LENGTH = 100"
   ]
  },
  {
   "cell_type": "code",
   "execution_count": 6,
   "metadata": {},
   "outputs": [
    {
     "data": {
      "text/plain": [
       "<tf.Tensor: shape=(1, 1), dtype=float32, numpy=array([[0.36237353]], dtype=float32)>"
      ]
     },
     "execution_count": 6,
     "metadata": {},
     "output_type": "execute_result"
    }
   ],
   "source": [
    "test_transactions = np.load(f'{path}/test/transactions.npy')\n",
    "test_labels = np.load(f'{path}/test/all_transaction_labels.npy').astype(float)\n",
    "test_set = tf.data.Dataset.from_tensor_slices((test_transactions, test_labels)).batch(1)\n",
    "# initialize weights\n",
    "model(np.expand_dims(test_transactions[0], axis=0))"
   ]
  },
  {
   "cell_type": "markdown",
   "metadata": {},
   "source": [
    "### Evaluate Model"
   ]
  },
  {
   "cell_type": "code",
   "execution_count": 8,
   "metadata": {},
   "outputs": [],
   "source": [
    "num_epochs = 20"
   ]
  },
  {
   "cell_type": "code",
   "execution_count": 9,
   "metadata": {},
   "outputs": [
    {
     "name": "stdout",
     "output_type": "stream",
     "text": [
      "[EPOCH 0]\n",
      "555719/555719 [==============================] - 485s 871us/step - loss: 0.0344 - binary_accuracy: 0.9961 - true_positives: 0.0000e+00 - true_negatives: 553574.0000 - false_positives: 0.0000e+00 - false_negatives: 2145.0000 - precision: 0.0000e+00 - recall: 0.0000e+00\n",
      "[EPOCH 1]\n",
      "555719/555719 [==============================] - 491s 884us/step - loss: 0.0251 - binary_accuracy: 0.9961 - true_positives: 0.0000e+00 - true_negatives: 553574.0000 - false_positives: 0.0000e+00 - false_negatives: 2145.0000 - precision: 0.0000e+00 - recall: 0.0000e+00\n",
      "[EPOCH 2]\n",
      "555719/555719 [==============================] - 503s 906us/step - loss: 0.0234 - binary_accuracy: 0.9962 - true_positives: 13.0000 - true_negatives: 553571.0000 - false_positives: 3.0000 - false_negatives: 2132.0000 - precision: 0.8125 - recall: 0.0061\n",
      "[EPOCH 3]\n",
      "555719/555719 [==============================] - 498s 897us/step - loss: 0.0209 - binary_accuracy: 0.9963 - true_positives: 160.0000 - true_negatives: 553495.0000 - false_positives: 79.0000 - false_negatives: 1985.0000 - precision: 0.6695 - recall: 0.0746\n",
      "[EPOCH 4]\n",
      "555719/555719 [==============================] - 479s 862us/step - loss: 0.0198 - binary_accuracy: 0.9963 - true_positives: 919.0000 - true_negatives: 552718.0000 - false_positives: 856.0000 - false_negatives: 1226.0000 - precision: 0.5177 - recall: 0.4284\n",
      "[EPOCH 5]\n",
      "555719/555719 [==============================] - 518s 931us/step - loss: 0.0169 - binary_accuracy: 0.9965 - true_positives: 826.0000 - true_negatives: 552952.0000 - false_positives: 622.0000 - false_negatives: 1319.0000 - precision: 0.5704 - recall: 0.3851\n",
      "[EPOCH 6]\n",
      "555719/555719 [==============================] - 548s 986us/step - loss: 0.0164 - binary_accuracy: 0.9956 - true_positives: 1234.0000 - true_negatives: 552054.0000 - false_positives: 1520.0000 - false_negatives: 911.0000 - precision: 0.4481 - recall: 0.5753\n",
      "[EPOCH 7]\n",
      "555719/555719 [==============================] - 502s 904us/step - loss: 0.0139 - binary_accuracy: 0.9973 - true_positives: 1055.0000 - true_negatives: 553161.0000 - false_positives: 413.0000 - false_negatives: 1090.0000 - precision: 0.7187 - recall: 0.4918\n",
      "[EPOCH 8]\n",
      "555719/555719 [==============================] - 514s 925us/step - loss: 0.0598 - binary_accuracy: 0.9931 - true_positives: 911.0000 - true_negatives: 550975.0000 - false_positives: 2599.0000 - false_negatives: 1234.0000 - precision: 0.2595 - recall: 0.4247\n",
      "[EPOCH 9]\n",
      "555719/555719 [==============================] - 408s 733us/step - loss: 0.0179 - binary_accuracy: 0.9966 - true_positives: 1207.0000 - true_negatives: 552623.0000 - false_positives: 951.0000 - false_negatives: 938.0000 - precision: 0.5593 - recall: 0.5627\n",
      "[EPOCH 10]\n",
      "555719/555719 [==============================] - 387s 696us/step - loss: 0.0311 - binary_accuracy: 0.9912 - true_positives: 1592.0000 - true_negatives: 549216.0000 - false_positives: 4358.0000 - false_negatives: 553.0000 - precision: 0.2676 - recall: 0.7422\n",
      "[EPOCH 11]\n",
      "555719/555719 [==============================] - 413s 743us/step - loss: 0.0343 - binary_accuracy: 0.9919 - true_positives: 1597.0000 - true_negatives: 549621.0000 - false_positives: 3953.0000 - false_negatives: 548.0000 - precision: 0.2877 - recall: 0.7445\n",
      "[EPOCH 12]\n",
      "555719/555719 [==============================] - 434s 782us/step - loss: 0.0364 - binary_accuracy: 0.9897 - true_positives: 1499.0000 - true_negatives: 548518.0000 - false_positives: 5056.0000 - false_negatives: 646.0000 - precision: 0.2287 - recall: 0.6988\n",
      "[EPOCH 13]\n",
      "555719/555719 [==============================] - 550s 989us/step - loss: 0.0230 - binary_accuracy: 0.9963 - true_positives: 1375.0000 - true_negatives: 552267.0000 - false_positives: 1307.0000 - false_negatives: 770.0000 - precision: 0.5127 - recall: 0.6410\n",
      "[EPOCH 14]\n",
      "555719/555719 [==============================] - 480s 863us/step - loss: 0.0181 - binary_accuracy: 0.9957 - true_positives: 1613.0000 - true_negatives: 551696.0000 - false_positives: 1878.0000 - false_negatives: 532.0000 - precision: 0.4620 - recall: 0.7520\n",
      "[EPOCH 15]\n",
      "555719/555719 [==============================] - 405s 729us/step - loss: 0.0156 - binary_accuracy: 0.9978 - true_positives: 1379.0000 - true_negatives: 553099.0000 - false_positives: 475.0000 - false_negatives: 766.0000 - precision: 0.7438 - recall: 0.6429\n",
      "[EPOCH 16]\n",
      "555719/555719 [==============================] - 402s 723us/step - loss: 0.0203 - binary_accuracy: 0.9965 - true_positives: 1366.0000 - true_negatives: 552389.0000 - false_positives: 1185.0000 - false_negatives: 779.0000 - precision: 0.5355 - recall: 0.6368\n",
      "[EPOCH 17]\n",
      "555719/555719 [==============================] - 400s 720us/step - loss: 0.0231 - binary_accuracy: 0.9957 - true_positives: 1304.0000 - true_negatives: 552008.0000 - false_positives: 1566.0000 - false_negatives: 841.0000 - precision: 0.4544 - recall: 0.6079\n",
      "[EPOCH 18]\n",
      "555719/555719 [==============================] - 418s 752us/step - loss: 0.0175 - binary_accuracy: 0.9972 - true_positives: 1459.0000 - true_negatives: 552713.0000 - false_positives: 861.0000 - false_negatives: 686.0000 - precision: 0.6289 - recall: 0.6802\n",
      "[EPOCH 19]\n",
      "555719/555719 [==============================] - 346s 623us/step - loss: 0.0302 - binary_accuracy: 0.9964 - true_positives: 1107.0000 - true_negatives: 552597.0000 - false_positives: 977.0000 - false_negatives: 1038.0000 - precision: 0.5312 - recall: 0.5161\n"
     ]
    }
   ],
   "source": [
    "results = []\n",
    "for epoch in range(num_epochs):\n",
    "    print(f\"[EPOCH {epoch}]\")\n",
    "    model_path = f'../machine_learning/saved_models/double/Double_{epoch}.keras'\n",
    "    model.load_weights(model_path)\n",
    "    model.card_gru.reset_states()\n",
    "    model.category_gru.reset_states()\n",
    "\n",
    "    results.append(model.evaluate(test_set, return_dict=True))"
   ]
  },
  {
   "cell_type": "code",
   "execution_count": 10,
   "metadata": {},
   "outputs": [
    {
     "data": {
      "text/html": [
       "<div>\n",
       "<style scoped>\n",
       "    .dataframe tbody tr th:only-of-type {\n",
       "        vertical-align: middle;\n",
       "    }\n",
       "\n",
       "    .dataframe tbody tr th {\n",
       "        vertical-align: top;\n",
       "    }\n",
       "\n",
       "    .dataframe thead th {\n",
       "        text-align: right;\n",
       "    }\n",
       "</style>\n",
       "<table border=\"1\" class=\"dataframe\">\n",
       "  <thead>\n",
       "    <tr style=\"text-align: right;\">\n",
       "      <th></th>\n",
       "      <th>loss</th>\n",
       "      <th>binary_accuracy</th>\n",
       "      <th>true_positives</th>\n",
       "      <th>true_negatives</th>\n",
       "      <th>false_positives</th>\n",
       "      <th>false_negatives</th>\n",
       "      <th>precision</th>\n",
       "      <th>recall</th>\n",
       "    </tr>\n",
       "  </thead>\n",
       "  <tbody>\n",
       "    <tr>\n",
       "      <th>0</th>\n",
       "      <td>0.034405</td>\n",
       "      <td>0.996140</td>\n",
       "      <td>0.0</td>\n",
       "      <td>553574.0</td>\n",
       "      <td>0.0</td>\n",
       "      <td>2145.0</td>\n",
       "      <td>0.000000</td>\n",
       "      <td>0.000000</td>\n",
       "    </tr>\n",
       "    <tr>\n",
       "      <th>1</th>\n",
       "      <td>0.025139</td>\n",
       "      <td>0.996140</td>\n",
       "      <td>0.0</td>\n",
       "      <td>553574.0</td>\n",
       "      <td>0.0</td>\n",
       "      <td>2145.0</td>\n",
       "      <td>0.000000</td>\n",
       "      <td>0.000000</td>\n",
       "    </tr>\n",
       "    <tr>\n",
       "      <th>2</th>\n",
       "      <td>0.023441</td>\n",
       "      <td>0.996158</td>\n",
       "      <td>13.0</td>\n",
       "      <td>553571.0</td>\n",
       "      <td>3.0</td>\n",
       "      <td>2132.0</td>\n",
       "      <td>0.812500</td>\n",
       "      <td>0.006061</td>\n",
       "    </tr>\n",
       "    <tr>\n",
       "      <th>3</th>\n",
       "      <td>0.020915</td>\n",
       "      <td>0.996286</td>\n",
       "      <td>160.0</td>\n",
       "      <td>553495.0</td>\n",
       "      <td>79.0</td>\n",
       "      <td>1985.0</td>\n",
       "      <td>0.669456</td>\n",
       "      <td>0.074592</td>\n",
       "    </tr>\n",
       "    <tr>\n",
       "      <th>4</th>\n",
       "      <td>0.019833</td>\n",
       "      <td>0.996253</td>\n",
       "      <td>919.0</td>\n",
       "      <td>552718.0</td>\n",
       "      <td>856.0</td>\n",
       "      <td>1226.0</td>\n",
       "      <td>0.517747</td>\n",
       "      <td>0.428438</td>\n",
       "    </tr>\n",
       "    <tr>\n",
       "      <th>5</th>\n",
       "      <td>0.016890</td>\n",
       "      <td>0.996507</td>\n",
       "      <td>826.0</td>\n",
       "      <td>552952.0</td>\n",
       "      <td>622.0</td>\n",
       "      <td>1319.0</td>\n",
       "      <td>0.570442</td>\n",
       "      <td>0.385082</td>\n",
       "    </tr>\n",
       "    <tr>\n",
       "      <th>6</th>\n",
       "      <td>0.016376</td>\n",
       "      <td>0.995625</td>\n",
       "      <td>1234.0</td>\n",
       "      <td>552054.0</td>\n",
       "      <td>1520.0</td>\n",
       "      <td>911.0</td>\n",
       "      <td>0.448076</td>\n",
       "      <td>0.575291</td>\n",
       "    </tr>\n",
       "    <tr>\n",
       "      <th>7</th>\n",
       "      <td>0.013940</td>\n",
       "      <td>0.997295</td>\n",
       "      <td>1055.0</td>\n",
       "      <td>553161.0</td>\n",
       "      <td>413.0</td>\n",
       "      <td>1090.0</td>\n",
       "      <td>0.718665</td>\n",
       "      <td>0.491841</td>\n",
       "    </tr>\n",
       "    <tr>\n",
       "      <th>8</th>\n",
       "      <td>0.059781</td>\n",
       "      <td>0.993103</td>\n",
       "      <td>911.0</td>\n",
       "      <td>550975.0</td>\n",
       "      <td>2599.0</td>\n",
       "      <td>1234.0</td>\n",
       "      <td>0.259544</td>\n",
       "      <td>0.424709</td>\n",
       "    </tr>\n",
       "    <tr>\n",
       "      <th>9</th>\n",
       "      <td>0.017871</td>\n",
       "      <td>0.996601</td>\n",
       "      <td>1207.0</td>\n",
       "      <td>552623.0</td>\n",
       "      <td>951.0</td>\n",
       "      <td>938.0</td>\n",
       "      <td>0.559314</td>\n",
       "      <td>0.562704</td>\n",
       "    </tr>\n",
       "    <tr>\n",
       "      <th>10</th>\n",
       "      <td>0.031087</td>\n",
       "      <td>0.991163</td>\n",
       "      <td>1592.0</td>\n",
       "      <td>549216.0</td>\n",
       "      <td>4358.0</td>\n",
       "      <td>553.0</td>\n",
       "      <td>0.267563</td>\n",
       "      <td>0.742191</td>\n",
       "    </tr>\n",
       "    <tr>\n",
       "      <th>11</th>\n",
       "      <td>0.034251</td>\n",
       "      <td>0.991901</td>\n",
       "      <td>1597.0</td>\n",
       "      <td>549621.0</td>\n",
       "      <td>3953.0</td>\n",
       "      <td>548.0</td>\n",
       "      <td>0.287748</td>\n",
       "      <td>0.744522</td>\n",
       "    </tr>\n",
       "    <tr>\n",
       "      <th>12</th>\n",
       "      <td>0.036352</td>\n",
       "      <td>0.989739</td>\n",
       "      <td>1499.0</td>\n",
       "      <td>548518.0</td>\n",
       "      <td>5056.0</td>\n",
       "      <td>646.0</td>\n",
       "      <td>0.228680</td>\n",
       "      <td>0.698834</td>\n",
       "    </tr>\n",
       "    <tr>\n",
       "      <th>13</th>\n",
       "      <td>0.023024</td>\n",
       "      <td>0.996262</td>\n",
       "      <td>1375.0</td>\n",
       "      <td>552267.0</td>\n",
       "      <td>1307.0</td>\n",
       "      <td>770.0</td>\n",
       "      <td>0.512677</td>\n",
       "      <td>0.641026</td>\n",
       "    </tr>\n",
       "    <tr>\n",
       "      <th>14</th>\n",
       "      <td>0.018057</td>\n",
       "      <td>0.995663</td>\n",
       "      <td>1613.0</td>\n",
       "      <td>551696.0</td>\n",
       "      <td>1878.0</td>\n",
       "      <td>532.0</td>\n",
       "      <td>0.462045</td>\n",
       "      <td>0.751981</td>\n",
       "    </tr>\n",
       "    <tr>\n",
       "      <th>15</th>\n",
       "      <td>0.015642</td>\n",
       "      <td>0.997767</td>\n",
       "      <td>1379.0</td>\n",
       "      <td>553099.0</td>\n",
       "      <td>475.0</td>\n",
       "      <td>766.0</td>\n",
       "      <td>0.743797</td>\n",
       "      <td>0.642890</td>\n",
       "    </tr>\n",
       "    <tr>\n",
       "      <th>16</th>\n",
       "      <td>0.020270</td>\n",
       "      <td>0.996466</td>\n",
       "      <td>1366.0</td>\n",
       "      <td>552389.0</td>\n",
       "      <td>1185.0</td>\n",
       "      <td>779.0</td>\n",
       "      <td>0.535476</td>\n",
       "      <td>0.636830</td>\n",
       "    </tr>\n",
       "    <tr>\n",
       "      <th>17</th>\n",
       "      <td>0.023054</td>\n",
       "      <td>0.995669</td>\n",
       "      <td>1304.0</td>\n",
       "      <td>552008.0</td>\n",
       "      <td>1566.0</td>\n",
       "      <td>841.0</td>\n",
       "      <td>0.454355</td>\n",
       "      <td>0.607925</td>\n",
       "    </tr>\n",
       "    <tr>\n",
       "      <th>18</th>\n",
       "      <td>0.017484</td>\n",
       "      <td>0.997216</td>\n",
       "      <td>1459.0</td>\n",
       "      <td>552713.0</td>\n",
       "      <td>861.0</td>\n",
       "      <td>686.0</td>\n",
       "      <td>0.628879</td>\n",
       "      <td>0.680186</td>\n",
       "    </tr>\n",
       "    <tr>\n",
       "      <th>19</th>\n",
       "      <td>0.030217</td>\n",
       "      <td>0.996374</td>\n",
       "      <td>1107.0</td>\n",
       "      <td>552597.0</td>\n",
       "      <td>977.0</td>\n",
       "      <td>1038.0</td>\n",
       "      <td>0.531190</td>\n",
       "      <td>0.516084</td>\n",
       "    </tr>\n",
       "  </tbody>\n",
       "</table>\n",
       "</div>"
      ],
      "text/plain": [
       "        loss  binary_accuracy  true_positives  true_negatives   \n",
       "0   0.034405         0.996140             0.0        553574.0  \\\n",
       "1   0.025139         0.996140             0.0        553574.0   \n",
       "2   0.023441         0.996158            13.0        553571.0   \n",
       "3   0.020915         0.996286           160.0        553495.0   \n",
       "4   0.019833         0.996253           919.0        552718.0   \n",
       "5   0.016890         0.996507           826.0        552952.0   \n",
       "6   0.016376         0.995625          1234.0        552054.0   \n",
       "7   0.013940         0.997295          1055.0        553161.0   \n",
       "8   0.059781         0.993103           911.0        550975.0   \n",
       "9   0.017871         0.996601          1207.0        552623.0   \n",
       "10  0.031087         0.991163          1592.0        549216.0   \n",
       "11  0.034251         0.991901          1597.0        549621.0   \n",
       "12  0.036352         0.989739          1499.0        548518.0   \n",
       "13  0.023024         0.996262          1375.0        552267.0   \n",
       "14  0.018057         0.995663          1613.0        551696.0   \n",
       "15  0.015642         0.997767          1379.0        553099.0   \n",
       "16  0.020270         0.996466          1366.0        552389.0   \n",
       "17  0.023054         0.995669          1304.0        552008.0   \n",
       "18  0.017484         0.997216          1459.0        552713.0   \n",
       "19  0.030217         0.996374          1107.0        552597.0   \n",
       "\n",
       "    false_positives  false_negatives  precision    recall  \n",
       "0               0.0           2145.0   0.000000  0.000000  \n",
       "1               0.0           2145.0   0.000000  0.000000  \n",
       "2               3.0           2132.0   0.812500  0.006061  \n",
       "3              79.0           1985.0   0.669456  0.074592  \n",
       "4             856.0           1226.0   0.517747  0.428438  \n",
       "5             622.0           1319.0   0.570442  0.385082  \n",
       "6            1520.0            911.0   0.448076  0.575291  \n",
       "7             413.0           1090.0   0.718665  0.491841  \n",
       "8            2599.0           1234.0   0.259544  0.424709  \n",
       "9             951.0            938.0   0.559314  0.562704  \n",
       "10           4358.0            553.0   0.267563  0.742191  \n",
       "11           3953.0            548.0   0.287748  0.744522  \n",
       "12           5056.0            646.0   0.228680  0.698834  \n",
       "13           1307.0            770.0   0.512677  0.641026  \n",
       "14           1878.0            532.0   0.462045  0.751981  \n",
       "15            475.0            766.0   0.743797  0.642890  \n",
       "16           1185.0            779.0   0.535476  0.636830  \n",
       "17           1566.0            841.0   0.454355  0.607925  \n",
       "18            861.0            686.0   0.628879  0.680186  \n",
       "19            977.0           1038.0   0.531190  0.516084  "
      ]
     },
     "execution_count": 10,
     "metadata": {},
     "output_type": "execute_result"
    }
   ],
   "source": [
    "import pandas as pd\n",
    "\n",
    "pd.DataFrame(results)"
   ]
  },
  {
   "cell_type": "markdown",
   "metadata": {},
   "source": [
    "Looking at the metrics, the one which yielded the best results was at **epoch 15** with the best balance between precision and recall:"
   ]
  },
  {
   "cell_type": "markdown",
   "metadata": {},
   "source": [
    "### Confusion Matrix"
   ]
  },
  {
   "cell_type": "code",
   "execution_count": 7,
   "metadata": {},
   "outputs": [],
   "source": [
    "model.load_weights(f'../machine_learning/saved_models/double/Double_{15}.keras')\n",
    "inputs = [[553099/(553099+475), 475/(553099+475)], [766/(1379+766), 1379/(1379+766)]]"
   ]
  },
  {
   "cell_type": "code",
   "execution_count": 8,
   "metadata": {},
   "outputs": [
    {
     "name": "stdout",
     "output_type": "stream",
     "text": [
      "555719/555719 [==============================] - 320s 575us/step - loss: 0.0149 - binary_accuracy: 0.9978 - true_positives: 1356.0000 - true_negatives: 553141.0000 - false_positives: 433.0000 - false_negatives: 789.0000 - precision: 0.7580 - recall: 0.6322\n"
     ]
    },
    {
     "data": {
      "text/plain": [
       "[0.014940619468688965,\n",
       " 0.9978010654449463,\n",
       " 1356.0,\n",
       " 553141.0,\n",
       " 433.0,\n",
       " 789.0,\n",
       " 0.7579653263092041,\n",
       " 0.6321678161621094]"
      ]
     },
     "execution_count": 8,
     "metadata": {},
     "output_type": "execute_result"
    }
   ],
   "source": [
    "model.evaluate(test_set)"
   ]
  },
  {
   "cell_type": "code",
   "execution_count": 9,
   "metadata": {},
   "outputs": [
    {
     "data": {
      "image/png": "[encoded data removed]",
      "text/plain": [
       "<Figure size 640x480 with 2 Axes>"
      ]
     },
     "metadata": {},
     "output_type": "display_data"
    }
   ],
   "source": [
    "import seaborn as sns\n",
    "import matplotlib.pyplot as plt\n",
    "\n",
    "# Plot the confusion matrix using a heatmap\n",
    "sns.heatmap(inputs, annot=True, cmap='Blues')\n",
    "plt.xlabel('Predicted Labels')\n",
    "plt.ylabel('True Labels')\n",
    "plt.show()\n"
   ]
  },
  {
   "cell_type": "code",
   "execution_count": 10,
   "metadata": {},
   "outputs": [
    {
     "name": "stdout",
     "output_type": "stream",
     "text": [
      "555719/555719 [==============================] - 258s 464us/step\n"
     ]
    }
   ],
   "source": [
    "y_pred_proba = model.predict(test_set)"
   ]
  },
  {
   "cell_type": "code",
   "execution_count": 11,
   "metadata": {},
   "outputs": [
    {
     "data": {
      "image/png": "[encoded data removed]",
      "text/plain": [
       "<Figure size 640x480 with 1 Axes>"
      ]
     },
     "metadata": {},
     "output_type": "display_data"
    }
   ],
   "source": [
    "from sklearn.metrics import roc_curve, auc\n",
    "\n",
    "# Calculate FPR, TPR, and thresholds using NumPy\n",
    "fpr, tpr, thresholds = roc_curve(test_labels, y_pred_proba)\n",
    "\n",
    "# Calculate AUC using scikit-learn\n",
    "auc_score = auc(fpr, tpr)\n",
    "\n",
    "# Plot ROC curve using Matplotlib\n",
    "plt.plot(fpr, tpr, label='ROC curve (area = %0.2f)' % auc_score)\n",
    "plt.plot([0, 1], [0, 1], 'k--')\n",
    "plt.xlim([0.0, 1.0])\n",
    "plt.ylim([0.0, 1.05])\n",
    "plt.xlabel('False Positive Rate')\n",
    "plt.ylabel('True Positive Rate')\n",
    "plt.title('Receiver Operating Characteristic')\n",
    "plt.legend(loc=\"lower right\")\n",
    "plt.show()\n"
   ]
  },
  {
   "cell_type": "markdown",
   "metadata": {},
   "source": [
    "0,0148833330\n",
    "\n",
    "\n",
    "\n",
    "78644/78644 [==============================] - 113s 1ms/step - loss: 0.0161 - binary_accuracy: 0.9973 - true_positives: 166.0000 - true_negatives: 78268.0000 - false_positives: 76.0000 - false_negatives: 134.0000 - precision: 0.6860 - recall: 0.5533           \n",
    "79236/79236 [==============================] - 113s 1ms/step - loss: 0.0152 - binary_accuracy: 0.9978 - true_positives: 220.0000 - true_negatives: 78838.0000 - false_positives: 52.0000 - false_negatives: 126.0000 - precision: 0.8088 - recall: 0.6358\n",
    "[WORKER 4]: Total time: 113.38421487808228 s, Average forward pass: 0.0010946097983699655 s, Throughput: 698.8274345348641 s\n",
    "78891/78891 [==============================] - 114s 1ms/step - loss: 0.0148 - binary_accuracy: 0.9978 - true_positives: 183.0000 - true_negatives: 78538.0000 - false_positives: 53.0000 - false_negatives: 117.0000 - precision: 0.7754 - recall: 0.6100\n",
    "[WORKER 6]: Total time: 113.50196051597595 s, Average forward pass: 0.001098645970838637 s, Throughput: 695.0628838600168 s\n",
    "80251/80251 [==============================] - 114s 1ms/step - loss: 0.0161 - binary_accuracy: 0.9975 - true_positives: 209.0000 - true_negatives: 79839.0000 - false_positives: 64.0000 - false_negatives: 139.0000 - precision: 0.7656 - recall: 0.6006\n",
    "[WORKER 1]: Total time: 113.69675660133362 s, Average forward pass: 0.0010858765435847752 s, Throughput: 705.8336789798865 s\n",
    "79516/79516 [==============================] - 114s 1ms/step - loss: 0.0146 - binary_accuracy: 0.9978 - true_positives: 172.0000 - true_negatives: 79166.0000 - false_positives: 91.0000 - false_negatives: 87.0000 - precision: 0.6540 - recall: 0.6641\n",
    "[WORKER 3]: Total time: 113.93395233154297 s, Average forward pass: 0.0010978270359001886 s, Throughput: 697.9131187217293 s\n",
    "79338/79338 [==============================] - 114s 1ms/step - loss: 0.0129 - binary_accuracy: 0.9987 - true_positives: 144.0000 - true_negatives: 79091.0000 - false_positives: 33.0000 - false_negatives: 70.0000 - precision: 0.8136 - recall: 0.6729\n",
    "[WORKER 5]: Total time: 114.22647023200989 s, Average forward pass: 0.0011040956084700413 s, Throughput: 694.5675537277258 s\n",
    "79843/79843 [==============================] - 114s 1ms/step - loss: 0.0148 - binary_accuracy: 0.9977 - true_positives: 264.0000 - true_negatives: 79396.0000 - false_positives: 69.0000 - false_negatives: 114.0000 - precision: 0.7928 - recall: 0.6984\n",
    "[WORKER 2]: Total time: 114.39914441108704 s, Average forward pass: 0.0010951993018793738 s, Throughput: 697.9335414702803 s\n",
    "[WORKER 0]: Total time: 112.53171467781067 s, Average forward pass: 0.001096916598297743 s, Throughput: 698.8607631649929 s\n",
    "\n",
    "\n",
    "(0.0148+0.0156+0.0154+0.0154+0.0149+0.0148+0.0151+0.0135)/8\n",
    "\n",
    "69394/69394 [==============================] - 127s 2ms/step - loss: 0.0148 - binary_accuracy: 0.9977 - true_positives: 223.0000 - true_negatives: 69011.0000 - false_positives: 57.0000 - false_negatives: 103.0000 - precision: 0.7964 - recall: 0.6840           \n",
    "[WORKER 5]: Total time: 127.09262919425964 s, Average forward pass: 0.0014144198181313301 s, Throughput: 546.0112080452129 s\n",
    "69108/69108 [==============================] - 127s 2ms/step - loss: 0.0156 - binary_accuracy: 0.9976 - true_positives: 185.0000 - true_negatives: 68759.0000 - false_positives: 45.0000 - false_negatives: 119.0000 - precision: 0.8043 - recall: 0.6086\n",
    "[WORKER 6]: Total time: 127.1844367980957 s, Average forward pass: 0.001422763098484734 s, Throughput: 543.3683691166428 s\n",
    "68937/68937 [==============================] - 128s 2ms/step - loss: 0.0154 - binary_accuracy: 0.9975 - true_positives: 157.0000 - true_negatives: 68608.0000 - false_positives: 74.0000 - false_negatives: 98.0000 - precision: 0.6797 - recall: 0.6157\n",
    "[WORKER 7]: Total time: 127.56530952453613 s, Average forward pass: 0.0014325931800353005 s, Throughput: 540.4055401656086 s\n",
    "68685/68685 [==============================] - 128s 2ms/step - loss: 0.0154 - binary_accuracy: 0.9978 - true_positives: 121.0000 - true_negatives: 68416.0000 - false_positives: 49.0000 - false_negatives: 99.0000 - precision: 0.7118 - recall: 0.5500\n",
    "[WORKER 0]: Total time: 127.83991885185242 s, Average forward pass: 0.0014347314747815015 s, Throughput: 537.2734949839554 s\n",
    "69717/69717 [==============================] - 128s 2ms/step - loss: 0.0149 - binary_accuracy: 0.9979 - true_positives: 193.0000 - true_negatives: 69378.0000 - false_positives: 51.0000 - false_negatives: 95.0000 - precision: 0.7910 - recall: 0.6701\n",
    "[WORKER 3]: Total time: 127.92517042160034 s, Average forward pass: 0.0014180218798791706 s, Throughput: 544.9826626787764 s\n",
    "69659/69659 [==============================] - 128s 2ms/step - loss: 0.0148 - binary_accuracy: 0.9977 - true_positives: 180.0000 - true_negatives: 69322.0000 - false_positives: 60.0000 - false_negatives: 97.0000 - precision: 0.7500 - recall: 0.6498\n",
    "[WORKER 2]: Total time: 128.26452016830444 s, Average forward pass: 0.0014240404495745045 s, Throughput: 543.0886102298264 s\n",
    "69931/69931 [==============================] - 129s 2ms/step - loss: 0.0151 - binary_accuracy: 0.9979 - true_positives: 146.0000 - true_negatives: 69638.0000 - false_positives: 58.0000 - false_negatives: 89.0000 - precision: 0.7157 - recall: 0.6213\n",
    "[WORKER 4]: Total time: 128.5799000263214 s, Average forward pass: 0.0014218892256225668 s, Throughput: 543.8719425484428 s\n",
    "70288/70288 [==============================] - 129s 2ms/step - loss: 0.0135 - binary_accuracy: 0.9981 - true_positives: 152.0000 - true_negatives: 70004.0000 - false_positives: 44.0000 - false_negatives: 88.0000 - precision: 0.7755 - recall: 0.6333\n",
    "[WORKER 1]: Total time: 129.11177563667297 s, Average forward pass: 0.001421475126209819 s, Throughput: 544.3965095623344 s\n",
    "\n",
    "(0.0174+0.0159+0.0123+0.0152+0.0135+0.0146+0.0162+0.0146+0.0149)/9\n",
    "\n",
    "\n",
    "\n",
    "61109/61109 [==============================] - 132s 2ms/step - loss: 0.0174 - binary_accuracy: 0.9971 - true_positives: 172.0000 - true_negatives: 60759.0000 - false_positives: 44.0000 - false_negatives: 134.0000 - precision: 0.7963 - recall: 0.5621           \n",
    "[WORKER 8]: Total time: 131.5071702003479 s, Average forward pass: 0.001666844947482968 s, Throughput: 464.6818869792572 s\n",
    "62478/62478 [==============================] - 133s 2ms/step - loss: 0.0159 - binary_accuracy: 0.9974 - true_positives: 166.0000 - true_negatives: 62151.0000 - false_positives: 58.0000 - false_negatives: 103.0000 - precision: 0.7411 - recall: 0.6171\n",
    "[WORKER 2]: Total time: 132.59049439430237 s, Average forward pass: 0.001640842358462083 s, Throughput: 471.2102499158098 s\n",
    "61147/61147 [==============================] - 133s 2ms/step - loss: 0.0123 - binary_accuracy: 0.9985 - true_positives: 129.0000 - true_negatives: 60929.0000 - false_positives: 40.0000 - false_negatives: 49.0000 - precision: 0.7633 - recall: 0.7247\n",
    "[WORKER 0]: Total time: 132.9764199256897 s, Average forward pass: 0.0016862876530627205 s, Throughput: 459.83340530727446 s\n",
    "62237/62237 [==============================] - 133s 2ms/step - loss: 0.0152 - binary_accuracy: 0.9978 - true_positives: 146.0000 - true_negatives: 61953.0000 - false_positives: 56.0000 - false_negatives: 82.0000 - precision: 0.7228 - recall: 0.6404\n",
    "[WORKER 3]: Total time: 132.95898008346558 s, Average forward pass: 0.0016589168832861277 s, Throughput: 468.0917374736964 s\n",
    "62105/62105 [==============================] - 133s 2ms/step - loss: 0.0135 - binary_accuracy: 0.9982 - true_positives: 104.0000 - true_negatives: 61889.0000 - false_positives: 40.0000 - false_negatives: 72.0000 - precision: 0.7222 - recall: 0.5909\n",
    "[WORKER 1]: Total time: 133.25257778167725 s, Average forward pass: 0.0016654081692414223 s, Throughput: 466.06978291822344 s\n",
    "61315/61315 [==============================] - 133s 2ms/step - loss: 0.0146 - binary_accuracy: 0.9978 - true_positives: 141.0000 - true_negatives: 61040.0000 - false_positives: 66.0000 - false_negatives: 68.0000 - precision: 0.6812 - recall: 0.6746\n",
    "[WORKER 6]: Total time: 133.1257622241974 s, Average forward pass: 0.0016852478116621914 s, Throughput: 460.579522517507 s\n",
    "61966/61966 [==============================] - 133s 2ms/step - loss: 0.0162 - binary_accuracy: 0.9975 - true_positives: 142.0000 - true_negatives: 61672.0000 - false_positives: 51.0000 - false_negatives: 101.0000 - precision: 0.7358 - recall: 0.5844\n",
    "[WORKER 5]: Total time: 133.21550512313843 s, Average forward pass: 0.0016682160407390373 s, Throughput: 465.1560637984401 s\n",
    "61740/61740 [==============================] - 133s 2ms/step - loss: 0.0146 - binary_accuracy: 0.9978 - true_positives: 191.0000 - true_negatives: 61414.0000 - false_positives: 43.0000 - false_negatives: 92.0000 - precision: 0.8162 - recall: 0.6749\n",
    "[WORKER 4]: Total time: 133.39429211616516 s, Average forward pass: 0.0016758355501210146 s, Throughput: 462.8383945111707 s\n",
    "61622/61622 [==============================] - 134s 2ms/step - loss: 0.0149 - binary_accuracy: 0.9979 - true_positives: 165.0000 - true_negatives: 61328.0000 - false_positives: 41.0000 - false_negatives: 88.0000 - precision: 0.8010 - recall: 0.6522\n",
    "[WORKER 7]: Total time: 133.54385232925415 s, Average forward pass: 0.001681271022174983 s, Throughput: 461.4364414774417 s\n"
   ]
  },
  {
   "cell_type": "markdown",
   "metadata": {},
   "source": [
    "(0.0143+0.0127+0.0134+0.0156+0.0142+0.0172+0.0166+0.0140+0.0142+0.0171)/10\n",
    "152+112+126+204+94.+136+119+131+49+234\n",
    "55019/55019 [==============================] - 115s 2ms/step - loss: 0.0143 - binary_accuracy: 0.9980 - true_positives: 152.0000 - true_negatives: 54756.0000 - false_positives: 39.0000 - false_negatives: 72.0000 - precision: 0.7958 - recall: 0.6786            \n",
    "[WORKER 0]: Total time: 114.69038653373718 s, Average forward pass: 0.0016142997290333706 s, Throughput: 479.7176264099143 s\n",
    "55128/55128 [==============================] - 115s 2ms/step - loss: 0.0127 - binary_accuracy: 0.9983 - true_positives: 112.0000 - true_negatives: 54925.0000 - false_positives: 40.0000 - false_negatives: 51.0000 - precision: 0.7368 - recall: 0.6871\n",
    "[WORKER 7]: Total time: 114.66191244125366 s, Average forward pass: 0.0016119591929607754 s, Throughput: 480.78737591477466 s\n",
    "55151/55151 [==============================] - 115s 2ms/step - loss: 0.0134 - binary_accuracy: 0.9981 - true_positives: 126.0000 - true_negatives: 54922.0000 - false_positives: 35.0000 - false_negatives: 68.0000 - precision: 0.7826 - recall: 0.6495\n",
    "55482/55482 [==============================] - 116s 2ms/step - loss: 0.0156 - binary_accuracy: 0.9972 - true_positives: 204.0000 - true_negatives: 55124.0000 - false_positives: 50.0000 - false_negatives: 104.0000 - precision: 0.8031 - recall: 0.6623\n",
    "[WORKER 5]: Total time: 115.79867911338806 s, Average forward pass: 0.0016174122859283367 s, Throughput: 479.1246361771794 s\n",
    "55169/55169 [==============================] - 116s 2ms/step - loss: 0.0142 - binary_accuracy: 0.9981 - true_positives: 94.0000 - true_negatives: 54971.0000 - false_positives: 43.0000 - false_negatives: 61.0000 - precision: 0.6861 - recall: 0.6065\n",
    "[WORKER 8]: Total time: 115.87995481491089 s, Average forward pass: 0.0016323788420286114 s, Throughput: 476.0875173632801 s\n",
    "55375/55375 [==============================] - 116s 2ms/step - loss: 0.0172 - binary_accuracy: 0.9971 - true_positives: 136.0000 - true_negatives: 55081.0000 - false_positives: 40.0000 - false_negatives: 118.0000 - precision: 0.7727 - recall: 0.5354\n",
    "[WORKER 6]: Total time: 116.32999753952026 s, Average forward pass: 0.0016288134615792646 s, Throughput: 476.01651483906977 s\n",
    "55776/55776 [==============================] - 117s 2ms/step - loss: 0.0166 - binary_accuracy: 0.9976 - true_positives: 119.0000 - true_negatives: 55524.0000 - false_positives: 50.0000 - false_negatives: 83.0000 - precision: 0.7041 - recall: 0.5891\n",
    "[WORKER 2]: Total time: 116.83309507369995 s, Average forward pass: 0.001622821552207671 s, Throughput: 477.3989764185886 s\n",
    "56044/56044 [==============================] - 117s 2ms/step - loss: 0.0140 - binary_accuracy: 0.9981 - true_positives: 131.0000 - true_negatives: 55805.0000 - false_positives: 38.0000 - false_negatives: 70.0000 - precision: 0.7751 - recall: 0.6517\n",
    "[WORKER 4]: Total time: 117.13308787345886 s, Average forward pass: 0.0016222455484369703 s, Throughput: 478.46429234876325 s\n",
    "55905/55905 [==============================] - 117s 2ms/step - loss: 0.0142 - binary_accuracy: 0.9984 - true_positives: 49.0000 - true_negatives: 55769.0000 - false_positives: 32.0000 - false_negatives: 55.0000 - precision: 0.6049 - recall: 0.4712\n",
    "[WORKER 3]: Total time: 117.17876696586609 s, Average forward pass: 0.0016257057099529567 s, Throughput: 477.0915537648984 s\n",
    "56670/56670 [==============================] - 118s 2ms/step - loss: 0.0171 - binary_accuracy: 0.9969 - true_positives: 234.0000 - true_negatives: 56259.0000 - false_positives: 71.0000 - false_negatives: 106.0000 - precision: 0.7672 - recall: 0.6882\n",
    "[WORKER 1]: Total time: 117.60816240310669 s, Average forward pass: 0.0016121365941136692 s, Throughput: 481.8543104666605 s\n",
    "[WORKER 9]: Total time: 115.13105797767639 s, Average forward pass: 0.0016167227008120496 s, Throughput: 479.02799617018746 s\n"
   ]
  }
 ],
 "metadata": {
  "kernelspec": {
   "display_name": "thesis",
   "language": "python",
   "name": "python3"
  },
  "language_info": {
   "codemirror_mode": {
    "name": "ipython",
    "version": 3
   },
   "file_extension": ".py",
   "mimetype": "text/x-python",
   "name": "python",
   "nbconvert_exporter": "python",
   "pygments_lexer": "ipython3",
   "version": "3.11.2"
  },
  "orig_nbformat": 4
 },
 "nbformat": 4,
 "nbformat_minor": 2
}
