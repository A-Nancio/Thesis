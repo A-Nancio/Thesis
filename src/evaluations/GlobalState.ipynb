{
 "cells": [
  {
   "cell_type": "markdown",
   "metadata": {},
   "source": [
    "# Evaluation Global State Model"
   ]
  },
  {
   "cell_type": "markdown",
   "metadata": {},
   "source": [
    "import statements:"
   ]
  },
  {
   "cell_type": "code",
   "execution_count": 1,
   "metadata": {},
   "outputs": [],
   "source": [
    "import os\n",
    "os.environ['TF_CPP_MIN_LOG_LEVEL'] = '3' \n",
    "\n",
    "from keras.layers import Dense, Dropout\n",
    "\n",
    "import tensorflow as tf\n",
    "import numpy as np\n",
    "from tqdm import tqdm\n",
    "from keras.layers import Dense, Dropout, GRU\n",
    "\n",
    "\n",
    "import tensorflow as tf\n",
    "import numpy as np\n",
    "\n",
    "tf.random.set_seed(42)"
   ]
  },
  {
   "cell_type": "markdown",
   "metadata": {},
   "source": [
    "define model:"
   ]
  },
  {
   "cell_type": "code",
   "execution_count": 2,
   "metadata": {},
   "outputs": [],
   "source": [
    "class GlobalState(tf.keras.Model):\n",
    "    def __init__(self, stateful: bool, *args, **kwargs):\n",
    "        super().__init__(self, *args, **kwargs)\n",
    "        self.gru = GRU(units=128, stateful=stateful)\n",
    "        self.layer2 = Dense(units=128, activation='relu')\n",
    "        self.dropout = Dropout(0.2)\n",
    "        self.layer3 = Dense(64, activation='relu')\n",
    "        self.out = Dense(1,  activation=\"sigmoid\")\n",
    "\n",
    "    def call(self, inputs, training=None, mask=None):\n",
    "        var = self.gru(inputs)\n",
    "        var = self.layer2(var)\n",
    "        var = self.dropout(var)\n",
    "        var = self.layer3(var)\n",
    "        out = self.out(var)\n",
    "        return out\n",
    "    \n",
    "    \n",
    "model = GlobalState(stateful=True)\n"
   ]
  },
  {
   "cell_type": "code",
   "execution_count": 3,
   "metadata": {},
   "outputs": [],
   "source": [
    "model.compile(loss=tf.keras.losses.BinaryCrossentropy(),\n",
    "        optimizer=tf.keras.optimizers.Adam(),\n",
    "        metrics=[\n",
    "            tf.keras.metrics.BinaryAccuracy(),\n",
    "            tf.keras.metrics.TruePositives(), \n",
    "            tf.keras.metrics.TrueNegatives(),\n",
    "            tf.keras.metrics.FalsePositives(), \n",
    "            tf.keras.metrics.FalseNegatives(),\n",
    "            tf.keras.metrics.Precision(),\n",
    "            tf.keras.metrics.Recall()])\n"
   ]
  },
  {
   "cell_type": "markdown",
   "metadata": {},
   "source": [
    "### Dataset"
   ]
  },
  {
   "cell_type": "code",
   "execution_count": 4,
   "metadata": {},
   "outputs": [],
   "source": [
    "path = '../data'\n",
    "BATCH_SIZE = 1024\n",
    "SEQUENCE_LENGTH = 100"
   ]
  },
  {
   "cell_type": "code",
   "execution_count": 5,
   "metadata": {},
   "outputs": [
    {
     "data": {
      "text/plain": [
       "<tf.Tensor: shape=(1, 1), dtype=float32, numpy=array([[0.4225944]], dtype=float32)>"
      ]
     },
     "execution_count": 5,
     "metadata": {},
     "output_type": "execute_result"
    }
   ],
   "source": [
    "test_transactions = np.expand_dims(np.load(f'{path}/test/transactions.npy'), axis=1)\n",
    "test_labels = np.load(f'{path}/test/all_transaction_labels.npy').astype(float)\n",
    "test_set = tf.data.Dataset.from_tensor_slices((test_transactions, test_labels)).batch(1)\n",
    "\n",
    "# initialize weights\n",
    "model(list(test_set.take(1))[0][0])"
   ]
  },
  {
   "cell_type": "markdown",
   "metadata": {},
   "source": [
    "### Evaluate Model"
   ]
  },
  {
   "cell_type": "code",
   "execution_count": 9,
   "metadata": {},
   "outputs": [],
   "source": [
    "num_epochs = 20"
   ]
  },
  {
   "cell_type": "code",
   "execution_count": 11,
   "metadata": {},
   "outputs": [
    {
     "name": "stdout",
     "output_type": "stream",
     "text": [
      "[EPOCH 0]\n",
      "555719/555719 [==============================] - 353s 635us/step - loss: 0.0250 - binary_accuracy: 0.9961 - true_positives_1: 0.0000e+00 - true_negatives_1: 553574.0000 - false_positives_1: 0.0000e+00 - false_negatives_1: 2145.0000 - precision_1: 0.0000e+00 - recall_1: 0.0000e+00\n",
      "[EPOCH 1]\n",
      "555719/555719 [==============================] - 354s 637us/step - loss: 0.0253 - binary_accuracy: 0.9961 - true_positives_1: 0.0000e+00 - true_negatives_1: 553574.0000 - false_positives_1: 0.0000e+00 - false_negatives_1: 2145.0000 - precision_1: 0.0000e+00 - recall_1: 0.0000e+00\n",
      "[EPOCH 2]\n",
      "555719/555719 [==============================] - 339s 609us/step - loss: 0.0197 - binary_accuracy: 0.9961 - true_positives_1: 0.0000e+00 - true_negatives_1: 553574.0000 - false_positives_1: 0.0000e+00 - false_negatives_1: 2145.0000 - precision_1: 0.0000e+00 - recall_1: 0.0000e+00\n",
      "[EPOCH 3]\n",
      "555719/555719 [==============================] - 344s 620us/step - loss: 0.0223 - binary_accuracy: 0.9948 - true_positives_1: 227.0000 - true_negatives_1: 552622.0000 - false_positives_1: 952.0000 - false_negatives_1: 1918.0000 - precision_1: 0.1925 - recall_1: 0.1058\n",
      "[EPOCH 4]\n",
      "555719/555719 [==============================] - 347s 624us/step - loss: 0.0214 - binary_accuracy: 0.9961 - true_positives_1: 55.0000 - true_negatives_1: 553474.0000 - false_positives_1: 100.0000 - false_negatives_1: 2090.0000 - precision_1: 0.3548 - recall_1: 0.0256\n",
      "[EPOCH 5]\n",
      "555719/555719 [==============================] - 346s 622us/step - loss: 0.0207 - binary_accuracy: 0.9961 - true_positives_1: 66.0000 - true_negatives_1: 553468.0000 - false_positives_1: 106.0000 - false_negatives_1: 2079.0000 - precision_1: 0.3837 - recall_1: 0.0308\n",
      "[EPOCH 6]\n",
      "555719/555719 [==============================] - 345s 621us/step - loss: 0.0230 - binary_accuracy: 0.9949 - true_positives_1: 464.0000 - true_negatives_1: 552412.0000 - false_positives_1: 1162.0000 - false_negatives_1: 1681.0000 - precision_1: 0.2854 - recall_1: 0.2163\n",
      "[EPOCH 7]\n",
      "555719/555719 [==============================] - 344s 618us/step - loss: 0.0251 - binary_accuracy: 0.9941 - true_positives_1: 496.0000 - true_negatives_1: 551930.0000 - false_positives_1: 1644.0000 - false_negatives_1: 1649.0000 - precision_1: 0.2318 - recall_1: 0.2312\n",
      "[EPOCH 8]\n",
      "555719/555719 [==============================] - 337s 607us/step - loss: 0.0186 - binary_accuracy: 0.9961 - true_positives_1: 42.0000 - true_negatives_1: 553505.0000 - false_positives_1: 69.0000 - false_negatives_1: 2103.0000 - precision_1: 0.3784 - recall_1: 0.0196\n",
      "[EPOCH 9]\n",
      "555719/555719 [==============================] - 340s 611us/step - loss: 0.0196 - binary_accuracy: 0.9958 - true_positives_1: 52.0000 - true_negatives_1: 553337.0000 - false_positives_1: 237.0000 - false_negatives_1: 2093.0000 - precision_1: 0.1799 - recall_1: 0.0242\n",
      "[EPOCH 10]\n",
      "555719/555719 [==============================] - 342s 615us/step - loss: 0.0195 - binary_accuracy: 0.9949 - true_positives_1: 180.0000 - true_negatives_1: 552682.0000 - false_positives_1: 892.0000 - false_negatives_1: 1965.0000 - precision_1: 0.1679 - recall_1: 0.0839\n",
      "[EPOCH 11]\n",
      "555719/555719 [==============================] - 451s 811us/step - loss: 0.0172 - binary_accuracy: 0.9957 - true_positives_1: 167.0000 - true_negatives_1: 553144.0000 - false_positives_1: 430.0000 - false_negatives_1: 1978.0000 - precision_1: 0.2797 - recall_1: 0.0779\n",
      "[EPOCH 12]\n",
      "555719/555719 [==============================] - 528s 950us/step - loss: 0.0173 - binary_accuracy: 0.9960 - true_positives_1: 91.0000 - true_negatives_1: 553416.0000 - false_positives_1: 158.0000 - false_negatives_1: 2054.0000 - precision_1: 0.3655 - recall_1: 0.0424\n",
      "[EPOCH 13]\n",
      "555719/555719 [==============================] - 547s 984us/step - loss: 0.0182 - binary_accuracy: 0.9961 - true_positives_1: 35.0000 - true_negatives_1: 553525.0000 - false_positives_1: 49.0000 - false_negatives_1: 2110.0000 - precision_1: 0.4167 - recall_1: 0.0163\n",
      "[EPOCH 14]\n",
      "555719/555719 [==============================] - 548s 987us/step - loss: 0.0178 - binary_accuracy: 0.9957 - true_positives_1: 128.0000 - true_negatives_1: 553197.0000 - false_positives_1: 377.0000 - false_negatives_1: 2017.0000 - precision_1: 0.2535 - recall_1: 0.0597\n",
      "[EPOCH 15]\n",
      "555719/555719 [==============================] - 520s 936us/step - loss: 0.0179 - binary_accuracy: 0.9956 - true_positives_1: 203.0000 - true_negatives_1: 553072.0000 - false_positives_1: 502.0000 - false_negatives_1: 1942.0000 - precision_1: 0.2879 - recall_1: 0.0946\n",
      "[EPOCH 16]\n",
      "555719/555719 [==============================] - 560s 1ms/step - loss: 0.0174 - binary_accuracy: 0.9961 - true_positives_1: 91.0000 - true_negatives_1: 553462.0000 - false_positives_1: 112.0000 - false_negatives_1: 2054.0000 - precision_1: 0.4483 - recall_1: 0.0424\n",
      "[EPOCH 17]\n",
      "555719/555719 [==============================] - 603s 1ms/step - loss: 0.0175 - binary_accuracy: 0.9961 - true_positives_1: 83.0000 - true_negatives_1: 553458.0000 - false_positives_1: 116.0000 - false_negatives_1: 2062.0000 - precision_1: 0.4171 - recall_1: 0.0387\n",
      "[EPOCH 18]\n",
      "555719/555719 [==============================] - 533s 959us/step - loss: 0.0170 - binary_accuracy: 0.9959 - true_positives_1: 142.0000 - true_negatives_1: 553291.0000 - false_positives_1: 283.0000 - false_negatives_1: 2003.0000 - precision_1: 0.3341 - recall_1: 0.0662\n",
      "[EPOCH 19]\n",
      "555719/555719 [==============================] - 561s 1ms/step - loss: 0.0187 - binary_accuracy: 0.9948 - true_positives_1: 157.0000 - true_negatives_1: 552663.0000 - false_positives_1: 911.0000 - false_negatives_1: 1988.0000 - precision_1: 0.1470 - recall_1: 0.0732\n"
     ]
    }
   ],
   "source": [
    "results = []\n",
    "for epoch in range(num_epochs):\n",
    "    print(f\"[EPOCH {epoch}]\")\n",
    "    model_path = f'../machine_learning/saved_models/global_state/GlobalState_{epoch}.keras'\n",
    "    model.load_weights(model_path)\n",
    "    model.gru.reset_states()\n",
    "\n",
    "    results.append(model.evaluate(test_set, return_dict=True))"
   ]
  },
  {
   "cell_type": "code",
   "execution_count": 14,
   "metadata": {},
   "outputs": [
    {
     "data": {
      "text/html": [
       "<div>\n",
       "<style scoped>\n",
       "    .dataframe tbody tr th:only-of-type {\n",
       "        vertical-align: middle;\n",
       "    }\n",
       "\n",
       "    .dataframe tbody tr th {\n",
       "        vertical-align: top;\n",
       "    }\n",
       "\n",
       "    .dataframe thead th {\n",
       "        text-align: right;\n",
       "    }\n",
       "</style>\n",
       "<table border=\"1\" class=\"dataframe\">\n",
       "  <thead>\n",
       "    <tr style=\"text-align: right;\">\n",
       "      <th></th>\n",
       "      <th>loss</th>\n",
       "      <th>binary_accuracy</th>\n",
       "      <th>true_positives_1</th>\n",
       "      <th>true_negatives_1</th>\n",
       "      <th>false_positives_1</th>\n",
       "      <th>false_negatives_1</th>\n",
       "      <th>precision_1</th>\n",
       "      <th>recall_1</th>\n",
       "    </tr>\n",
       "  </thead>\n",
       "  <tbody>\n",
       "    <tr>\n",
       "      <th>0</th>\n",
       "      <td>0.024989</td>\n",
       "      <td>0.996140</td>\n",
       "      <td>0.0</td>\n",
       "      <td>553574.0</td>\n",
       "      <td>0.0</td>\n",
       "      <td>2145.0</td>\n",
       "      <td>0.000000</td>\n",
       "      <td>0.000000</td>\n",
       "    </tr>\n",
       "    <tr>\n",
       "      <th>1</th>\n",
       "      <td>0.025345</td>\n",
       "      <td>0.996140</td>\n",
       "      <td>0.0</td>\n",
       "      <td>553574.0</td>\n",
       "      <td>0.0</td>\n",
       "      <td>2145.0</td>\n",
       "      <td>0.000000</td>\n",
       "      <td>0.000000</td>\n",
       "    </tr>\n",
       "    <tr>\n",
       "      <th>2</th>\n",
       "      <td>0.019691</td>\n",
       "      <td>0.996140</td>\n",
       "      <td>0.0</td>\n",
       "      <td>553574.0</td>\n",
       "      <td>0.0</td>\n",
       "      <td>2145.0</td>\n",
       "      <td>0.000000</td>\n",
       "      <td>0.000000</td>\n",
       "    </tr>\n",
       "    <tr>\n",
       "      <th>3</th>\n",
       "      <td>0.022315</td>\n",
       "      <td>0.994835</td>\n",
       "      <td>227.0</td>\n",
       "      <td>552622.0</td>\n",
       "      <td>952.0</td>\n",
       "      <td>1918.0</td>\n",
       "      <td>0.192536</td>\n",
       "      <td>0.105828</td>\n",
       "    </tr>\n",
       "    <tr>\n",
       "      <th>4</th>\n",
       "      <td>0.021351</td>\n",
       "      <td>0.996059</td>\n",
       "      <td>55.0</td>\n",
       "      <td>553474.0</td>\n",
       "      <td>100.0</td>\n",
       "      <td>2090.0</td>\n",
       "      <td>0.354839</td>\n",
       "      <td>0.025641</td>\n",
       "    </tr>\n",
       "    <tr>\n",
       "      <th>5</th>\n",
       "      <td>0.020698</td>\n",
       "      <td>0.996068</td>\n",
       "      <td>66.0</td>\n",
       "      <td>553468.0</td>\n",
       "      <td>106.0</td>\n",
       "      <td>2079.0</td>\n",
       "      <td>0.383721</td>\n",
       "      <td>0.030769</td>\n",
       "    </tr>\n",
       "    <tr>\n",
       "      <th>6</th>\n",
       "      <td>0.022995</td>\n",
       "      <td>0.994884</td>\n",
       "      <td>464.0</td>\n",
       "      <td>552412.0</td>\n",
       "      <td>1162.0</td>\n",
       "      <td>1681.0</td>\n",
       "      <td>0.285363</td>\n",
       "      <td>0.216317</td>\n",
       "    </tr>\n",
       "    <tr>\n",
       "      <th>7</th>\n",
       "      <td>0.025081</td>\n",
       "      <td>0.994074</td>\n",
       "      <td>496.0</td>\n",
       "      <td>551930.0</td>\n",
       "      <td>1644.0</td>\n",
       "      <td>1649.0</td>\n",
       "      <td>0.231776</td>\n",
       "      <td>0.231235</td>\n",
       "    </tr>\n",
       "    <tr>\n",
       "      <th>8</th>\n",
       "      <td>0.018627</td>\n",
       "      <td>0.996092</td>\n",
       "      <td>42.0</td>\n",
       "      <td>553505.0</td>\n",
       "      <td>69.0</td>\n",
       "      <td>2103.0</td>\n",
       "      <td>0.378378</td>\n",
       "      <td>0.019580</td>\n",
       "    </tr>\n",
       "    <tr>\n",
       "      <th>9</th>\n",
       "      <td>0.019573</td>\n",
       "      <td>0.995807</td>\n",
       "      <td>52.0</td>\n",
       "      <td>553337.0</td>\n",
       "      <td>237.0</td>\n",
       "      <td>2093.0</td>\n",
       "      <td>0.179931</td>\n",
       "      <td>0.024242</td>\n",
       "    </tr>\n",
       "    <tr>\n",
       "      <th>10</th>\n",
       "      <td>0.019478</td>\n",
       "      <td>0.994859</td>\n",
       "      <td>180.0</td>\n",
       "      <td>552682.0</td>\n",
       "      <td>892.0</td>\n",
       "      <td>1965.0</td>\n",
       "      <td>0.167910</td>\n",
       "      <td>0.083916</td>\n",
       "    </tr>\n",
       "    <tr>\n",
       "      <th>11</th>\n",
       "      <td>0.017181</td>\n",
       "      <td>0.995667</td>\n",
       "      <td>167.0</td>\n",
       "      <td>553144.0</td>\n",
       "      <td>430.0</td>\n",
       "      <td>1978.0</td>\n",
       "      <td>0.279732</td>\n",
       "      <td>0.077855</td>\n",
       "    </tr>\n",
       "    <tr>\n",
       "      <th>12</th>\n",
       "      <td>0.017270</td>\n",
       "      <td>0.996020</td>\n",
       "      <td>91.0</td>\n",
       "      <td>553416.0</td>\n",
       "      <td>158.0</td>\n",
       "      <td>2054.0</td>\n",
       "      <td>0.365462</td>\n",
       "      <td>0.042424</td>\n",
       "    </tr>\n",
       "    <tr>\n",
       "      <th>13</th>\n",
       "      <td>0.018204</td>\n",
       "      <td>0.996115</td>\n",
       "      <td>35.0</td>\n",
       "      <td>553525.0</td>\n",
       "      <td>49.0</td>\n",
       "      <td>2110.0</td>\n",
       "      <td>0.416667</td>\n",
       "      <td>0.016317</td>\n",
       "    </tr>\n",
       "    <tr>\n",
       "      <th>14</th>\n",
       "      <td>0.017808</td>\n",
       "      <td>0.995692</td>\n",
       "      <td>128.0</td>\n",
       "      <td>553197.0</td>\n",
       "      <td>377.0</td>\n",
       "      <td>2017.0</td>\n",
       "      <td>0.253465</td>\n",
       "      <td>0.059674</td>\n",
       "    </tr>\n",
       "    <tr>\n",
       "      <th>15</th>\n",
       "      <td>0.017925</td>\n",
       "      <td>0.995602</td>\n",
       "      <td>203.0</td>\n",
       "      <td>553072.0</td>\n",
       "      <td>502.0</td>\n",
       "      <td>1942.0</td>\n",
       "      <td>0.287943</td>\n",
       "      <td>0.094639</td>\n",
       "    </tr>\n",
       "    <tr>\n",
       "      <th>16</th>\n",
       "      <td>0.017437</td>\n",
       "      <td>0.996102</td>\n",
       "      <td>91.0</td>\n",
       "      <td>553462.0</td>\n",
       "      <td>112.0</td>\n",
       "      <td>2054.0</td>\n",
       "      <td>0.448276</td>\n",
       "      <td>0.042424</td>\n",
       "    </tr>\n",
       "    <tr>\n",
       "      <th>17</th>\n",
       "      <td>0.017533</td>\n",
       "      <td>0.996081</td>\n",
       "      <td>83.0</td>\n",
       "      <td>553458.0</td>\n",
       "      <td>116.0</td>\n",
       "      <td>2062.0</td>\n",
       "      <td>0.417085</td>\n",
       "      <td>0.038695</td>\n",
       "    </tr>\n",
       "    <tr>\n",
       "      <th>18</th>\n",
       "      <td>0.017002</td>\n",
       "      <td>0.995886</td>\n",
       "      <td>142.0</td>\n",
       "      <td>553291.0</td>\n",
       "      <td>283.0</td>\n",
       "      <td>2003.0</td>\n",
       "      <td>0.334118</td>\n",
       "      <td>0.066200</td>\n",
       "    </tr>\n",
       "    <tr>\n",
       "      <th>19</th>\n",
       "      <td>0.018662</td>\n",
       "      <td>0.994783</td>\n",
       "      <td>157.0</td>\n",
       "      <td>552663.0</td>\n",
       "      <td>911.0</td>\n",
       "      <td>1988.0</td>\n",
       "      <td>0.147004</td>\n",
       "      <td>0.073193</td>\n",
       "    </tr>\n",
       "  </tbody>\n",
       "</table>\n",
       "</div>"
      ],
      "text/plain": [
       "        loss  binary_accuracy  true_positives_1  true_negatives_1   \n",
       "0   0.024989         0.996140               0.0          553574.0  \\\n",
       "1   0.025345         0.996140               0.0          553574.0   \n",
       "2   0.019691         0.996140               0.0          553574.0   \n",
       "3   0.022315         0.994835             227.0          552622.0   \n",
       "4   0.021351         0.996059              55.0          553474.0   \n",
       "5   0.020698         0.996068              66.0          553468.0   \n",
       "6   0.022995         0.994884             464.0          552412.0   \n",
       "7   0.025081         0.994074             496.0          551930.0   \n",
       "8   0.018627         0.996092              42.0          553505.0   \n",
       "9   0.019573         0.995807              52.0          553337.0   \n",
       "10  0.019478         0.994859             180.0          552682.0   \n",
       "11  0.017181         0.995667             167.0          553144.0   \n",
       "12  0.017270         0.996020              91.0          553416.0   \n",
       "13  0.018204         0.996115              35.0          553525.0   \n",
       "14  0.017808         0.995692             128.0          553197.0   \n",
       "15  0.017925         0.995602             203.0          553072.0   \n",
       "16  0.017437         0.996102              91.0          553462.0   \n",
       "17  0.017533         0.996081              83.0          553458.0   \n",
       "18  0.017002         0.995886             142.0          553291.0   \n",
       "19  0.018662         0.994783             157.0          552663.0   \n",
       "\n",
       "    false_positives_1  false_negatives_1  precision_1  recall_1  \n",
       "0                 0.0             2145.0     0.000000  0.000000  \n",
       "1                 0.0             2145.0     0.000000  0.000000  \n",
       "2                 0.0             2145.0     0.000000  0.000000  \n",
       "3               952.0             1918.0     0.192536  0.105828  \n",
       "4               100.0             2090.0     0.354839  0.025641  \n",
       "5               106.0             2079.0     0.383721  0.030769  \n",
       "6              1162.0             1681.0     0.285363  0.216317  \n",
       "7              1644.0             1649.0     0.231776  0.231235  \n",
       "8                69.0             2103.0     0.378378  0.019580  \n",
       "9               237.0             2093.0     0.179931  0.024242  \n",
       "10              892.0             1965.0     0.167910  0.083916  \n",
       "11              430.0             1978.0     0.279732  0.077855  \n",
       "12              158.0             2054.0     0.365462  0.042424  \n",
       "13               49.0             2110.0     0.416667  0.016317  \n",
       "14              377.0             2017.0     0.253465  0.059674  \n",
       "15              502.0             1942.0     0.287943  0.094639  \n",
       "16              112.0             2054.0     0.448276  0.042424  \n",
       "17              116.0             2062.0     0.417085  0.038695  \n",
       "18              283.0             2003.0     0.334118  0.066200  \n",
       "19              911.0             1988.0     0.147004  0.073193  "
      ]
     },
     "execution_count": 14,
     "metadata": {},
     "output_type": "execute_result"
    }
   ],
   "source": [
    "import pandas as pd\n",
    "\n",
    "pd.DataFrame(results)"
   ]
  },
  {
   "cell_type": "markdown",
   "metadata": {},
   "source": [
    "Looking at the metrics, the one which yielded the best results was at **epoch 14** with the best balance between precision and recall:"
   ]
  },
  {
   "cell_type": "markdown",
   "metadata": {},
   "source": [
    "### Confusion Matrix"
   ]
  },
  {
   "cell_type": "code",
   "execution_count": 10,
   "metadata": {},
   "outputs": [],
   "source": [
    "model.load_weights(f'../machine_learning/saved_models/global_state/GlobalState_{14}.keras')\n",
    "inputs = [[553197/(553197+377), 377/(553197+377)], [2017/(128+2017), 128/(128+2017)]]"
   ]
  },
  {
   "cell_type": "code",
   "execution_count": 11,
   "metadata": {},
   "outputs": [
    {
     "data": {
      "image/png": "[encoded data removed]",
      "text/plain": [
       "<Figure size 640x480 with 2 Axes>"
      ]
     },
     "metadata": {},
     "output_type": "display_data"
    }
   ],
   "source": [
    "import seaborn as sns\n",
    "import matplotlib.pyplot as plt\n",
    "\n",
    "# Plot the confusion matrix using a heatmap\n",
    "sns.heatmap(inputs, annot=True, cmap='Blues')\n",
    "plt.xlabel('Predicted Labels')\n",
    "plt.ylabel('True Labels')\n",
    "plt.show()\n"
   ]
  },
  {
   "cell_type": "code",
   "execution_count": 7,
   "metadata": {},
   "outputs": [
    {
     "name": "stdout",
     "output_type": "stream",
     "text": [
      "555719/555719 [==============================] - 427s 768us/step\n"
     ]
    }
   ],
   "source": [
    "y_pred_proba = model.predict(test_set)"
   ]
  },
  {
   "cell_type": "code",
   "execution_count": 12,
   "metadata": {},
   "outputs": [
    {
     "data": {
      "image/png": "[encoded data removed]",
      "text/plain": [
       "<Figure size 640x480 with 1 Axes>"
      ]
     },
     "metadata": {},
     "output_type": "display_data"
    }
   ],
   "source": [
    "from sklearn.metrics import roc_curve, auc\n",
    "\n",
    "# Calculate FPR, TPR, and thresholds using NumPy\n",
    "fpr, tpr, thresholds = roc_curve(test_labels, y_pred_proba)\n",
    "\n",
    "# Calculate AUC using scikit-learn\n",
    "auc_score = auc(fpr, tpr)\n",
    "\n",
    "# Plot ROC curve using Matplotlib\n",
    "plt.plot(fpr, tpr, label='ROC curve (area = %0.2f)' % auc_score)\n",
    "plt.plot([0, 1], [0, 1], 'k--')\n",
    "plt.xlim([0.0, 1.0])\n",
    "plt.ylim([0.0, 1.05])\n",
    "plt.xlabel('False Positive Rate')\n",
    "plt.ylabel('True Positive Rate')\n",
    "plt.title('Receiver Operating Characteristic')\n",
    "plt.legend(loc=\"lower right\")\n",
    "plt.show()\n"
   ]
  }
 ],
 "metadata": {
  "kernelspec": {
   "display_name": "thesis",
   "language": "python",
   "name": "python3"
  },
  "language_info": {
   "codemirror_mode": {
    "name": "ipython",
    "version": 3
   },
   "file_extension": ".py",
   "mimetype": "text/x-python",
   "name": "python",
   "nbconvert_exporter": "python",
   "pygments_lexer": "ipython3",
   "version": "3.11.2"
  },
  "orig_nbformat": 4
 },
 "nbformat": 4,
 "nbformat_minor": 2
}
