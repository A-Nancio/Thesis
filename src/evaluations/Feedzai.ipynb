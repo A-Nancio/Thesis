{
 "cells": [
  {
   "cell_type": "markdown",
   "metadata": {},
   "source": [
    "# Evaluation Feedzai Model"
   ]
  },
  {
   "cell_type": "markdown",
   "metadata": {},
   "source": [
    "import statements:"
   ]
  },
  {
   "cell_type": "code",
   "execution_count": 1,
   "metadata": {},
   "outputs": [],
   "source": [
    "import sys\n",
    "sys.path.append('../')"
   ]
  },
  {
   "cell_type": "code",
   "execution_count": 2,
   "metadata": {},
   "outputs": [],
   "source": [
    "import os\n",
    "os.environ['TF_CPP_MIN_LOG_LEVEL'] = '3' \n",
    "\n",
    "from keras.layers import Dense, Dropout\n",
    "\n",
    "import tensorflow as tf\n",
    "import numpy as np\n",
    "from tqdm import tqdm\n",
    "from keras.layers import Dense, Dropout, GRU\n",
    "\n",
    "\n",
    "import tensorflow as tf\n",
    "import numpy as np\n",
    "\n",
    "from machine_learning.models import FeedzaiProduction\n",
    "from data_processing.batch_generator import load_test_set\n",
    "tf.random.set_seed(42)"
   ]
  },
  {
   "cell_type": "markdown",
   "metadata": {},
   "source": [
    "define model:"
   ]
  },
  {
   "cell_type": "code",
   "execution_count": 3,
   "metadata": {},
   "outputs": [],
   "source": [
    "model = FeedzaiProduction()\n"
   ]
  },
  {
   "cell_type": "code",
   "execution_count": 4,
   "metadata": {},
   "outputs": [],
   "source": [
    "model.compile(loss=tf.keras.losses.BinaryCrossentropy(),\n",
    "        optimizer=tf.keras.optimizers.Adam(),\n",
    "        metrics=[\n",
    "            tf.keras.metrics.BinaryAccuracy(),\n",
    "            tf.keras.metrics.TruePositives(), \n",
    "            tf.keras.metrics.TrueNegatives(),\n",
    "            tf.keras.metrics.FalsePositives(), \n",
    "            tf.keras.metrics.FalseNegatives(),\n",
    "            tf.keras.metrics.Precision(),\n",
    "            tf.keras.metrics.Recall()])\n"
   ]
  },
  {
   "cell_type": "markdown",
   "metadata": {},
   "source": [
    "### Dataset"
   ]
  },
  {
   "cell_type": "code",
   "execution_count": 5,
   "metadata": {},
   "outputs": [],
   "source": [
    "path = '../data'\n",
    "BATCH_SIZE = 1024\n",
    "SEQUENCE_LENGTH = 100"
   ]
  },
  {
   "cell_type": "code",
   "execution_count": 6,
   "metadata": {},
   "outputs": [
    {
     "data": {
      "text/plain": [
       "<tf.Tensor: shape=(1, 1), dtype=float32, numpy=array([[0.55065703]], dtype=float32)>"
      ]
     },
     "execution_count": 6,
     "metadata": {},
     "output_type": "execute_result"
    }
   ],
   "source": [
    "test_transactions = np.load(f'{path}/test/transactions.npy')\n",
    "test_labels = np.load(f'{path}/test/all_transaction_labels.npy').astype(float)\n",
    "test_set = tf.data.Dataset.from_tensor_slices((test_transactions, test_labels)).batch(1)\n",
    "# initialize weights\n",
    "model(np.expand_dims(test_transactions[0], axis=0))"
   ]
  },
  {
   "cell_type": "markdown",
   "metadata": {},
   "source": [
    "### Evaluate Model"
   ]
  },
  {
   "cell_type": "code",
   "execution_count": 11,
   "metadata": {},
   "outputs": [],
   "source": [
    "num_epochs = 20"
   ]
  },
  {
   "cell_type": "code",
   "execution_count": 12,
   "metadata": {},
   "outputs": [
    {
     "name": "stdout",
     "output_type": "stream",
     "text": [
      "[EPOCH 0]\n",
      "555719/555719 [==============================] - 435s 782us/step - loss: 0.0251 - binary_accuracy: 0.9961 - true_positives: 0.0000e+00 - true_negatives: 553574.0000 - false_positives: 0.0000e+00 - false_negatives: 2145.0000 - precision: 0.0000e+00 - recall: 0.0000e+00\n",
      "[EPOCH 1]\n",
      "555719/555719 [==============================] - 469s 844us/step - loss: 0.0244 - binary_accuracy: 0.9961 - true_positives: 0.0000e+00 - true_negatives: 553574.0000 - false_positives: 0.0000e+00 - false_negatives: 2145.0000 - precision: 0.0000e+00 - recall: 0.0000e+00\n",
      "[EPOCH 2]\n",
      "555719/555719 [==============================] - 481s 866us/step - loss: 0.0243 - binary_accuracy: 0.9961 - true_positives: 0.0000e+00 - true_negatives: 553574.0000 - false_positives: 0.0000e+00 - false_negatives: 2145.0000 - precision: 0.0000e+00 - recall: 0.0000e+00\n",
      "[EPOCH 3]\n",
      "555719/555719 [==============================] - 484s 872us/step - loss: 0.0243 - binary_accuracy: 0.9961 - true_positives: 0.0000e+00 - true_negatives: 553574.0000 - false_positives: 0.0000e+00 - false_negatives: 2145.0000 - precision: 0.0000e+00 - recall: 0.0000e+00\n",
      "[EPOCH 4]\n",
      "555719/555719 [==============================] - 465s 837us/step - loss: 0.0199 - binary_accuracy: 0.9960 - true_positives: 128.0000 - true_negatives: 553378.0000 - false_positives: 196.0000 - false_negatives: 2017.0000 - precision: 0.3951 - recall: 0.0597\n",
      "[EPOCH 5]\n",
      "555719/555719 [==============================] - 477s 858us/step - loss: 0.0221 - binary_accuracy: 0.9961 - true_positives: 2.0000 - true_negatives: 553571.0000 - false_positives: 3.0000 - false_negatives: 2143.0000 - precision: 0.4000 - recall: 9.3240e-04\n",
      "[EPOCH 6]\n",
      "555719/555719 [==============================] - 506s 911us/step - loss: 0.0310 - binary_accuracy: 0.9963 - true_positives: 117.0000 - true_negatives: 553541.0000 - false_positives: 33.0000 - false_negatives: 2028.0000 - precision: 0.7800 - recall: 0.0545\n",
      "[EPOCH 7]\n",
      "555719/555719 [==============================] - 524s 943us/step - loss: 0.0174 - binary_accuracy: 0.9965 - true_positives: 251.0000 - true_negatives: 553505.0000 - false_positives: 69.0000 - false_negatives: 1894.0000 - precision: 0.7844 - recall: 0.1170\n",
      "[EPOCH 8]\n",
      "555719/555719 [==============================] - 460s 827us/step - loss: 0.0461 - binary_accuracy: 0.9847 - true_positives: 1532.0000 - true_negatives: 545696.0000 - false_positives: 7878.0000 - false_negatives: 613.0000 - precision: 0.1628 - recall: 0.7142\n",
      "[EPOCH 9]\n",
      "555719/555719 [==============================] - 479s 862us/step - loss: 0.0107 - binary_accuracy: 0.9979 - true_positives: 1215.0000 - true_negatives: 553352.0000 - false_positives: 222.0000 - false_negatives: 930.0000 - precision: 0.8455 - recall: 0.5664\n",
      "[EPOCH 10]\n",
      "555719/555719 [==============================] - 367s 660us/step - loss: 0.0200 - binary_accuracy: 0.9939 - true_positives: 1435.0000 - true_negatives: 550893.0000 - false_positives: 2681.0000 - false_negatives: 710.0000 - precision: 0.3486 - recall: 0.6690\n",
      "[EPOCH 11]\n",
      "555719/555719 [==============================] - 382s 687us/step - loss: 0.0122 - binary_accuracy: 0.9969 - true_positives: 1380.0000 - true_negatives: 552615.0000 - false_positives: 959.0000 - false_negatives: 765.0000 - precision: 0.5900 - recall: 0.6434\n",
      "[EPOCH 12]\n",
      "555719/555719 [==============================] - 382s 688us/step - loss: 0.1186 - binary_accuracy: 0.9686 - true_positives: 1577.0000 - true_negatives: 536701.0000 - false_positives: 16873.0000 - false_negatives: 568.0000 - precision: 0.0855 - recall: 0.7352\n",
      "[EPOCH 13]\n",
      "555719/555719 [==============================] - 448s 807us/step - loss: 0.0125 - binary_accuracy: 0.9970 - true_positives: 1295.0000 - true_negatives: 552776.0000 - false_positives: 798.0000 - false_negatives: 850.0000 - precision: 0.6187 - recall: 0.6037\n",
      "[EPOCH 14]\n",
      "555719/555719 [==============================] - 516s 928us/step - loss: 0.0115 - binary_accuracy: 0.9970 - true_positives: 1272.0000 - true_negatives: 552807.0000 - false_positives: 767.0000 - false_negatives: 873.0000 - precision: 0.6238 - recall: 0.5930\n",
      "[EPOCH 15]\n",
      "555719/555719 [==============================] - 448s 807us/step - loss: 0.0103 - binary_accuracy: 0.9978 - true_positives: 1221.0000 - true_negatives: 553252.0000 - false_positives: 322.0000 - false_negatives: 924.0000 - precision: 0.7913 - recall: 0.5692\n",
      "[EPOCH 16]\n",
      "555719/555719 [==============================] - 386s 695us/step - loss: 0.0115 - binary_accuracy: 0.9975 - true_positives: 847.0000 - true_negatives: 553456.0000 - false_positives: 118.0000 - false_negatives: 1298.0000 - precision: 0.8777 - recall: 0.3949\n",
      "[EPOCH 17]\n",
      "555719/555719 [==============================] - 382s 687us/step - loss: 0.0255 - binary_accuracy: 0.9928 - true_positives: 1432.0000 - true_negatives: 550304.0000 - false_positives: 3270.0000 - false_negatives: 713.0000 - precision: 0.3046 - recall: 0.6676\n",
      "[EPOCH 18]\n",
      "555719/555719 [==============================] - 381s 686us/step - loss: 0.0708 - binary_accuracy: 0.9754 - true_positives: 1456.0000 - true_negatives: 540617.0000 - false_positives: 12957.0000 - false_negatives: 689.0000 - precision: 0.1010 - recall: 0.6788\n",
      "[EPOCH 19]\n",
      "555719/555719 [==============================] - 408s 735us/step - loss: 0.0479 - binary_accuracy: 0.9868 - true_positives: 1217.0000 - true_negatives: 547188.0000 - false_positives: 6386.0000 - false_negatives: 928.0000 - precision: 0.1601 - recall: 0.5674\n"
     ]
    }
   ],
   "source": [
    "results = []\n",
    "for epoch in range(num_epochs):\n",
    "    print(f\"[EPOCH {epoch}]\")\n",
    "    model_path = f'../machine_learning/saved_models/feedzai/Feedzai_{epoch}.keras'\n",
    "    model.load_weights(model_path)\n",
    "    model.card_gru.reset_states()\n",
    "\n",
    "    results.append(model.evaluate(test_set, return_dict=True))"
   ]
  },
  {
   "cell_type": "code",
   "execution_count": 13,
   "metadata": {},
   "outputs": [
    {
     "data": {
      "text/html": [
       "<div>\n",
       "<style scoped>\n",
       "    .dataframe tbody tr th:only-of-type {\n",
       "        vertical-align: middle;\n",
       "    }\n",
       "\n",
       "    .dataframe tbody tr th {\n",
       "        vertical-align: top;\n",
       "    }\n",
       "\n",
       "    .dataframe thead th {\n",
       "        text-align: right;\n",
       "    }\n",
       "</style>\n",
       "<table border=\"1\" class=\"dataframe\">\n",
       "  <thead>\n",
       "    <tr style=\"text-align: right;\">\n",
       "      <th></th>\n",
       "      <th>loss</th>\n",
       "      <th>binary_accuracy</th>\n",
       "      <th>true_positives</th>\n",
       "      <th>true_negatives</th>\n",
       "      <th>false_positives</th>\n",
       "      <th>false_negatives</th>\n",
       "      <th>precision</th>\n",
       "      <th>recall</th>\n",
       "    </tr>\n",
       "  </thead>\n",
       "  <tbody>\n",
       "    <tr>\n",
       "      <th>0</th>\n",
       "      <td>0.025063</td>\n",
       "      <td>0.996140</td>\n",
       "      <td>0.0</td>\n",
       "      <td>553574.0</td>\n",
       "      <td>0.0</td>\n",
       "      <td>2145.0</td>\n",
       "      <td>0.000000</td>\n",
       "      <td>0.000000</td>\n",
       "    </tr>\n",
       "    <tr>\n",
       "      <th>1</th>\n",
       "      <td>0.024425</td>\n",
       "      <td>0.996140</td>\n",
       "      <td>0.0</td>\n",
       "      <td>553574.0</td>\n",
       "      <td>0.0</td>\n",
       "      <td>2145.0</td>\n",
       "      <td>0.000000</td>\n",
       "      <td>0.000000</td>\n",
       "    </tr>\n",
       "    <tr>\n",
       "      <th>2</th>\n",
       "      <td>0.024337</td>\n",
       "      <td>0.996140</td>\n",
       "      <td>0.0</td>\n",
       "      <td>553574.0</td>\n",
       "      <td>0.0</td>\n",
       "      <td>2145.0</td>\n",
       "      <td>0.000000</td>\n",
       "      <td>0.000000</td>\n",
       "    </tr>\n",
       "    <tr>\n",
       "      <th>3</th>\n",
       "      <td>0.024348</td>\n",
       "      <td>0.996140</td>\n",
       "      <td>0.0</td>\n",
       "      <td>553574.0</td>\n",
       "      <td>0.0</td>\n",
       "      <td>2145.0</td>\n",
       "      <td>0.000000</td>\n",
       "      <td>0.000000</td>\n",
       "    </tr>\n",
       "    <tr>\n",
       "      <th>4</th>\n",
       "      <td>0.019853</td>\n",
       "      <td>0.996018</td>\n",
       "      <td>128.0</td>\n",
       "      <td>553378.0</td>\n",
       "      <td>196.0</td>\n",
       "      <td>2017.0</td>\n",
       "      <td>0.395062</td>\n",
       "      <td>0.059674</td>\n",
       "    </tr>\n",
       "    <tr>\n",
       "      <th>5</th>\n",
       "      <td>0.022112</td>\n",
       "      <td>0.996138</td>\n",
       "      <td>2.0</td>\n",
       "      <td>553571.0</td>\n",
       "      <td>3.0</td>\n",
       "      <td>2143.0</td>\n",
       "      <td>0.400000</td>\n",
       "      <td>0.000932</td>\n",
       "    </tr>\n",
       "    <tr>\n",
       "      <th>6</th>\n",
       "      <td>0.031016</td>\n",
       "      <td>0.996291</td>\n",
       "      <td>117.0</td>\n",
       "      <td>553541.0</td>\n",
       "      <td>33.0</td>\n",
       "      <td>2028.0</td>\n",
       "      <td>0.780000</td>\n",
       "      <td>0.054545</td>\n",
       "    </tr>\n",
       "    <tr>\n",
       "      <th>7</th>\n",
       "      <td>0.017443</td>\n",
       "      <td>0.996468</td>\n",
       "      <td>251.0</td>\n",
       "      <td>553505.0</td>\n",
       "      <td>69.0</td>\n",
       "      <td>1894.0</td>\n",
       "      <td>0.784375</td>\n",
       "      <td>0.117016</td>\n",
       "    </tr>\n",
       "    <tr>\n",
       "      <th>8</th>\n",
       "      <td>0.046067</td>\n",
       "      <td>0.984721</td>\n",
       "      <td>1532.0</td>\n",
       "      <td>545696.0</td>\n",
       "      <td>7878.0</td>\n",
       "      <td>613.0</td>\n",
       "      <td>0.162806</td>\n",
       "      <td>0.714219</td>\n",
       "    </tr>\n",
       "    <tr>\n",
       "      <th>9</th>\n",
       "      <td>0.010728</td>\n",
       "      <td>0.997927</td>\n",
       "      <td>1215.0</td>\n",
       "      <td>553352.0</td>\n",
       "      <td>222.0</td>\n",
       "      <td>930.0</td>\n",
       "      <td>0.845511</td>\n",
       "      <td>0.566434</td>\n",
       "    </tr>\n",
       "    <tr>\n",
       "      <th>10</th>\n",
       "      <td>0.019953</td>\n",
       "      <td>0.993898</td>\n",
       "      <td>1435.0</td>\n",
       "      <td>550893.0</td>\n",
       "      <td>2681.0</td>\n",
       "      <td>710.0</td>\n",
       "      <td>0.348639</td>\n",
       "      <td>0.668998</td>\n",
       "    </tr>\n",
       "    <tr>\n",
       "      <th>11</th>\n",
       "      <td>0.012157</td>\n",
       "      <td>0.996898</td>\n",
       "      <td>1380.0</td>\n",
       "      <td>552615.0</td>\n",
       "      <td>959.0</td>\n",
       "      <td>765.0</td>\n",
       "      <td>0.589996</td>\n",
       "      <td>0.643357</td>\n",
       "    </tr>\n",
       "    <tr>\n",
       "      <th>12</th>\n",
       "      <td>0.118622</td>\n",
       "      <td>0.968615</td>\n",
       "      <td>1577.0</td>\n",
       "      <td>536701.0</td>\n",
       "      <td>16873.0</td>\n",
       "      <td>568.0</td>\n",
       "      <td>0.085474</td>\n",
       "      <td>0.735198</td>\n",
       "    </tr>\n",
       "    <tr>\n",
       "      <th>13</th>\n",
       "      <td>0.012487</td>\n",
       "      <td>0.997034</td>\n",
       "      <td>1295.0</td>\n",
       "      <td>552776.0</td>\n",
       "      <td>798.0</td>\n",
       "      <td>850.0</td>\n",
       "      <td>0.618729</td>\n",
       "      <td>0.603730</td>\n",
       "    </tr>\n",
       "    <tr>\n",
       "      <th>14</th>\n",
       "      <td>0.011505</td>\n",
       "      <td>0.997049</td>\n",
       "      <td>1272.0</td>\n",
       "      <td>552807.0</td>\n",
       "      <td>767.0</td>\n",
       "      <td>873.0</td>\n",
       "      <td>0.623835</td>\n",
       "      <td>0.593007</td>\n",
       "    </tr>\n",
       "    <tr>\n",
       "      <th>15</th>\n",
       "      <td>0.010323</td>\n",
       "      <td>0.997758</td>\n",
       "      <td>1221.0</td>\n",
       "      <td>553252.0</td>\n",
       "      <td>322.0</td>\n",
       "      <td>924.0</td>\n",
       "      <td>0.791316</td>\n",
       "      <td>0.569231</td>\n",
       "    </tr>\n",
       "    <tr>\n",
       "      <th>16</th>\n",
       "      <td>0.011460</td>\n",
       "      <td>0.997452</td>\n",
       "      <td>847.0</td>\n",
       "      <td>553456.0</td>\n",
       "      <td>118.0</td>\n",
       "      <td>1298.0</td>\n",
       "      <td>0.877720</td>\n",
       "      <td>0.394872</td>\n",
       "    </tr>\n",
       "    <tr>\n",
       "      <th>17</th>\n",
       "      <td>0.025520</td>\n",
       "      <td>0.992833</td>\n",
       "      <td>1432.0</td>\n",
       "      <td>550304.0</td>\n",
       "      <td>3270.0</td>\n",
       "      <td>713.0</td>\n",
       "      <td>0.304551</td>\n",
       "      <td>0.667599</td>\n",
       "    </tr>\n",
       "    <tr>\n",
       "      <th>18</th>\n",
       "      <td>0.070793</td>\n",
       "      <td>0.975444</td>\n",
       "      <td>1456.0</td>\n",
       "      <td>540617.0</td>\n",
       "      <td>12957.0</td>\n",
       "      <td>689.0</td>\n",
       "      <td>0.101020</td>\n",
       "      <td>0.678788</td>\n",
       "    </tr>\n",
       "    <tr>\n",
       "      <th>19</th>\n",
       "      <td>0.047885</td>\n",
       "      <td>0.986839</td>\n",
       "      <td>1217.0</td>\n",
       "      <td>547188.0</td>\n",
       "      <td>6386.0</td>\n",
       "      <td>928.0</td>\n",
       "      <td>0.160068</td>\n",
       "      <td>0.567366</td>\n",
       "    </tr>\n",
       "  </tbody>\n",
       "</table>\n",
       "</div>"
      ],
      "text/plain": [
       "        loss  binary_accuracy  true_positives  true_negatives   \n",
       "0   0.025063         0.996140             0.0        553574.0  \\\n",
       "1   0.024425         0.996140             0.0        553574.0   \n",
       "2   0.024337         0.996140             0.0        553574.0   \n",
       "3   0.024348         0.996140             0.0        553574.0   \n",
       "4   0.019853         0.996018           128.0        553378.0   \n",
       "5   0.022112         0.996138             2.0        553571.0   \n",
       "6   0.031016         0.996291           117.0        553541.0   \n",
       "7   0.017443         0.996468           251.0        553505.0   \n",
       "8   0.046067         0.984721          1532.0        545696.0   \n",
       "9   0.010728         0.997927          1215.0        553352.0   \n",
       "10  0.019953         0.993898          1435.0        550893.0   \n",
       "11  0.012157         0.996898          1380.0        552615.0   \n",
       "12  0.118622         0.968615          1577.0        536701.0   \n",
       "13  0.012487         0.997034          1295.0        552776.0   \n",
       "14  0.011505         0.997049          1272.0        552807.0   \n",
       "15  0.010323         0.997758          1221.0        553252.0   \n",
       "16  0.011460         0.997452           847.0        553456.0   \n",
       "17  0.025520         0.992833          1432.0        550304.0   \n",
       "18  0.070793         0.975444          1456.0        540617.0   \n",
       "19  0.047885         0.986839          1217.0        547188.0   \n",
       "\n",
       "    false_positives  false_negatives  precision    recall  \n",
       "0               0.0           2145.0   0.000000  0.000000  \n",
       "1               0.0           2145.0   0.000000  0.000000  \n",
       "2               0.0           2145.0   0.000000  0.000000  \n",
       "3               0.0           2145.0   0.000000  0.000000  \n",
       "4             196.0           2017.0   0.395062  0.059674  \n",
       "5               3.0           2143.0   0.400000  0.000932  \n",
       "6              33.0           2028.0   0.780000  0.054545  \n",
       "7              69.0           1894.0   0.784375  0.117016  \n",
       "8            7878.0            613.0   0.162806  0.714219  \n",
       "9             222.0            930.0   0.845511  0.566434  \n",
       "10           2681.0            710.0   0.348639  0.668998  \n",
       "11            959.0            765.0   0.589996  0.643357  \n",
       "12          16873.0            568.0   0.085474  0.735198  \n",
       "13            798.0            850.0   0.618729  0.603730  \n",
       "14            767.0            873.0   0.623835  0.593007  \n",
       "15            322.0            924.0   0.791316  0.569231  \n",
       "16            118.0           1298.0   0.877720  0.394872  \n",
       "17           3270.0            713.0   0.304551  0.667599  \n",
       "18          12957.0            689.0   0.101020  0.678788  \n",
       "19           6386.0            928.0   0.160068  0.567366  "
      ]
     },
     "execution_count": 13,
     "metadata": {},
     "output_type": "execute_result"
    }
   ],
   "source": [
    "import pandas as pd\n",
    "\n",
    "pd.DataFrame(results)"
   ]
  },
  {
   "cell_type": "markdown",
   "metadata": {},
   "source": [
    "Looking at the metrics, the one which yielded the best results was at **epoch 9** with the best balance between precision and recall:"
   ]
  },
  {
   "cell_type": "markdown",
   "metadata": {},
   "source": [
    "### Confusion Matrix"
   ]
  },
  {
   "cell_type": "code",
   "execution_count": 7,
   "metadata": {},
   "outputs": [],
   "source": [
    "model.load_weights(f'../machine_learning/saved_models/feedzai/Feedzai_{9}.keras')\n",
    "inputs = [[553352/(553352+222), 222/(553352+222)], [930/(1215+930), 1215/(1215+930)]]"
   ]
  },
  {
   "cell_type": "code",
   "execution_count": 8,
   "metadata": {},
   "outputs": [
    {
     "data": {
      "image/png": "[encoded data removed]",
      "text/plain": [
       "<Figure size 640x480 with 2 Axes>"
      ]
     },
     "metadata": {},
     "output_type": "display_data"
    }
   ],
   "source": [
    "import seaborn as sns\n",
    "import matplotlib.pyplot as plt\n",
    "\n",
    "# Plot the confusion matrix using a heatmap\n",
    "sns.heatmap(inputs, annot=True, cmap='Blues')\n",
    "plt.xlabel('Predicted Labels')\n",
    "plt.ylabel('True Labels')\n",
    "plt.show()\n"
   ]
  },
  {
   "cell_type": "code",
   "execution_count": 9,
   "metadata": {},
   "outputs": [
    {
     "name": "stdout",
     "output_type": "stream",
     "text": [
      "555719/555719 [==============================] - 255s 458us/step\n"
     ]
    }
   ],
   "source": [
    "y_pred_proba = model.predict(test_set)"
   ]
  },
  {
   "cell_type": "code",
   "execution_count": 10,
   "metadata": {},
   "outputs": [
    {
     "data": {
      "image/png": "[encoded data removed]",
      "text/plain": [
       "<Figure size 640x480 with 1 Axes>"
      ]
     },
     "metadata": {},
     "output_type": "display_data"
    }
   ],
   "source": [
    "from sklearn.metrics import roc_curve, auc\n",
    "\n",
    "# Calculate FPR, TPR, and thresholds using NumPy\n",
    "fpr, tpr, thresholds = roc_curve(test_labels, y_pred_proba)\n",
    "\n",
    "# Calculate AUC using scikit-learn\n",
    "auc_score = auc(fpr, tpr)\n",
    "\n",
    "# Plot ROC curve using Matplotlib\n",
    "plt.plot(fpr, tpr, label='ROC curve (area = %0.2f)' % auc_score)\n",
    "plt.plot([0, 1], [0, 1], 'k--')\n",
    "plt.xlim([0.0, 1.0])\n",
    "plt.ylim([0.0, 1.05])\n",
    "plt.xlabel('False Positive Rate')\n",
    "plt.ylabel('True Positive Rate')\n",
    "plt.title('Receiver Operating Characteristic')\n",
    "plt.legend(loc=\"lower right\")\n",
    "plt.show()\n"
   ]
  }
 ],
 "metadata": {
  "kernelspec": {
   "display_name": "thesis",
   "language": "python",
   "name": "python3"
  },
  "language_info": {
   "codemirror_mode": {
    "name": "ipython",
    "version": 3
   },
   "file_extension": ".py",
   "mimetype": "text/x-python",
   "name": "python",
   "nbconvert_exporter": "python",
   "pygments_lexer": "ipython3",
   "version": "3.11.2"
  },
  "orig_nbformat": 4
 },
 "nbformat": 4,
 "nbformat_minor": 2
}
