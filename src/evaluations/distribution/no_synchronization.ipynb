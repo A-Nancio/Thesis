{
 "cells": [
  {
   "cell_type": "code",
   "execution_count": 1,
   "metadata": {},
   "outputs": [],
   "source": [
    "import sys\n",
    "sys.path.append('../../')\n",
    "\n",
    "import os\n",
    "os.environ['TF_CPP_MIN_LOG_LEVEL'] = '3' \n",
    "\n",
    "import redis\n",
    "import numpy as np\n",
    "import matplotlib.pyplot as plt\n",
    "\n",
    "plt.rcParams[\"figure.figsize\"] = (6, 6)\n",
    "import tensorflow as tf\n",
    "import numpy as np\n",
    "from distribution.watcher import NoSynchronization\n",
    "from machine_learning.models import DoubleProduction, DoubleConcatProduction, DoubleExtraProduction, DoubleExtraConcatProduction\n",
    "tf.random.set_seed(42)"
   ]
  },
  {
   "cell_type": "code",
   "execution_count": 2,
   "metadata": {},
   "outputs": [],
   "source": [
    "import math \n",
    "\n",
    "def std_deviation(lst):\n",
    "    mean = avg(lst)\n",
    "    sum = 0\n",
    "    for i in lst:\n",
    "        sum += (float(i.decode(\"utf-8\")) - mean)**2\n",
    "\n",
    "    return math.sqrt(sum / len(lst))\n",
    "    "
   ]
  },
  {
   "cell_type": "code",
   "execution_count": 3,
   "metadata": {},
   "outputs": [],
   "source": [
    "model_list = [DoubleProduction, DoubleConcatProduction, DoubleExtraProduction, DoubleExtraConcatProduction]\n",
    "r = redis.Redis(host='localhost', port=6379, db=0)\n",
    "def sum(lst):\n",
    "    sum = 0\n",
    "    for i in lst:\n",
    "        sum += float(i.decode(\"utf-8\"))\n",
    "    return sum\n",
    "\n",
    "def avg(lst):\n",
    "    sum = 0\n",
    "    for i in lst:\n",
    "        if type(i) != float:\n",
    "            sum += float(i.decode(\"utf-8\"))\n",
    "        else:\n",
    "            sum += i\n",
    "    return sum / len(lst)\n",
    "\n",
    "import math \n",
    "\n",
    "def std_deviation(lst):\n",
    "    mean = avg(lst)\n",
    "    sum = 0\n",
    "    for i in lst:\n",
    "        if type(i) != float:\n",
    "            sum += (float(i.decode(\"utf-8\")) - mean)**2\n",
    "        else:\n",
    "            sum += (i - mean)**2\n",
    "    return math.sqrt(sum / len(lst))\n",
    "\n",
    "def func_f1_score(lst1, lst2):\n",
    "    res = []\n",
    "    for prc, rc in zip(lst1, lst2):\n",
    "        if type(prc) != float or type(rc) != float:\n",
    "            prc = float(prc.decode(\"utf-8\"))\n",
    "            rc = float(rc.decode(\"utf-8\"))\n",
    "\n",
    "        res.append(2 * (prc * rc) / (prc + rc))\n",
    "    return res"
   ]
  },
  {
   "cell_type": "code",
   "execution_count": 4,
   "metadata": {},
   "outputs": [],
   "source": [
    "loss = {}\n",
    "recall = {}\n",
    "precision = {}\n",
    "f1_score = {}\n",
    "auc = {}\n",
    "throughput = {}\n",
    "total_time = {}\n",
    "avg_pass_time = {}\n",
    "read_time = {}\n",
    "write_time = {}\n",
    "\n",
    "loss_dev = {}\n",
    "recall_dev = {}\n",
    "precision_dev = {}\n",
    "f1_score_dev = {}\n",
    "auc_dev = {}\n",
    "throughput_dev = {}\n",
    "total_time_dev = {}\n",
    "avg_pass_time_dev = {}\n",
    "read_time_dev = {}\n",
    "write_time_dev = {}\n",
    "\n",
    "\n",
    "threshold_limit = [1, 2, 4, 8, 16, 32, 64, 128,256, 512, 1024]\n",
    "num_workers = [2, 4, 8]\n",
    "x_scale = [\"2\", \"4\", \"8\"]\n",
    "labels = {\n",
    "    'double_production': 'double GRU',\n",
    "    'double_extra_production': 'double GRU + extra layer',\n",
    "    'double_concat_production': 'double GRU + skip connection',\n",
    "    'double_extra_concat_production': 'double GRU + extra layer + skip connection'\n",
    "}\n",
    "\n",
    "for model_name, label in labels.items():\n",
    "    loss[model_name] = [avg(r.lrange(f'v1_{model_name}_{NoSynchronization.name}: Loss_thres_{1}_pool_{pool}', 0, -1)) for pool in num_workers]\n",
    "    recall[model_name] = [avg(r.lrange(f'v1_{model_name}_{NoSynchronization.name}: Recall_thres_{1}_pool_{pool}', 0, -1)) for pool in num_workers]\n",
    "    precision[model_name] = [avg(r.lrange(f'v1_{model_name}_{NoSynchronization.name}: Precision_thres_{1}_pool_{pool}', 0, -1)) for pool in num_workers]\n",
    "    auc[model_name] = [avg(r.lrange(f'v1_{model_name}_{NoSynchronization.name}: Auc_thres_{1}_pool_{pool}', 0, -1)) for pool in num_workers]\n",
    "\n",
    "    f1_score[model_name] = [avg(func_f1_score(\n",
    "            r.lrange(f'v1_{model_name}_{NoSynchronization.name}: Precision_thres_{1}_pool_{pool}', 0, -1),\n",
    "            r.lrange(f'v1_{model_name}_{NoSynchronization.name}: Recall_thres_{1}_pool_{pool}', 0, -1)\n",
    "    )) for pool in num_workers]\n",
    "\n",
    "    throughput[model_name] = [avg(r.lrange(f'v1_{model_name}_{NoSynchronization.name}: Throughput_thres_{1}_pool_{pool}', 0, -1)) for pool in num_workers]\n",
    "    total_time[model_name] = [avg(r.lrange(f'v1_{model_name}_{NoSynchronization.name}: TotalTime_thres_{1}_pool_{pool}', 0, -1)) for pool in num_workers]\n",
    "    avg_pass_time[model_name] = [avg(r.lrange(f'v1_{model_name}_{NoSynchronization.name}: AvgPass_thres_{1}_pool_{pool}', 0, -1)) for pool in num_workers]\n",
    "    read_time[model_name] = [avg(r.lrange(f'v1_{model_name}_{NoSynchronization.name}: read_time_thres_{1}_pool_{pool}', 0, -1)) for pool in num_workers]\n",
    "    write_time[model_name] = [avg(r.lrange(f'v1_{model_name}_{NoSynchronization.name}: write_time_thres_{1}_pool_{pool}', 0, -1)) for pool in num_workers]\n",
    "\n",
    "    loss_dev[model_name] = [std_deviation(r.lrange(f'v1_{model_name}_{NoSynchronization.name}: Loss_thres_{1}_pool_{pool}', 0, -1)) for pool in num_workers]\n",
    "    recall_dev[model_name] = [std_deviation(r.lrange(f'v1_{model_name}_{NoSynchronization.name}: Recall_thres_{1}_pool_{pool}', 0, -1)) for pool in num_workers]\n",
    "    precision_dev[model_name] = [std_deviation(r.lrange(f'v1_{model_name}_{NoSynchronization.name}: Precision_thres_{1}_pool_{pool}', 0, -1)) for pool in num_workers]\n",
    "    auc_dev[model_name] = [std_deviation(r.lrange(f'v1_{model_name}_{NoSynchronization.name}: Auc_thres_{1}_pool_{pool}', 0, -1)) for pool in num_workers]\n",
    "\n",
    "    throughput_dev[model_name] = [std_deviation(r.lrange(f'v1_{model_name}_{NoSynchronization.name}: Throughput_thres_{1}_pool_{pool}', 0, -1)) for pool in num_workers]\n",
    "    total_time_dev[model_name] = [std_deviation(r.lrange(f'v1_{model_name}_{NoSynchronization.name}: TotalTime_thres_{1}_pool_{pool}', 0, -1)) for pool in num_workers]\n",
    "    avg_pass_time_dev[model_name] = [std_deviation(r.lrange(f'v1_{model_name}_{NoSynchronization.name}: AvgPass_thres_{1}_pool_{pool}', 0, -1)) for pool in num_workers]\n",
    "    read_time_dev[model_name] = [std_deviation(r.lrange(f'v1_{model_name}_{NoSynchronization.name}: read_time_thres_{1}_pool_{pool}', 0, -1)) for pool in num_workers]\n",
    "    write_time_dev[model_name] = [std_deviation(r.lrange(f'v1_{model_name}_{NoSynchronization.name}: write_time_thres_{1}_pool_{pool}', 0, -1)) for pool in num_workers]\n",
    "    f1_score_dev[model_name] = [std_deviation(func_f1_score(\n",
    "            r.lrange(f'v1_{model_name}_{NoSynchronization.name}: Precision_thres_{1}_pool_{pool}', 0, -1),\n",
    "            r.lrange(f'v1_{model_name}_{NoSynchronization.name}: Recall_thres_{1}_pool_{pool}', 0, -1)\n",
    "    )) for pool in num_workers]\n"
   ]
  },
  {
   "cell_type": "code",
   "execution_count": 5,
   "metadata": {},
   "outputs": [],
   "source": [
    "#dataframe = {\n",
    "#    'num_workers': [2, 4, 8, 2, 4, 8, 2, 4, 8, 2, 4, 8],\n",
    "#    'model': ['double_production','double_extra_production','double_concat_production','double_extra_concat_production',\n",
    "#              'double_production','double_extra_production','double_concat_production','double_extra_concat_production',\n",
    "#              'double_production','double_extra_production','double_concat_production','double_extra_concat_production']\n",
    "#    'loss': \n",
    "#}"
   ]
  },
  {
   "cell_type": "code",
   "execution_count": 6,
   "metadata": {},
   "outputs": [
    {
     "name": "stdout",
     "output_type": "stream",
     "text": [
      "\t\t2\t\t4\t\t8\n",
      "double_production [0.021021654829382896, 0.021036045160144567, 0.021091619739308953]\n",
      "double_production [0.0003932453691959381, 0.0007965692335388816, 0.0010511404192249927]\n",
      "\t\t2\t\t4\t\t8\n",
      "double_extra_production [0.01549295149743557, 0.015392089728266, 0.015331293572671711]\n",
      "double_extra_production [6.767362356185913e-05, 0.0013344185620630502, 0.0015134783599226518]\n",
      "\t\t2\t\t4\t\t8\n",
      "double_concat_production [0.01576287392526865, 0.01576707442291081, 0.015770515892654657]\n",
      "double_concat_production [7.599685341119766e-05, 0.0010243991128394588, 0.0015089957384469823]\n",
      "\t\t2\t\t4\t\t8\n",
      "double_extra_concat_production [0.017265682108700275, 0.017273544799536467, 0.017285619629547]\n",
      "double_extra_concat_production [6.292108446359634e-05, 0.0012618676417713007, 0.0018168877351508912]\n"
     ]
    }
   ],
   "source": [
    "for model_name, label in labels.items():\n",
    "    print(\"\\t\\t2\\t\\t4\\t\\t8\")\n",
    "    print(model_name, loss[model_name])\n",
    "    print(model_name, loss_dev[model_name])\n"
   ]
  },
  {
   "cell_type": "code",
   "execution_count": 7,
   "metadata": {},
   "outputs": [
    {
     "name": "stdout",
     "output_type": "stream",
     "text": [
      "\t\t2\t\t4\t\t8\n",
      "double_production [0.3223593235015869, 0.3230437785387039, 0.3249813988804817]\n",
      "double_production [0.03228297829627991, 0.0325985867756776, 0.05059214107341371]\n",
      "\t\t2\t\t4\t\t8\n",
      "double_extra_production [0.5343746542930603, 0.5290040746331215, 0.5493813455104828]\n",
      "double_extra_production [0.02246987819671631, 0.04916136620826865, 0.08468398978408738]\n",
      "\t\t2\t\t4\t\t8\n",
      "double_concat_production [0.5111136138439178, 0.5100044012069702, 0.5106570720672607]\n",
      "double_concat_production [0.003421276807785034, 0.02181639956151032, 0.07023796438115588]\n",
      "\t\t2\t\t4\t\t8\n",
      "double_extra_concat_production [0.3840796500444412, 0.3821539655327797, 0.3896446619182825]\n",
      "double_extra_concat_production [0.020798400044441223, 0.041699638875145356, 0.12245895594986815]\n"
     ]
    }
   ],
   "source": [
    "for model_name, label in labels.items():\n",
    "    print(\"\\t\\t2\\t\\t4\\t\\t8\")\n",
    "    print(model_name, precision[model_name])\n",
    "    print(model_name, precision_dev[model_name])"
   ]
  },
  {
   "cell_type": "code",
   "execution_count": 8,
   "metadata": {},
   "outputs": [
    {
     "name": "stdout",
     "output_type": "stream",
     "text": [
      "\t\t2\t\t4\t\t8\n",
      "double_production [0.37515710294246674, 0.3780280277132988, 0.3836948163807392]\n",
      "double_production [0.0450412780046463, 0.04806076339530305, 0.0591181526778477]\n",
      "\t\t2\t\t4\t\t8\n",
      "double_extra_production [0.17046428099274635, 0.1768667921423912, 0.1837964216247201]\n",
      "double_extra_production [0.04594690725207329, 0.05131283542991707, 0.047722247655536475]\n",
      "\t\t2\t\t4\t\t8\n",
      "double_concat_production [0.17469432950019836, 0.17475923895835876, 0.17532279714941978]\n",
      "double_concat_production [0.003844901919364929, 0.014704815777729805, 0.02550345454742709]\n",
      "\t\t2\t\t4\t\t8\n",
      "double_extra_concat_production [0.08198758214712143, 0.082126934081316, 0.0814207918010652]\n",
      "double_extra_concat_production [0.001871749758720398, 0.012490232538506056, 0.02301935308582139]\n"
     ]
    }
   ],
   "source": [
    "for model_name, label in labels.items():\n",
    "    print(\"\\t\\t2\\t\\t4\\t\\t8\")\n",
    "    print(model_name, recall[model_name])\n",
    "    print(model_name, recall_dev[model_name])\n"
   ]
  },
  {
   "cell_type": "code",
   "execution_count": 9,
   "metadata": {},
   "outputs": [
    {
     "name": "stdout",
     "output_type": "stream",
     "text": [
      "\t\t2\t\t4\t\t8\n",
      "double_production [0.3467253705957508, 0.34803254228501007, 0.3510164148871288]\n",
      "double_production [0.0379217558377678, 0.03815958894216728, 0.05113277973585259]\n",
      "\t\t2\t\t4\t\t8\n",
      "double_extra_production [0.2559994378376427, 0.26285553606113865, 0.27217133599420196]\n",
      "double_extra_production [0.05568887874994391, 0.06506823475822889, 0.05902806161253025]\n",
      "\t\t2\t\t4\t\t8\n",
      "double_concat_production [0.2603489382545341, 0.26019872403220956, 0.26030193593885315]\n",
      "double_concat_production [0.003827190675288056, 0.01877588938473243, 0.03438015430505978]\n",
      "\t\t2\t\t4\t\t8\n",
      "double_extra_concat_production [0.13501341634529115, 0.1350553529909555, 0.13375652928020004]\n",
      "double_extra_concat_production [0.0012503188275287125, 0.019098375713953678, 0.036673987912012346]\n"
     ]
    }
   ],
   "source": [
    "for model_name, label in labels.items():\n",
    "    print(\"\\t\\t2\\t\\t4\\t\\t8\")\n",
    "    print(model_name, f1_score[model_name])\n",
    "    print(model_name, f1_score_dev[model_name])"
   ]
  },
  {
   "cell_type": "code",
   "execution_count": 11,
   "metadata": {},
   "outputs": [
    {
     "name": "stdout",
     "output_type": "stream",
     "text": [
      "\t\t2\t\t4\t\t8\n",
      "double_production [0.9479008913040161, 0.9480039775371552, 0.9483500272035599]\n",
      "double_production [0.010629773139953613, 0.01158102574132103, 0.014782952792487354]\n",
      "\t\t2\t\t4\t\t8\n",
      "double_extra_production [0.853668212890625, 0.8527589589357376, 0.8506893515586853]\n",
      "double_extra_production [0.009079933166503906, 0.009280851727143906, 0.021856997866815917]\n",
      "\t\t2\t\t4\t\t8\n",
      "double_concat_production [0.8572530150413513, 0.857427716255188, 0.8572641611099243]\n",
      "double_concat_production [0.008143723011016846, 0.008906820970045495, 0.011693666082939331]\n",
      "\t\t2\t\t4\t\t8\n",
      "double_extra_concat_production [0.8440549969673157, 0.8436242789030075, 0.8433194234967232]\n",
      "double_extra_concat_production [0.006097137928009033, 0.006814688607689127, 0.009482092053713326]\n"
     ]
    }
   ],
   "source": [
    "for model_name, label in labels.items():\n",
    "    print(\"\\t\\t2\\t\\t4\\t\\t8\")\n",
    "    print(model_name, auc[model_name])\n",
    "    print(model_name, auc_dev[model_name])\n"
   ]
  },
  {
   "cell_type": "code",
   "execution_count": null,
   "metadata": {},
   "outputs": [],
   "source": []
  }
 ],
 "metadata": {
  "kernelspec": {
   "display_name": "thesis",
   "language": "python",
   "name": "python3"
  },
  "language_info": {
   "codemirror_mode": {
    "name": "ipython",
    "version": 3
   },
   "file_extension": ".py",
   "mimetype": "text/x-python",
   "name": "python",
   "nbconvert_exporter": "python",
   "pygments_lexer": "ipython3",
   "version": "3.11.2"
  },
  "orig_nbformat": 4
 },
 "nbformat": 4,
 "nbformat_minor": 2
}
