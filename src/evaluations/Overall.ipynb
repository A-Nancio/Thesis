{
 "cells": [
  {
   "cell_type": "markdown",
   "metadata": {},
   "source": [
    "# Overall model comparisson"
   ]
  },
  {
   "cell_type": "markdown",
   "metadata": {},
   "source": [
    "Comparing each model's ROC curve in the same chart"
   ]
  },
  {
   "cell_type": "code",
   "execution_count": null,
   "metadata": {},
   "outputs": [],
   "source": [
    "import sys\n",
    "sys.path.append('../')"
   ]
  },
  {
   "cell_type": "code",
   "execution_count": null,
   "metadata": {},
   "outputs": [],
   "source": [
    "import os\n",
    "os.environ['TF_CPP_MIN_LOG_LEVEL'] = '3' \n",
    "\n",
    "from keras.layers import Dense, Dropout\n",
    "\n",
    "import tensorflow as tf\n",
    "import numpy as np\n",
    "from tqdm import tqdm\n",
    "from keras.layers import Dense, Dropout, GRU\n",
    "\n",
    "\n",
    "import tensorflow as tf\n",
    "import numpy as np\n",
    "\n",
    "from machine_learning.models import DoubleStateProduction, FeedzaiProduction\n",
    "from data_processing.batch_generator import load_test_set\n",
    "tf.random.set_seed(42)\n",
    "\n",
    "class Stateless(tf.keras.Model):\n",
    "    def __init__(self, *args, **kwargs):\n",
    "        super().__init__(*args, **kwargs)\n",
    "        self.layer1 = Dense(units=128, activation='relu')    #NOTE change for sync to evaluate when synchronizing\n",
    "        self.layer2 = Dense(units=128, activation='relu')\n",
    "        self.dropout = Dropout(0.2)\n",
    "        self.layer3 = Dense(64, activation='relu')\n",
    "        self.out = Dense(1,  activation=\"sigmoid\")\n",
    "\n",
    "    def call(self, inputs, training=None, mask=None):\n",
    "        var = self.layer1(inputs)\n",
    "        var = self.layer2(var)\n",
    "        var = self.dropout(var)\n",
    "        var = self.layer3(var)\n",
    "        out = self.out(var)\n",
    "        return out"
   ]
  },
  {
   "cell_type": "code",
   "execution_count": null,
   "metadata": {},
   "outputs": [],
   "source": [
    "double_model = DoubleStateProduction()\n",
    "feedzai_model = FeedzaiProduction()\n",
    "stateless_model = Stateless()\n",
    "model_list = (double_model, feedzai_model, stateless_model)"
   ]
  }
 ],
 "metadata": {
  "language_info": {
   "name": "python"
  },
  "orig_nbformat": 4
 },
 "nbformat": 4,
 "nbformat_minor": 2
}
