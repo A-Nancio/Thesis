{
 "cells": [
  {
   "cell_type": "markdown",
   "metadata": {},
   "source": [
    "# Evaluation Baseline Model"
   ]
  },
  {
   "cell_type": "markdown",
   "metadata": {},
   "source": [
    "import statements:"
   ]
  },
  {
   "cell_type": "code",
   "execution_count": 1,
   "metadata": {},
   "outputs": [],
   "source": [
    "import os\n",
    "os.environ['TF_CPP_MIN_LOG_LEVEL'] = '3' \n",
    "\n",
    "from keras.layers import Dense, Dropout\n",
    "\n",
    "import tensorflow as tf\n",
    "import numpy as np"
   ]
  },
  {
   "cell_type": "markdown",
   "metadata": {},
   "source": [
    "define model:"
   ]
  },
  {
   "cell_type": "code",
   "execution_count": 2,
   "metadata": {},
   "outputs": [],
   "source": [
    "class Stateless(tf.keras.Model):\n",
    "    def __init__(self, *args, **kwargs):\n",
    "        super().__init__(*args, **kwargs)\n",
    "        self.layer1 = Dense(units=128, activation='relu')    #NOTE change for sync to evaluate when synchronizing\n",
    "        self.layer2 = Dense(units=128, activation='relu')\n",
    "        self.dropout = Dropout(0.2)\n",
    "        self.layer3 = Dense(64, activation='relu')\n",
    "        self.out = Dense(1,  activation=\"sigmoid\")\n",
    "\n",
    "    def call(self, inputs, training=None, mask=None):\n",
    "        var = self.layer1(inputs)\n",
    "        var = self.layer2(var)\n",
    "        var = self.dropout(var)\n",
    "        var = self.layer3(var)\n",
    "        out = self.out(var)\n",
    "        return out\n",
    "    \n",
    "model = Stateless()"
   ]
  },
  {
   "cell_type": "code",
   "execution_count": 3,
   "metadata": {},
   "outputs": [],
   "source": [
    "model.compile(loss=tf.keras.losses.BinaryCrossentropy(),\n",
    "        optimizer=tf.keras.optimizers.Adam(),\n",
    "        metrics=[\n",
    "            tf.keras.metrics.BinaryAccuracy(),\n",
    "            tf.keras.metrics.TruePositives(), \n",
    "            tf.keras.metrics.TrueNegatives(),\n",
    "            tf.keras.metrics.FalsePositives(), \n",
    "            tf.keras.metrics.FalseNegatives(),\n",
    "            tf.keras.metrics.Precision(),\n",
    "            tf.keras.metrics.Recall(),\n",
    "            tf.keras.metrics.F1Score()])"
   ]
  },
  {
   "cell_type": "markdown",
   "metadata": {},
   "source": [
    "### Dataset"
   ]
  },
  {
   "cell_type": "code",
   "execution_count": 4,
   "metadata": {},
   "outputs": [],
   "source": [
    "path = './data'\n",
    "BATCH_SIZE = 1024"
   ]
  },
  {
   "cell_type": "code",
   "execution_count": 5,
   "metadata": {},
   "outputs": [],
   "source": [
    "transactions = np.load(f'{path}/train/transactions.npy')\n",
    "labels = np.load(f'{path}/train/all_transaction_labels.npy').astype(float)\n",
    "train_set = tf.data.Dataset.from_tensor_slices((transactions, labels)).batch(BATCH_SIZE)\n",
    "\n",
    "\n",
    "transactions = np.load(f'{path}/test/transactions.npy')\n",
    "labels = np.load(f'{path}/test/all_transaction_labels.npy').astype(float)\n",
    "test_set = tf.data.Dataset.from_tensor_slices((transactions, labels)).batch(BATCH_SIZE)"
   ]
  },
  {
   "cell_type": "markdown",
   "metadata": {},
   "source": [
    "### Train model"
   ]
  },
  {
   "cell_type": "code",
   "execution_count": 6,
   "metadata": {},
   "outputs": [],
   "source": [
    "num_epochs = 20\n",
    "results = []"
   ]
  },
  {
   "cell_type": "code",
   "execution_count": 7,
   "metadata": {},
   "outputs": [
    {
     "name": "stdout",
     "output_type": "stream",
     "text": [
      "[EPOCH 0]\n",
      "543/543 [==============================] - 1s 1ms/step - loss: 0.0352 - binary_accuracy: 0.9961 - true_positives: 0.0000e+00 - true_negatives: 553574.0000 - false_positives: 0.0000e+00 - false_negatives: 2145.0000 - precision: 0.0000e+00 - recall: 0.0000e+00 - f1_score: 0.0077\n",
      "[EPOCH 1]\n",
      "543/543 [==============================] - 1s 1ms/step - loss: 0.0212 - binary_accuracy: 0.9961 - true_positives: 0.0000e+00 - true_negatives: 553574.0000 - false_positives: 0.0000e+00 - false_negatives: 2145.0000 - precision: 0.0000e+00 - recall: 0.0000e+00 - f1_score: 0.0077\n",
      "[EPOCH 2]\n",
      "543/543 [==============================] - 1s 1ms/step - loss: 0.0185 - binary_accuracy: 0.9961 - true_positives: 0.0000e+00 - true_negatives: 553574.0000 - false_positives: 0.0000e+00 - false_negatives: 2145.0000 - precision: 0.0000e+00 - recall: 0.0000e+00 - f1_score: 0.0077\n",
      "[EPOCH 3]\n",
      "543/543 [==============================] - 1s 1ms/step - loss: 0.0200 - binary_accuracy: 0.9962 - true_positives: 389.0000 - true_negatives: 553223.0000 - false_positives: 351.0000 - false_negatives: 1756.0000 - precision: 0.5257 - recall: 0.1814 - f1_score: 0.0077\n",
      "[EPOCH 4]\n",
      "543/543 [==============================] - 1s 980us/step - loss: 0.0196 - binary_accuracy: 0.9961 - true_positives: 0.0000e+00 - true_negatives: 553574.0000 - false_positives: 0.0000e+00 - false_negatives: 2145.0000 - precision: 0.0000e+00 - recall: 0.0000e+00 - f1_score: 0.0077\n",
      "[EPOCH 5]\n",
      "543/543 [==============================] - 1s 996us/step - loss: 0.0197 - binary_accuracy: 0.9961 - true_positives: 0.0000e+00 - true_negatives: 553568.0000 - false_positives: 6.0000 - false_negatives: 2145.0000 - precision: 0.0000e+00 - recall: 0.0000e+00 - f1_score: 0.0077\n",
      "[EPOCH 6]\n",
      "543/543 [==============================] - 1s 1ms/step - loss: 0.0195 - binary_accuracy: 0.9961 - true_positives: 515.0000 - true_negatives: 553051.0000 - false_positives: 523.0000 - false_negatives: 1630.0000 - precision: 0.4961 - recall: 0.2401 - f1_score: 0.0077\n",
      "[EPOCH 7]\n",
      "543/543 [==============================] - 1s 1ms/step - loss: 0.0179 - binary_accuracy: 0.9959 - true_positives: 551.0000 - true_negatives: 552879.0000 - false_positives: 695.0000 - false_negatives: 1594.0000 - precision: 0.4422 - recall: 0.2569 - f1_score: 0.0077\n",
      "[EPOCH 8]\n",
      "543/543 [==============================] - 1s 1ms/step - loss: 0.0191 - binary_accuracy: 0.9963 - true_positives: 543.0000 - true_negatives: 553103.0000 - false_positives: 471.0000 - false_negatives: 1602.0000 - precision: 0.5355 - recall: 0.2531 - f1_score: 0.0077\n",
      "[EPOCH 9]\n",
      "543/543 [==============================] - 1s 1ms/step - loss: 0.0218 - binary_accuracy: 0.9959 - true_positives: 766.0000 - true_negatives: 552673.0000 - false_positives: 901.0000 - false_negatives: 1379.0000 - precision: 0.4595 - recall: 0.3571 - f1_score: 0.0077\n",
      "[EPOCH 10]\n",
      "543/543 [==============================] - 1s 1ms/step - loss: 0.0216 - binary_accuracy: 0.9962 - true_positives: 452.0000 - true_negatives: 553161.0000 - false_positives: 413.0000 - false_negatives: 1693.0000 - precision: 0.5225 - recall: 0.2107 - f1_score: 0.0077\n",
      "[EPOCH 11]\n",
      "543/543 [==============================] - 1s 2ms/step - loss: 0.0213 - binary_accuracy: 0.9962 - true_positives: 883.0000 - true_negatives: 552752.0000 - false_positives: 822.0000 - false_negatives: 1262.0000 - precision: 0.5179 - recall: 0.4117 - f1_score: 0.0077\n",
      "[EPOCH 12]\n",
      "543/543 [==============================] - 1s 2ms/step - loss: 0.0204 - binary_accuracy: 0.9968 - true_positives: 636.0000 - true_negatives: 553296.0000 - false_positives: 278.0000 - false_negatives: 1509.0000 - precision: 0.6958 - recall: 0.2965 - f1_score: 0.0077\n",
      "[EPOCH 13]\n",
      "543/543 [==============================] - 1s 1ms/step - loss: 0.0207 - binary_accuracy: 0.9968 - true_positives: 699.0000 - true_negatives: 553231.0000 - false_positives: 343.0000 - false_negatives: 1446.0000 - precision: 0.6708 - recall: 0.3259 - f1_score: 0.0077\n",
      "[EPOCH 14]\n",
      "543/543 [==============================] - 1s 1ms/step - loss: 0.0231 - binary_accuracy: 0.9964 - true_positives: 820.0000 - true_negatives: 552909.0000 - false_positives: 665.0000 - false_negatives: 1325.0000 - precision: 0.5522 - recall: 0.3823 - f1_score: 0.0077\n",
      "[EPOCH 15]\n",
      "543/543 [==============================] - 1s 1ms/step - loss: 0.0188 - binary_accuracy: 0.9969 - true_positives: 599.0000 - true_negatives: 553372.0000 - false_positives: 202.0000 - false_negatives: 1546.0000 - precision: 0.7478 - recall: 0.2793 - f1_score: 0.0077\n",
      "[EPOCH 16]\n",
      "543/543 [==============================] - 1s 1ms/step - loss: 0.0206 - binary_accuracy: 0.9966 - true_positives: 872.0000 - true_negatives: 552978.0000 - false_positives: 596.0000 - false_negatives: 1273.0000 - precision: 0.5940 - recall: 0.4065 - f1_score: 0.0077\n",
      "[EPOCH 17]\n",
      "543/543 [==============================] - 1s 1ms/step - loss: 0.0200 - binary_accuracy: 0.9969 - true_positives: 817.0000 - true_negatives: 553179.0000 - false_positives: 395.0000 - false_negatives: 1328.0000 - precision: 0.6741 - recall: 0.3809 - f1_score: 0.0077\n",
      "[EPOCH 18]\n",
      "543/543 [==============================] - 1s 1ms/step - loss: 0.0177 - binary_accuracy: 0.9971 - true_positives: 785.0000 - true_negatives: 553302.0000 - false_positives: 272.0000 - false_negatives: 1360.0000 - precision: 0.7427 - recall: 0.3660 - f1_score: 0.0077\n",
      "[EPOCH 19]\n",
      "543/543 [==============================] - 1s 1ms/step - loss: 0.0199 - binary_accuracy: 0.9969 - true_positives: 924.0000 - true_negatives: 553085.0000 - false_positives: 489.0000 - false_negatives: 1221.0000 - precision: 0.6539 - recall: 0.4308 - f1_score: 0.0077\n"
     ]
    }
   ],
   "source": [
    "for epoch in range(num_epochs):\n",
    "    print(f\"[EPOCH {epoch}]\")\n",
    "    with tf.device(\"/gpu:0\"):\n",
    "        model.fit(train_set, verbose='2', shuffle=True)\n",
    "        results.append(model.evaluate(test_set, return_dict=True))\n",
    "\n",
    "        weight_path = f'machine_learning/saved_models/baseline/Baseline_{epoch}.keras'\n",
    "        model.save_weights(\n",
    "            filepath=weight_path,\n",
    "            save_format='h5'\n",
    "        )\n",
    "        "
   ]
  },
  {
   "cell_type": "code",
   "execution_count": 8,
   "metadata": {},
   "outputs": [
    {
     "data": {
      "text/html": [
       "<div>\n",
       "<style scoped>\n",
       "    .dataframe tbody tr th:only-of-type {\n",
       "        vertical-align: middle;\n",
       "    }\n",
       "\n",
       "    .dataframe tbody tr th {\n",
       "        vertical-align: top;\n",
       "    }\n",
       "\n",
       "    .dataframe thead th {\n",
       "        text-align: right;\n",
       "    }\n",
       "</style>\n",
       "<table border=\"1\" class=\"dataframe\">\n",
       "  <thead>\n",
       "    <tr style=\"text-align: right;\">\n",
       "      <th></th>\n",
       "      <th>loss</th>\n",
       "      <th>binary_accuracy</th>\n",
       "      <th>true_positives</th>\n",
       "      <th>true_negatives</th>\n",
       "      <th>false_positives</th>\n",
       "      <th>false_negatives</th>\n",
       "      <th>precision</th>\n",
       "      <th>recall</th>\n",
       "      <th>f1_score</th>\n",
       "    </tr>\n",
       "  </thead>\n",
       "  <tbody>\n",
       "    <tr>\n",
       "      <th>0</th>\n",
       "      <td>0.035246</td>\n",
       "      <td>0.996140</td>\n",
       "      <td>0.0</td>\n",
       "      <td>553574.0</td>\n",
       "      <td>0.0</td>\n",
       "      <td>2145.0</td>\n",
       "      <td>0.000000</td>\n",
       "      <td>0.000000</td>\n",
       "      <td>[0.007690046]</td>\n",
       "    </tr>\n",
       "    <tr>\n",
       "      <th>1</th>\n",
       "      <td>0.021250</td>\n",
       "      <td>0.996140</td>\n",
       "      <td>0.0</td>\n",
       "      <td>553574.0</td>\n",
       "      <td>0.0</td>\n",
       "      <td>2145.0</td>\n",
       "      <td>0.000000</td>\n",
       "      <td>0.000000</td>\n",
       "      <td>[0.007690046]</td>\n",
       "    </tr>\n",
       "    <tr>\n",
       "      <th>2</th>\n",
       "      <td>0.018490</td>\n",
       "      <td>0.996140</td>\n",
       "      <td>0.0</td>\n",
       "      <td>553574.0</td>\n",
       "      <td>0.0</td>\n",
       "      <td>2145.0</td>\n",
       "      <td>0.000000</td>\n",
       "      <td>0.000000</td>\n",
       "      <td>[0.007690046]</td>\n",
       "    </tr>\n",
       "    <tr>\n",
       "      <th>3</th>\n",
       "      <td>0.020034</td>\n",
       "      <td>0.996208</td>\n",
       "      <td>389.0</td>\n",
       "      <td>553223.0</td>\n",
       "      <td>351.0</td>\n",
       "      <td>1756.0</td>\n",
       "      <td>0.525676</td>\n",
       "      <td>0.181352</td>\n",
       "      <td>[0.007690046]</td>\n",
       "    </tr>\n",
       "    <tr>\n",
       "      <th>4</th>\n",
       "      <td>0.019635</td>\n",
       "      <td>0.996140</td>\n",
       "      <td>0.0</td>\n",
       "      <td>553574.0</td>\n",
       "      <td>0.0</td>\n",
       "      <td>2145.0</td>\n",
       "      <td>0.000000</td>\n",
       "      <td>0.000000</td>\n",
       "      <td>[0.007690046]</td>\n",
       "    </tr>\n",
       "    <tr>\n",
       "      <th>5</th>\n",
       "      <td>0.019670</td>\n",
       "      <td>0.996129</td>\n",
       "      <td>0.0</td>\n",
       "      <td>553568.0</td>\n",
       "      <td>6.0</td>\n",
       "      <td>2145.0</td>\n",
       "      <td>0.000000</td>\n",
       "      <td>0.000000</td>\n",
       "      <td>[0.007690046]</td>\n",
       "    </tr>\n",
       "    <tr>\n",
       "      <th>6</th>\n",
       "      <td>0.019548</td>\n",
       "      <td>0.996126</td>\n",
       "      <td>515.0</td>\n",
       "      <td>553051.0</td>\n",
       "      <td>523.0</td>\n",
       "      <td>1630.0</td>\n",
       "      <td>0.496146</td>\n",
       "      <td>0.240093</td>\n",
       "      <td>[0.007690046]</td>\n",
       "    </tr>\n",
       "    <tr>\n",
       "      <th>7</th>\n",
       "      <td>0.017911</td>\n",
       "      <td>0.995881</td>\n",
       "      <td>551.0</td>\n",
       "      <td>552879.0</td>\n",
       "      <td>695.0</td>\n",
       "      <td>1594.0</td>\n",
       "      <td>0.442215</td>\n",
       "      <td>0.256876</td>\n",
       "      <td>[0.007690046]</td>\n",
       "    </tr>\n",
       "    <tr>\n",
       "      <th>8</th>\n",
       "      <td>0.019123</td>\n",
       "      <td>0.996270</td>\n",
       "      <td>543.0</td>\n",
       "      <td>553103.0</td>\n",
       "      <td>471.0</td>\n",
       "      <td>1602.0</td>\n",
       "      <td>0.535503</td>\n",
       "      <td>0.253147</td>\n",
       "      <td>[0.007690046]</td>\n",
       "    </tr>\n",
       "    <tr>\n",
       "      <th>9</th>\n",
       "      <td>0.021792</td>\n",
       "      <td>0.995897</td>\n",
       "      <td>766.0</td>\n",
       "      <td>552673.0</td>\n",
       "      <td>901.0</td>\n",
       "      <td>1379.0</td>\n",
       "      <td>0.459508</td>\n",
       "      <td>0.357110</td>\n",
       "      <td>[0.007690046]</td>\n",
       "    </tr>\n",
       "    <tr>\n",
       "      <th>10</th>\n",
       "      <td>0.021635</td>\n",
       "      <td>0.996210</td>\n",
       "      <td>452.0</td>\n",
       "      <td>553161.0</td>\n",
       "      <td>413.0</td>\n",
       "      <td>1693.0</td>\n",
       "      <td>0.522543</td>\n",
       "      <td>0.210723</td>\n",
       "      <td>[0.007690046]</td>\n",
       "    </tr>\n",
       "    <tr>\n",
       "      <th>11</th>\n",
       "      <td>0.021325</td>\n",
       "      <td>0.996250</td>\n",
       "      <td>883.0</td>\n",
       "      <td>552752.0</td>\n",
       "      <td>822.0</td>\n",
       "      <td>1262.0</td>\n",
       "      <td>0.517889</td>\n",
       "      <td>0.411655</td>\n",
       "      <td>[0.007690046]</td>\n",
       "    </tr>\n",
       "    <tr>\n",
       "      <th>12</th>\n",
       "      <td>0.020421</td>\n",
       "      <td>0.996784</td>\n",
       "      <td>636.0</td>\n",
       "      <td>553296.0</td>\n",
       "      <td>278.0</td>\n",
       "      <td>1509.0</td>\n",
       "      <td>0.695842</td>\n",
       "      <td>0.296503</td>\n",
       "      <td>[0.007690046]</td>\n",
       "    </tr>\n",
       "    <tr>\n",
       "      <th>13</th>\n",
       "      <td>0.020673</td>\n",
       "      <td>0.996781</td>\n",
       "      <td>699.0</td>\n",
       "      <td>553231.0</td>\n",
       "      <td>343.0</td>\n",
       "      <td>1446.0</td>\n",
       "      <td>0.670825</td>\n",
       "      <td>0.325874</td>\n",
       "      <td>[0.007690046]</td>\n",
       "    </tr>\n",
       "    <tr>\n",
       "      <th>14</th>\n",
       "      <td>0.023100</td>\n",
       "      <td>0.996419</td>\n",
       "      <td>820.0</td>\n",
       "      <td>552909.0</td>\n",
       "      <td>665.0</td>\n",
       "      <td>1325.0</td>\n",
       "      <td>0.552189</td>\n",
       "      <td>0.382284</td>\n",
       "      <td>[0.007690046]</td>\n",
       "    </tr>\n",
       "    <tr>\n",
       "      <th>15</th>\n",
       "      <td>0.018811</td>\n",
       "      <td>0.996855</td>\n",
       "      <td>599.0</td>\n",
       "      <td>553372.0</td>\n",
       "      <td>202.0</td>\n",
       "      <td>1546.0</td>\n",
       "      <td>0.747815</td>\n",
       "      <td>0.279254</td>\n",
       "      <td>[0.007690046]</td>\n",
       "    </tr>\n",
       "    <tr>\n",
       "      <th>16</th>\n",
       "      <td>0.020582</td>\n",
       "      <td>0.996637</td>\n",
       "      <td>872.0</td>\n",
       "      <td>552978.0</td>\n",
       "      <td>596.0</td>\n",
       "      <td>1273.0</td>\n",
       "      <td>0.594005</td>\n",
       "      <td>0.406527</td>\n",
       "      <td>[0.007690046]</td>\n",
       "    </tr>\n",
       "    <tr>\n",
       "      <th>17</th>\n",
       "      <td>0.019982</td>\n",
       "      <td>0.996899</td>\n",
       "      <td>817.0</td>\n",
       "      <td>553179.0</td>\n",
       "      <td>395.0</td>\n",
       "      <td>1328.0</td>\n",
       "      <td>0.674092</td>\n",
       "      <td>0.380886</td>\n",
       "      <td>[0.007690046]</td>\n",
       "    </tr>\n",
       "    <tr>\n",
       "      <th>18</th>\n",
       "      <td>0.017735</td>\n",
       "      <td>0.997063</td>\n",
       "      <td>785.0</td>\n",
       "      <td>553302.0</td>\n",
       "      <td>272.0</td>\n",
       "      <td>1360.0</td>\n",
       "      <td>0.742668</td>\n",
       "      <td>0.365967</td>\n",
       "      <td>[0.007690046]</td>\n",
       "    </tr>\n",
       "    <tr>\n",
       "      <th>19</th>\n",
       "      <td>0.019882</td>\n",
       "      <td>0.996923</td>\n",
       "      <td>924.0</td>\n",
       "      <td>553085.0</td>\n",
       "      <td>489.0</td>\n",
       "      <td>1221.0</td>\n",
       "      <td>0.653928</td>\n",
       "      <td>0.430769</td>\n",
       "      <td>[0.007690046]</td>\n",
       "    </tr>\n",
       "  </tbody>\n",
       "</table>\n",
       "</div>"
      ],
      "text/plain": [
       "        loss  binary_accuracy  true_positives  true_negatives   \n",
       "0   0.035246         0.996140             0.0        553574.0  \\\n",
       "1   0.021250         0.996140             0.0        553574.0   \n",
       "2   0.018490         0.996140             0.0        553574.0   \n",
       "3   0.020034         0.996208           389.0        553223.0   \n",
       "4   0.019635         0.996140             0.0        553574.0   \n",
       "5   0.019670         0.996129             0.0        553568.0   \n",
       "6   0.019548         0.996126           515.0        553051.0   \n",
       "7   0.017911         0.995881           551.0        552879.0   \n",
       "8   0.019123         0.996270           543.0        553103.0   \n",
       "9   0.021792         0.995897           766.0        552673.0   \n",
       "10  0.021635         0.996210           452.0        553161.0   \n",
       "11  0.021325         0.996250           883.0        552752.0   \n",
       "12  0.020421         0.996784           636.0        553296.0   \n",
       "13  0.020673         0.996781           699.0        553231.0   \n",
       "14  0.023100         0.996419           820.0        552909.0   \n",
       "15  0.018811         0.996855           599.0        553372.0   \n",
       "16  0.020582         0.996637           872.0        552978.0   \n",
       "17  0.019982         0.996899           817.0        553179.0   \n",
       "18  0.017735         0.997063           785.0        553302.0   \n",
       "19  0.019882         0.996923           924.0        553085.0   \n",
       "\n",
       "    false_positives  false_negatives  precision    recall       f1_score  \n",
       "0               0.0           2145.0   0.000000  0.000000  [0.007690046]  \n",
       "1               0.0           2145.0   0.000000  0.000000  [0.007690046]  \n",
       "2               0.0           2145.0   0.000000  0.000000  [0.007690046]  \n",
       "3             351.0           1756.0   0.525676  0.181352  [0.007690046]  \n",
       "4               0.0           2145.0   0.000000  0.000000  [0.007690046]  \n",
       "5               6.0           2145.0   0.000000  0.000000  [0.007690046]  \n",
       "6             523.0           1630.0   0.496146  0.240093  [0.007690046]  \n",
       "7             695.0           1594.0   0.442215  0.256876  [0.007690046]  \n",
       "8             471.0           1602.0   0.535503  0.253147  [0.007690046]  \n",
       "9             901.0           1379.0   0.459508  0.357110  [0.007690046]  \n",
       "10            413.0           1693.0   0.522543  0.210723  [0.007690046]  \n",
       "11            822.0           1262.0   0.517889  0.411655  [0.007690046]  \n",
       "12            278.0           1509.0   0.695842  0.296503  [0.007690046]  \n",
       "13            343.0           1446.0   0.670825  0.325874  [0.007690046]  \n",
       "14            665.0           1325.0   0.552189  0.382284  [0.007690046]  \n",
       "15            202.0           1546.0   0.747815  0.279254  [0.007690046]  \n",
       "16            596.0           1273.0   0.594005  0.406527  [0.007690046]  \n",
       "17            395.0           1328.0   0.674092  0.380886  [0.007690046]  \n",
       "18            272.0           1360.0   0.742668  0.365967  [0.007690046]  \n",
       "19            489.0           1221.0   0.653928  0.430769  [0.007690046]  "
      ]
     },
     "execution_count": 8,
     "metadata": {},
     "output_type": "execute_result"
    }
   ],
   "source": [
    "import pandas as pd\n",
    "\n",
    "pd.DataFrame(results)"
   ]
  },
  {
   "cell_type": "markdown",
   "metadata": {},
   "source": [
    "Looking at the metrics, the one which yielded the best results was at **epoch 16** with the best balance between precision and recall:"
   ]
  },
  {
   "cell_type": "markdown",
   "metadata": {},
   "source": [
    "### Confusion Matrix"
   ]
  },
  {
   "cell_type": "code",
   "execution_count": 22,
   "metadata": {},
   "outputs": [],
   "source": [
    "inputs = [[553085/(553085+272), 272/(553085+272)], [1360/(785+1360), 785/(785+1360)]]"
   ]
  },
  {
   "cell_type": "code",
   "execution_count": 23,
   "metadata": {},
   "outputs": [
    {
     "data": {
      "text/plain": [
       "[[0.9995084547588627, 0.0004915452411372766],\n",
       " [0.634032634032634, 0.36596736596736595]]"
      ]
     },
     "execution_count": 23,
     "metadata": {},
     "output_type": "execute_result"
    }
   ],
   "source": [
    "inputs"
   ]
  },
  {
   "cell_type": "code",
   "execution_count": 24,
   "metadata": {},
   "outputs": [
    {
     "data": {
      "image/png": "[encoded data removed]",
      "text/plain": [
       "<Figure size 640x480 with 2 Axes>"
      ]
     },
     "metadata": {},
     "output_type": "display_data"
    }
   ],
   "source": [
    "import seaborn as sns\n",
    "import matplotlib.pyplot as plt\n",
    "\n",
    "# Plot the confusion matrix using a heatmap\n",
    "sns.heatmap(inputs, annot=True, cmap='Blues')\n",
    "plt.xlabel('Predicted Labels')\n",
    "plt.ylabel('True Labels')\n",
    "plt.show()\n"
   ]
  },
  {
   "cell_type": "code",
   "execution_count": 25,
   "metadata": {},
   "outputs": [
    {
     "name": "stdout",
     "output_type": "stream",
     "text": [
      "17367/17367 [==============================] - 7s 386us/step\n"
     ]
    }
   ],
   "source": [
    "y_pred_proba = model.predict(transactions)"
   ]
  },
  {
   "cell_type": "code",
   "execution_count": 29,
   "metadata": {},
   "outputs": [
    {
     "data": {
      "image/png": "[encoded data removed]",
      "text/plain": [
       "<Figure size 640x480 with 1 Axes>"
      ]
     },
     "metadata": {},
     "output_type": "display_data"
    }
   ],
   "source": [
    "from sklearn.metrics import roc_curve, auc\n",
    "\n",
    "# Calculate FPR, TPR, and thresholds using NumPy\n",
    "fpr, tpr, thresholds = roc_curve(labels, y_pred_proba)\n",
    "\n",
    "# Calculate AUC using scikit-learn\n",
    "auc_score = auc(fpr, tpr)\n",
    "\n",
    "# Plot ROC curve using Matplotlib\n",
    "plt.plot(fpr, tpr, label='ROC curve (area = %0.2f)' % auc_score)\n",
    "plt.plot([0, 1], [0, 1], 'k--')\n",
    "plt.xlim([0.0, 1.0])\n",
    "plt.ylim([0.0, 1.05])\n",
    "plt.xlabel('False Positive Rate')\n",
    "plt.ylabel('True Positive Rate')\n",
    "plt.title('Receiver Operating Characteristic')\n",
    "plt.legend(loc=\"lower right\")\n",
    "plt.show()\n"
   ]
  },
  {
   "cell_type": "code",
   "execution_count": null,
   "metadata": {},
   "outputs": [],
   "source": []
  }
 ],
 "metadata": {
  "kernelspec": {
   "display_name": "thesis",
   "language": "python",
   "name": "python3"
  },
  "language_info": {
   "codemirror_mode": {
    "name": "ipython",
    "version": 3
   },
   "file_extension": ".py",
   "mimetype": "text/x-python",
   "name": "python",
   "nbconvert_exporter": "python",
   "pygments_lexer": "ipython3",
   "version": "3.11.2"
  },
  "orig_nbformat": 4
 },
 "nbformat": 4,
 "nbformat_minor": 2
}
